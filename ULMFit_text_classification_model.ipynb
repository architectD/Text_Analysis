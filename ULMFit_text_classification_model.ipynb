{
 "cells": [
  {
   "cell_type": "markdown",
   "metadata": {
    "colab_type": "text",
    "id": "El8wnBFSAoXn"
   },
   "source": [
    "# ULMFIT"
   ]
  },
  {
   "cell_type": "markdown",
   "metadata": {
    "colab": {
     "base_uri": "https://localhost:8080/",
     "height": 35
    },
    "colab_type": "code",
    "id": "6XsS6dSwAsMx",
    "outputId": "19ffc04c-f01c-4274-c7c1-1510bdbdb726"
   },
   "source": [
    "%load_ext autoreload\n",
    "%autoreload 2\n",
    "import pandas as pd\n",
    "import numpy as np\n",
    "import re\n",
    "import statistics\n",
    "import fastai\n",
    "print('fast.ai version is:', fastai.__version__)\n",
    "\n",
    "from fastai import *\n",
    "from fastai.text import *\n",
    "from sklearn.model_selection import train_test_split\n",
    "path = ''"
   ]
  },
  {
   "cell_type": "markdown",
   "metadata": {},
   "source": [
    "## Подготовим датасет"
   ]
  },
  {
   "cell_type": "code",
   "execution_count": null,
   "metadata": {
    "colab": {},
    "colab_type": "code",
    "id": "ticIkVy_SAtH"
   },
   "outputs": [],
   "source": [
    "df_train=pd.DataFrame(columns=['Text', 'Label'])\n",
    "df_test=pd.DataFrame(columns=['Text', 'Label'])\n",
    "df_val=pd.DataFrame(columns=['Text', 'Label'])\n",
    "\n",
    "\n",
    "label_lst = sorted(data['label'].value_counts().index.to_list())\n",
    "#decoder = dict(enumerate(label_lst))\n",
    "encoder = dict((j, i) for i, j in enumerate(label_lst))\n",
    "\n",
    "X, Y = data['text'], to_categorical(data['label'].replace(encoder))\n",
    "df_train['Text'], df_test['Text'], df_train['Label'], df_test['Label'] = train_test_split(X, Y, test_size=0.2, random_state=1)\n",
    "\n",
    "df_train, df_val = train_test_split(df_train, test_size=0.2, random_state=1)"
   ]
  },
  {
   "cell_type": "code",
   "execution_count": null,
   "metadata": {
    "colab": {
     "base_uri": "https://localhost:8080/",
     "height": 135
    },
    "colab_type": "code",
    "id": "54BvC_oQSz6l",
    "outputId": "e3ffeb66-4ac7-4058-c6ba-fbe9a39c4580"
   },
   "outputs": [
    {
     "data": {
      "text/html": [
       "<div>\n",
       "<style scoped>\n",
       "    .dataframe tbody tr th:only-of-type {\n",
       "        vertical-align: middle;\n",
       "    }\n",
       "\n",
       "    .dataframe tbody tr th {\n",
       "        vertical-align: top;\n",
       "    }\n",
       "\n",
       "    .dataframe thead th {\n",
       "        text-align: right;\n",
       "    }\n",
       "</style>\n",
       "<table border=\"1\" class=\"dataframe\">\n",
       "  <thead>\n",
       "    <tr style=\"text-align: right;\">\n",
       "      <th></th>\n",
       "      <th>Text</th>\n",
       "    </tr>\n",
       "    <tr>\n",
       "      <th>Label</th>\n",
       "      <th></th>\n",
       "    </tr>\n",
       "  </thead>\n",
       "  <tbody>\n",
       "    <tr>\n",
       "      <th>0.0</th>\n",
       "      <td>1924</td>\n",
       "    </tr>\n",
       "    <tr>\n",
       "      <th>1.0</th>\n",
       "      <td>632</td>\n",
       "    </tr>\n",
       "  </tbody>\n",
       "</table>\n",
       "</div>"
      ],
      "text/plain": [
       "       Text\n",
       "Label      \n",
       "0.0    1924\n",
       "1.0     632"
      ]
     },
     "execution_count": 46,
     "metadata": {
      "tags": []
     },
     "output_type": "execute_result"
    }
   ],
   "source": [
    "df_train.groupby('Label').count()"
   ]
  },
  {
   "cell_type": "code",
   "execution_count": null,
   "metadata": {
    "colab": {
     "base_uri": "https://localhost:8080/",
     "height": 135
    },
    "colab_type": "code",
    "id": "6ZALqmz3S2Mc",
    "outputId": "e79e4f56-da98-4f55-8dba-5338580800a0"
   },
   "outputs": [
    {
     "data": {
      "text/html": [
       "<div>\n",
       "<style scoped>\n",
       "    .dataframe tbody tr th:only-of-type {\n",
       "        vertical-align: middle;\n",
       "    }\n",
       "\n",
       "    .dataframe tbody tr th {\n",
       "        vertical-align: top;\n",
       "    }\n",
       "\n",
       "    .dataframe thead th {\n",
       "        text-align: right;\n",
       "    }\n",
       "</style>\n",
       "<table border=\"1\" class=\"dataframe\">\n",
       "  <thead>\n",
       "    <tr style=\"text-align: right;\">\n",
       "      <th></th>\n",
       "      <th>Text</th>\n",
       "    </tr>\n",
       "    <tr>\n",
       "      <th>Label</th>\n",
       "      <th></th>\n",
       "    </tr>\n",
       "  </thead>\n",
       "  <tbody>\n",
       "    <tr>\n",
       "      <th>0.0</th>\n",
       "      <td>483</td>\n",
       "    </tr>\n",
       "    <tr>\n",
       "      <th>1.0</th>\n",
       "      <td>157</td>\n",
       "    </tr>\n",
       "  </tbody>\n",
       "</table>\n",
       "</div>"
      ],
      "text/plain": [
       "       Text\n",
       "Label      \n",
       "0.0     483\n",
       "1.0     157"
      ]
     },
     "execution_count": 47,
     "metadata": {
      "tags": []
     },
     "output_type": "execute_result"
    }
   ],
   "source": [
    "df_val.groupby('Label').count()"
   ]
  },
  {
   "cell_type": "code",
   "execution_count": null,
   "metadata": {
    "colab": {
     "base_uri": "https://localhost:8080/",
     "height": 135
    },
    "colab_type": "code",
    "id": "97oZMrJfS39Z",
    "outputId": "7b5efd83-4054-4b54-ea40-f426929ef40c"
   },
   "outputs": [
    {
     "data": {
      "text/html": [
       "<div>\n",
       "<style scoped>\n",
       "    .dataframe tbody tr th:only-of-type {\n",
       "        vertical-align: middle;\n",
       "    }\n",
       "\n",
       "    .dataframe tbody tr th {\n",
       "        vertical-align: top;\n",
       "    }\n",
       "\n",
       "    .dataframe thead th {\n",
       "        text-align: right;\n",
       "    }\n",
       "</style>\n",
       "<table border=\"1\" class=\"dataframe\">\n",
       "  <thead>\n",
       "    <tr style=\"text-align: right;\">\n",
       "      <th></th>\n",
       "      <th>Text</th>\n",
       "    </tr>\n",
       "    <tr>\n",
       "      <th>Label</th>\n",
       "      <th></th>\n",
       "    </tr>\n",
       "  </thead>\n",
       "  <tbody>\n",
       "    <tr>\n",
       "      <th>0.0</th>\n",
       "      <td>589</td>\n",
       "    </tr>\n",
       "    <tr>\n",
       "      <th>1.0</th>\n",
       "      <td>211</td>\n",
       "    </tr>\n",
       "  </tbody>\n",
       "</table>\n",
       "</div>"
      ],
      "text/plain": [
       "       Text\n",
       "Label      \n",
       "0.0     589\n",
       "1.0     211"
      ]
     },
     "execution_count": 48,
     "metadata": {
      "tags": []
     },
     "output_type": "execute_result"
    }
   ],
   "source": [
    "df_test.groupby('Label').count()"
   ]
  },
  {
   "cell_type": "code",
   "execution_count": null,
   "metadata": {
    "colab": {
     "base_uri": "https://localhost:8080/",
     "height": 17
    },
    "colab_type": "code",
    "id": "7Hvj2llATAPv",
    "outputId": "2ffef39d-b6d0-4fd7-a707-9f8fd055d3ff"
   },
   "outputs": [
    {
     "data": {
      "text/html": [],
      "text/plain": [
       "<IPython.core.display.HTML object>"
      ]
     },
     "metadata": {
      "tags": []
     },
     "output_type": "display_data"
    },
    {
     "data": {
      "text/html": [],
      "text/plain": [
       "<IPython.core.display.HTML object>"
      ]
     },
     "metadata": {
      "tags": []
     },
     "output_type": "display_data"
    }
   ],
   "source": [
    "tokenizer=Tokenizer(lang='xx')\n",
    "data_lm = TextLMDataBunch.from_df(path, tokenizer=tokenizer, bs=16, train_df=df_train, valid_df=df_val, text_cols=0)"
   ]
  },
  {
   "cell_type": "code",
   "execution_count": null,
   "metadata": {
    "colab": {
     "base_uri": "https://localhost:8080/",
     "height": 329
    },
    "colab_type": "code",
    "id": "bqArFqq7TDZd",
    "outputId": "4a685195-0b7b-4ee9-a20c-c6ea886ba831"
   },
   "outputs": [
    {
     "data": {
      "text/html": [
       "<table border=\"1\" class=\"dataframe\">\n",
       "  <thead>\n",
       "    <tr style=\"text-align: right;\">\n",
       "      <th>idx</th>\n",
       "      <th>text</th>\n",
       "    </tr>\n",
       "  </thead>\n",
       "  <tbody>\n",
       "    <tr>\n",
       "      <td>0</td>\n",
       "      <td>и права обычно происходит в контексте тех или иных методологических подходов , на которые часто оказывали влияние те или иные политические обстоятельства . xxmaj политический xxunk и теоретическая ориентация характерны в основном для немецкой историографии . \\n  xxmaj на всем протяжении xxup xix в . вплоть до первой половины xxup xx в . в на германскую историографию , следуя принципам xxup л. фон xxmaj ранке , преобладающее влияние оказывали</td>\n",
       "    </tr>\n",
       "    <tr>\n",
       "      <td>1</td>\n",
       "      <td>xxmaj берлин , 1865 ) и xxmaj xxunk ( xxmaj xxunk . , 1873 ) . xxmaj см . xxmaj xxunk , \" xxmaj xxunk xxmaj geschichte vom xxmaj xxunk der xxmaj xxunk xxunk zur xxmaj xxunk der xxmaj xxunk xxunk xxmaj xxunk \" ( т . 1 , xxmaj xxunk . , 1841 ) ; xxmaj xxunk , \" xxup a. , seine xxmaj xxunk una seine xxmaj xxunk</td>\n",
       "    </tr>\n",
       "    <tr>\n",
       "      <td>2</td>\n",
       "      <td>грузов и персонала xxup сша в xxmaj афганистан , xxunk с новой американской администрацией в июле , в дополнение к уже действующим аналогичным договоренностям с xxmaj германией и xxmaj францией означает , что в данном конкретном вопросе мы взяли на себя по сути дела xxunk обязательства перед американской стороной . xxmaj однако возникает вопрос о том , в какой мере наши новые союзники в деле борьбы с международным \\n</td>\n",
       "    </tr>\n",
       "    <tr>\n",
       "      <td>3</td>\n",
       "      <td>и , xxunk и развиваясь , просуществовала , как самостоятельная и архитектурная форма , вплоть до появления стиля xxmaj возрождения . xxmaj литература : xxup м. xxmaj xxunk xxmaj xxunk , \" xxmaj de xxunk \" ( libri xxunk , xxmaj лейпциг , 1836 ) ; xxup l. xxup b. xxunk , \" xxmaj de re xxunk \" ( xxmaj флоренция , 1845 ) ; xxmaj xxunk xxmaj xxunk \"</td>\n",
       "    </tr>\n",
       "    <tr>\n",
       "      <td>4</td>\n",
       "      <td>- лицо , руки , платье , фон - привлекает художника в равной мере . xxmaj кисть легко и бездумно скользит по xxunk » [ 3 , с . 123]. « xxmaj xxunk xxunk \\n  той » мастера салонно - академического направления в своих работах успешно сочетали форму большого xxunk xxunk портрета , xxunk от академической школы и влияния xxunk портретов второй четверти xxup xix в . , с</td>\n",
       "    </tr>\n",
       "  </tbody>\n",
       "</table>"
      ],
      "text/plain": [
       "<IPython.core.display.HTML object>"
      ]
     },
     "metadata": {
      "tags": []
     },
     "output_type": "display_data"
    }
   ],
   "source": [
    "data_lm.show_batch()"
   ]
  },
  {
   "cell_type": "markdown",
   "metadata": {
    "colab_type": "text",
    "id": "zl257HhIaFGC"
   },
   "source": [
    "# Загрузим предобученный ULMFit"
   ]
  },
  {
   "cell_type": "markdown",
   "metadata": {
    "colab_type": "text",
    "id": "V8Ke2IRVbORR"
   },
   "source": [
    "https://github.com/mamamot/Russian-ULMFit\n",
    " Нужно загрузить два файла представленных ниже и положить в папку рядом с блокнотом\n",
    " 1. lm_5_ep_lr2-3_5_stlr.pth https://drive.google.com/open?id=1YgkuKWRgOsb3QkSFCWa2d089DBAhJOOV\n",
    " 2. itos.pkl https://drive.google.com/open?id=1JbVfC6YRl-Ul28XkR5-Uj3nG_zOVSux_"
   ]
  },
  {
   "cell_type": "code",
   "execution_count": null,
   "metadata": {
    "colab": {},
    "colab_type": "code",
    "id": "Yebaf4cGVFg9"
   },
   "outputs": [],
   "source": [
    "weights_pretrained = 'lm_5_ep_lr2-3_5_stlr'\n",
    "itos_pretrained = 'itos'\n",
    "pretained_data = (weights_pretrained, itos_pretrained)"
   ]
  },
  {
   "cell_type": "markdown",
   "metadata": {
    "colab_type": "text",
    "id": "GV5T4odiaM6V"
   },
   "source": [
    "# Находим оптимальный learning rate и обучаем пресказательную модель"
   ]
  },
  {
   "cell_type": "code",
   "execution_count": null,
   "metadata": {
    "colab": {},
    "colab_type": "code",
    "id": "FTWif5w-YInB"
   },
   "outputs": [],
   "source": [
    "config = awd_lstm_lm_config.copy()\n",
    "config['n_hid'] = 1150\n",
    "learn_lm = language_model_learner(data_lm, AWD_LSTM, config=config, pretrained_fnames=pretained_data, drop_mult=0.3)\n",
    "learn_lm.freeze()"
   ]
  },
  {
   "cell_type": "code",
   "execution_count": null,
   "metadata": {
    "colab": {
     "base_uri": "https://localhost:8080/",
     "height": 373
    },
    "colab_type": "code",
    "id": "2dVx4O2TYPba",
    "outputId": "959964b7-f8b7-4ff2-84d1-4d067f9995b1"
   },
   "outputs": [
    {
     "data": {
      "text/html": [
       "\n",
       "    <div>\n",
       "        <style>\n",
       "            /* Turns off some styling */\n",
       "            progress {\n",
       "                /* gets rid of default border in Firefox and Opera. */\n",
       "                border: none;\n",
       "                /* Needs to be in here for Safari polyfill so background images work as expected. */\n",
       "                background-size: auto;\n",
       "            }\n",
       "            .progress-bar-interrupted, .progress-bar-interrupted::-webkit-progress-bar {\n",
       "                background: #F44336;\n",
       "            }\n",
       "        </style>\n",
       "      <progress value='0' class='' max='1', style='width:300px; height:20px; vertical-align: middle;'></progress>\n",
       "      0.00% [0/1 00:00<00:00]\n",
       "    </div>\n",
       "    \n",
       "<table border=\"1\" class=\"dataframe\">\n",
       "  <thead>\n",
       "    <tr style=\"text-align: left;\">\n",
       "      <th>epoch</th>\n",
       "      <th>train_loss</th>\n",
       "      <th>valid_loss</th>\n",
       "      <th>accuracy</th>\n",
       "      <th>time</th>\n",
       "    </tr>\n",
       "  </thead>\n",
       "  <tbody>\n",
       "  </tbody>\n",
       "</table><p>\n",
       "\n",
       "    <div>\n",
       "        <style>\n",
       "            /* Turns off some styling */\n",
       "            progress {\n",
       "                /* gets rid of default border in Firefox and Opera. */\n",
       "                border: none;\n",
       "                /* Needs to be in here for Safari polyfill so background images work as expected. */\n",
       "                background-size: auto;\n",
       "            }\n",
       "            .progress-bar-interrupted, .progress-bar-interrupted::-webkit-progress-bar {\n",
       "                background: #F44336;\n",
       "            }\n",
       "        </style>\n",
       "      <progress value='99' class='' max='2645', style='width:300px; height:20px; vertical-align: middle;'></progress>\n",
       "      3.74% [99/2645 00:30<12:53 16.4747]\n",
       "    </div>\n",
       "    "
      ],
      "text/plain": [
       "<IPython.core.display.HTML object>"
      ]
     },
     "metadata": {
      "tags": []
     },
     "output_type": "display_data"
    },
    {
     "name": "stdout",
     "output_type": "stream",
     "text": [
      "LR Finder is complete, type {learner_name}.recorder.plot() to see the graph.\n"
     ]
    },
    {
     "data": {
      "image/png": "[encoded data removed]",
      "text/plain": [
       "<Figure size 432x288 with 1 Axes>"
      ]
     },
     "metadata": {
      "tags": []
     },
     "output_type": "display_data"
    }
   ],
   "source": [
    "learn_lm.lr_find()\n",
    "learn_lm.recorder.plot()"
   ]
  },
  {
   "cell_type": "code",
   "execution_count": null,
   "metadata": {
    "colab": {
     "base_uri": "https://localhost:8080/",
     "height": 135
    },
    "colab_type": "code",
    "id": "FNXjYjVXZGdc",
    "outputId": "0a9911b9-4f2e-480e-939e-b1b5700692dd"
   },
   "outputs": [
    {
     "data": {
      "text/html": [
       "<table border=\"1\" class=\"dataframe\">\n",
       "  <thead>\n",
       "    <tr style=\"text-align: left;\">\n",
       "      <th>epoch</th>\n",
       "      <th>train_loss</th>\n",
       "      <th>valid_loss</th>\n",
       "      <th>accuracy</th>\n",
       "      <th>time</th>\n",
       "    </tr>\n",
       "  </thead>\n",
       "  <tbody>\n",
       "    <tr>\n",
       "      <td>0</td>\n",
       "      <td>4.749871</td>\n",
       "      <td>4.456943</td>\n",
       "      <td>0.322405</td>\n",
       "      <td>14:53</td>\n",
       "    </tr>\n",
       "    <tr>\n",
       "      <td>1</td>\n",
       "      <td>4.331776</td>\n",
       "      <td>4.217001</td>\n",
       "      <td>0.347473</td>\n",
       "      <td>14:55</td>\n",
       "    </tr>\n",
       "    <tr>\n",
       "      <td>2</td>\n",
       "      <td>3.953783</td>\n",
       "      <td>4.123746</td>\n",
       "      <td>0.358534</td>\n",
       "      <td>14:54</td>\n",
       "    </tr>\n",
       "  </tbody>\n",
       "</table>"
      ],
      "text/plain": [
       "<IPython.core.display.HTML object>"
      ]
     },
     "metadata": {
      "tags": []
     },
     "output_type": "display_data"
    }
   ],
   "source": [
    "learn_lm.fit_one_cycle(3, 1e-2, moms=(0.8, 0.7))"
   ]
  },
  {
   "cell_type": "code",
   "execution_count": null,
   "metadata": {
    "colab": {
     "base_uri": "https://localhost:8080/",
     "height": 194
    },
    "colab_type": "code",
    "id": "jPG3iziQZN7e",
    "outputId": "a194282c-5a40-4e1a-f617-e5c02332fc43"
   },
   "outputs": [
    {
     "data": {
      "text/html": [
       "<table border=\"1\" class=\"dataframe\">\n",
       "  <thead>\n",
       "    <tr style=\"text-align: left;\">\n",
       "      <th>epoch</th>\n",
       "      <th>train_loss</th>\n",
       "      <th>valid_loss</th>\n",
       "      <th>accuracy</th>\n",
       "      <th>time</th>\n",
       "    </tr>\n",
       "  </thead>\n",
       "  <tbody>\n",
       "    <tr>\n",
       "      <td>0</td>\n",
       "      <td>3.664190</td>\n",
       "      <td>3.987026</td>\n",
       "      <td>0.368331</td>\n",
       "      <td>16:45</td>\n",
       "    </tr>\n",
       "    <tr>\n",
       "      <td>1</td>\n",
       "      <td>3.826320</td>\n",
       "      <td>3.973168</td>\n",
       "      <td>0.375428</td>\n",
       "      <td>16:44</td>\n",
       "    </tr>\n",
       "    <tr>\n",
       "      <td>2</td>\n",
       "      <td>3.444614</td>\n",
       "      <td>3.947513</td>\n",
       "      <td>0.379829</td>\n",
       "      <td>16:43</td>\n",
       "    </tr>\n",
       "    <tr>\n",
       "      <td>3</td>\n",
       "      <td>3.325252</td>\n",
       "      <td>3.957536</td>\n",
       "      <td>0.379454</td>\n",
       "      <td>16:43</td>\n",
       "    </tr>\n",
       "    <tr>\n",
       "      <td>4</td>\n",
       "      <td>3.177037</td>\n",
       "      <td>3.980526</td>\n",
       "      <td>0.378830</td>\n",
       "      <td>16:40</td>\n",
       "    </tr>\n",
       "  </tbody>\n",
       "</table>"
      ],
      "text/plain": [
       "<IPython.core.display.HTML object>"
      ]
     },
     "metadata": {
      "tags": []
     },
     "output_type": "display_data"
    }
   ],
   "source": [
    "learn_lm.unfreeze()\n",
    "learn_lm.fit_one_cycle(5, 1e-3, moms=(0.8, 0.7))"
   ]
  },
  {
   "cell_type": "code",
   "execution_count": null,
   "metadata": {
    "colab": {},
    "colab_type": "code",
    "id": "Wnt_xCKXZRpF"
   },
   "outputs": [],
   "source": [
    "learn_lm.save('lm_ft')"
   ]
  },
  {
   "cell_type": "code",
   "execution_count": null,
   "metadata": {
    "colab": {
     "base_uri": "https://localhost:8080/",
     "height": 35
    },
    "colab_type": "code",
    "id": "cjD_C_xZZTsB",
    "outputId": "41abd6bc-d67b-44ea-ba9b-083fbaf41e0e"
   },
   "outputs": [
    {
     "data": {
      "text/plain": [
       "'А куда же год назад он муль -'"
      ]
     },
     "execution_count": 62,
     "metadata": {
      "tags": []
     },
     "output_type": "execute_result"
    }
   ],
   "source": [
    "learn_lm.predict(\"А куда же\", n_words=5)"
   ]
  },
  {
   "cell_type": "markdown",
   "metadata": {
    "colab_type": "text",
    "id": "uMSaCf6aZls6"
   },
   "source": [
    "# Обучаем классификатор с сохраненным энкодером"
   ]
  },
  {
   "cell_type": "code",
   "execution_count": null,
   "metadata": {
    "colab": {},
    "colab_type": "code",
    "id": "L3jq7-J9ZVgo"
   },
   "outputs": [],
   "source": [
    "learn_lm.save_encoder('ft_enc')"
   ]
  },
  {
   "cell_type": "code",
   "execution_count": null,
   "metadata": {
    "colab": {
     "base_uri": "https://localhost:8080/",
     "height": 17
    },
    "colab_type": "code",
    "id": "1h4q53q0ZY-d",
    "outputId": "8e3f8eb8-136c-4bdb-b7de-689dc6432692"
   },
   "outputs": [
    {
     "data": {
      "text/html": [],
      "text/plain": [
       "<IPython.core.display.HTML object>"
      ]
     },
     "metadata": {
      "tags": []
     },
     "output_type": "display_data"
    },
    {
     "data": {
      "text/html": [],
      "text/plain": [
       "<IPython.core.display.HTML object>"
      ]
     },
     "metadata": {
      "tags": []
     },
     "output_type": "display_data"
    }
   ],
   "source": [
    "data_clas = TextClasDataBunch.from_df(path, vocab=data_lm.train_ds.vocab, bs=32, train_df=df_train, valid_df=df_val, text_cols=0, label_cols=1, tokenizer=tokenizer)"
   ]
  },
  {
   "cell_type": "code",
   "execution_count": null,
   "metadata": {
    "colab": {
     "base_uri": "https://localhost:8080/",
     "height": 380
    },
    "colab_type": "code",
    "id": "JzWgtmvqZcSJ",
    "outputId": "ec77bb18-8b06-41da-c388-caa60dc20c42"
   },
   "outputs": [
    {
     "data": {
      "text/html": [
       "<table border=\"1\" class=\"dataframe\">\n",
       "  <thead>\n",
       "    <tr style=\"text-align: right;\">\n",
       "      <th>text</th>\n",
       "      <th>target</th>\n",
       "    </tr>\n",
       "  </thead>\n",
       "  <tbody>\n",
       "    <tr>\n",
       "      <td>xxbos в статье освещены закономерности в сфере семантических xxunk и происхождение таких разрядов слов , как прилагательные , отрицательные частицы , местоимения и xxunk в селькупском языке . xxmaj исследование базируется на именах мифических предков , почитаемых представителями селькупского этноса . xxmaj морфемное членение лексем позволяет восстановить их возможное исходное значение . xxmaj xxunk имен мифических предков породило процесс xxunk . \\n  в xxunk сообществах считалось , что тот</td>\n",
       "      <td>1.0</td>\n",
       "    </tr>\n",
       "    <tr>\n",
       "      <td>xxbos xxmaj под классическим xxunk понимается то xxunk идейно - художественное направление в мусульманской литературе , прежде всего персоязычной поэзии , служившей главной моделью для афганской письменности , которое сложилось в период xxup хш — xxup ху вв . и характеризовалось следующими xxunk чертами . xxmaj во - первых , идейные основы этого направления xxunk исключительно на религиозной философии и эстетике , где xxunk тенденции после монгольского нашествия развивались в</td>\n",
       "      <td>1.0</td>\n",
       "    </tr>\n",
       "    <tr>\n",
       "      <td>xxbos в поэме xxmaj гомера « xxmaj одиссея » спутники царя острова xxmaj xxunk попадают в страну , жители которой питаются xxunk . xxmaj гомер называет их xxmaj xxunk — букв . ' xxunk ' , вторая часть этого xxunk представляет собой основу xxunk от глагола xxunk — ' xxunk ' . xxmaj это племя живет на xxmaj xxunk побережье xxmaj африки . xxmaj попробуем идентифицировать их пищу . xxmaj</td>\n",
       "      <td>1.0</td>\n",
       "    </tr>\n",
       "    <tr>\n",
       "      <td>xxbos xxmaj дается xxunk анализ роли этических идей в xxunk позднего xxmaj просвещения . xxmaj этический компонент текста « xxmaj истории государства xxmaj российского » xxup н. xxup м. xxmaj карамзина рассматривается в контексте англо - шотландской историографической традиции второй половины xxup xviii в . \\n  xxmaj xxunk интерес к проблемам добра и зла , тщательно xxunk диалоги с современниками о нравственном и xxunk в прошлом и настоящем -</td>\n",
       "      <td>1.0</td>\n",
       "    </tr>\n",
       "    <tr>\n",
       "      <td>xxbos xxmaj существует утверждение , что все науки можно разделить на компьютерные и xxunk ( xxunk science ) . xxmaj xxunk науки - науки , в которых не изучаются вопросы , связанные с компьютерными дисциплинами . xxmaj тенденция такова , что число xxunk наук растет значительно медленнее , чем компьютерных . \\n  xxmaj часто говорят о xxunk ( xxunk ) , подразумевая при этом , что она отличается от</td>\n",
       "      <td>1.0</td>\n",
       "    </tr>\n",
       "  </tbody>\n",
       "</table>"
      ],
      "text/plain": [
       "<IPython.core.display.HTML object>"
      ]
     },
     "metadata": {
      "tags": []
     },
     "output_type": "display_data"
    }
   ],
   "source": [
    "data_clas.show_batch()"
   ]
  },
  {
   "cell_type": "code",
   "execution_count": null,
   "metadata": {
    "colab": {
     "base_uri": "https://localhost:8080/",
     "height": 35
    },
    "colab_type": "code",
    "id": "jk-VGXGvZet-",
    "outputId": "bf05ea8a-730e-470a-cc65-7b0b67b22495"
   },
   "outputs": [
    {
     "name": "stdout",
     "output_type": "stream",
     "text": [
      "Downloading https://s3.amazonaws.com/fast-ai-modelzoo/wt103-fwd\n"
     ]
    },
    {
     "data": {
      "text/html": [],
      "text/plain": [
       "<IPython.core.display.HTML object>"
      ]
     },
     "metadata": {
      "tags": []
     },
     "output_type": "display_data"
    }
   ],
   "source": [
    "config = awd_lstm_clas_config.copy()\n",
    "config['n_hid'] = 1150\n",
    "learn = text_classifier_learner(data_clas, AWD_LSTM, config=config, drop_mult=0.5)"
   ]
  },
  {
   "cell_type": "code",
   "execution_count": null,
   "metadata": {
    "colab": {},
    "colab_type": "code",
    "id": "3J4CTRe0ZhJC"
   },
   "outputs": [],
   "source": [
    "learn.load_encoder('ft_enc')\n",
    "learn.freeze()"
   ]
  },
  {
   "cell_type": "code",
   "execution_count": null,
   "metadata": {
    "colab": {
     "base_uri": "https://localhost:8080/",
     "height": 403
    },
    "colab_type": "code",
    "id": "U-veyQfdZjUV",
    "outputId": "2c8cfa32-5666-4525-e905-67d9fa0dcd7d"
   },
   "outputs": [
    {
     "data": {
      "text/html": [
       "\n",
       "    <div>\n",
       "        <style>\n",
       "            /* Turns off some styling */\n",
       "            progress {\n",
       "                /* gets rid of default border in Firefox and Opera. */\n",
       "                border: none;\n",
       "                /* Needs to be in here for Safari polyfill so background images work as expected. */\n",
       "                background-size: auto;\n",
       "            }\n",
       "            .progress-bar-interrupted, .progress-bar-interrupted::-webkit-progress-bar {\n",
       "                background: #F44336;\n",
       "            }\n",
       "        </style>\n",
       "      <progress value='1' class='' max='2', style='width:300px; height:20px; vertical-align: middle;'></progress>\n",
       "      50.00% [1/2 02:44<02:44]\n",
       "    </div>\n",
       "    \n",
       "<table border=\"1\" class=\"dataframe\">\n",
       "  <thead>\n",
       "    <tr style=\"text-align: left;\">\n",
       "      <th>epoch</th>\n",
       "      <th>train_loss</th>\n",
       "      <th>valid_loss</th>\n",
       "      <th>time</th>\n",
       "    </tr>\n",
       "  </thead>\n",
       "  <tbody>\n",
       "    <tr>\n",
       "      <td>0</td>\n",
       "      <td>0.597157</td>\n",
       "      <td>#na#</td>\n",
       "      <td>02:44</td>\n",
       "    </tr>\n",
       "  </tbody>\n",
       "</table><p>\n",
       "\n",
       "    <div>\n",
       "        <style>\n",
       "            /* Turns off some styling */\n",
       "            progress {\n",
       "                /* gets rid of default border in Firefox and Opera. */\n",
       "                border: none;\n",
       "                /* Needs to be in here for Safari polyfill so background images work as expected. */\n",
       "                background-size: auto;\n",
       "            }\n",
       "            .progress-bar-interrupted, .progress-bar-interrupted::-webkit-progress-bar {\n",
       "                background: #F44336;\n",
       "            }\n",
       "        </style>\n",
       "      <progress value='9' class='' max='79', style='width:300px; height:20px; vertical-align: middle;'></progress>\n",
       "      11.39% [9/79 00:17<02:16 1.4533]\n",
       "    </div>\n",
       "    "
      ],
      "text/plain": [
       "<IPython.core.display.HTML object>"
      ]
     },
     "metadata": {
      "tags": []
     },
     "output_type": "display_data"
    },
    {
     "name": "stdout",
     "output_type": "stream",
     "text": [
      "LR Finder is complete, type {learner_name}.recorder.plot() to see the graph.\n"
     ]
    },
    {
     "data": {
      "image/png": "[encoded data removed]",
      "text/plain": [
       "<Figure size 432x288 with 1 Axes>"
      ]
     },
     "metadata": {
      "tags": []
     },
     "output_type": "display_data"
    }
   ],
   "source": [
    "learn.lr_find()\n",
    "learn.recorder.plot(skip_start=0)"
   ]
  },
  {
   "cell_type": "code",
   "execution_count": null,
   "metadata": {
    "colab": {
     "base_uri": "https://localhost:8080/",
     "height": 106
    },
    "colab_type": "code",
    "id": "2Q_Pa1uKZveA",
    "outputId": "2fd96e45-3f23-4d24-8976-a10d7f597306"
   },
   "outputs": [
    {
     "data": {
      "text/html": [
       "<table border=\"1\" class=\"dataframe\">\n",
       "  <thead>\n",
       "    <tr style=\"text-align: left;\">\n",
       "      <th>epoch</th>\n",
       "      <th>train_loss</th>\n",
       "      <th>valid_loss</th>\n",
       "      <th>time</th>\n",
       "    </tr>\n",
       "  </thead>\n",
       "  <tbody>\n",
       "    <tr>\n",
       "      <td>0</td>\n",
       "      <td>0.239413</td>\n",
       "      <td>0.149111</td>\n",
       "      <td>03:34</td>\n",
       "    </tr>\n",
       "    <tr>\n",
       "      <td>1</td>\n",
       "      <td>0.183146</td>\n",
       "      <td>0.086540</td>\n",
       "      <td>03:34</td>\n",
       "    </tr>\n",
       "  </tbody>\n",
       "</table>"
      ],
      "text/plain": [
       "<IPython.core.display.HTML object>"
      ]
     },
     "metadata": {
      "tags": []
     },
     "output_type": "display_data"
    }
   ],
   "source": [
    "learn.fit_one_cycle(2, 2e-2, moms=(0.8,0.7))"
   ]
  },
  {
   "cell_type": "code",
   "execution_count": null,
   "metadata": {
    "colab": {
     "base_uri": "https://localhost:8080/",
     "height": 135
    },
    "colab_type": "code",
    "id": "ZH_5PfW-ZyAx",
    "outputId": "7bf77289-a201-432c-edee-a47fc94807f5"
   },
   "outputs": [
    {
     "data": {
      "text/html": [
       "<table border=\"1\" class=\"dataframe\">\n",
       "  <thead>\n",
       "    <tr style=\"text-align: left;\">\n",
       "      <th>epoch</th>\n",
       "      <th>train_loss</th>\n",
       "      <th>valid_loss</th>\n",
       "      <th>time</th>\n",
       "    </tr>\n",
       "  </thead>\n",
       "  <tbody>\n",
       "    <tr>\n",
       "      <td>0</td>\n",
       "      <td>0.198836</td>\n",
       "      <td>0.087991</td>\n",
       "      <td>03:42</td>\n",
       "    </tr>\n",
       "    <tr>\n",
       "      <td>1</td>\n",
       "      <td>0.183157</td>\n",
       "      <td>0.048232</td>\n",
       "      <td>03:40</td>\n",
       "    </tr>\n",
       "    <tr>\n",
       "      <td>2</td>\n",
       "      <td>0.175382</td>\n",
       "      <td>0.066680</td>\n",
       "      <td>04:05</td>\n",
       "    </tr>\n",
       "  </tbody>\n",
       "</table>"
      ],
      "text/plain": [
       "<IPython.core.display.HTML object>"
      ]
     },
     "metadata": {
      "tags": []
     },
     "output_type": "display_data"
    }
   ],
   "source": [
    "learn.freeze_to(-2)\n",
    "learn.fit_one_cycle(3, slice(1e-2/(2.6**4),1e-2), moms=(0.8,0.7))"
   ]
  },
  {
   "cell_type": "code",
   "execution_count": null,
   "metadata": {
    "colab": {
     "base_uri": "https://localhost:8080/",
     "height": 106
    },
    "colab_type": "code",
    "id": "nA9vSVWdZz5i",
    "outputId": "cc3d1879-d810-4247-9124-29693c350500"
   },
   "outputs": [
    {
     "data": {
      "text/html": [
       "<table border=\"1\" class=\"dataframe\">\n",
       "  <thead>\n",
       "    <tr style=\"text-align: left;\">\n",
       "      <th>epoch</th>\n",
       "      <th>train_loss</th>\n",
       "      <th>valid_loss</th>\n",
       "      <th>time</th>\n",
       "    </tr>\n",
       "  </thead>\n",
       "  <tbody>\n",
       "    <tr>\n",
       "      <td>0</td>\n",
       "      <td>0.169776</td>\n",
       "      <td>0.043567</td>\n",
       "      <td>05:17</td>\n",
       "    </tr>\n",
       "    <tr>\n",
       "      <td>1</td>\n",
       "      <td>0.162539</td>\n",
       "      <td>0.052661</td>\n",
       "      <td>05:01</td>\n",
       "    </tr>\n",
       "  </tbody>\n",
       "</table>"
      ],
      "text/plain": [
       "<IPython.core.display.HTML object>"
      ]
     },
     "metadata": {
      "tags": []
     },
     "output_type": "display_data"
    }
   ],
   "source": [
    "learn.freeze_to(-3)\n",
    "learn.fit_one_cycle(2, slice(5e-3/(2.6**4),5e-3), moms=(0.8,0.7))"
   ]
  },
  {
   "cell_type": "code",
   "execution_count": null,
   "metadata": {
    "colab": {
     "base_uri": "https://localhost:8080/",
     "height": 106
    },
    "colab_type": "code",
    "id": "IJbVyBoWZ14a",
    "outputId": "9d565977-e896-4a84-b936-3d2a7661d4d0"
   },
   "outputs": [
    {
     "data": {
      "text/html": [
       "<table border=\"1\" class=\"dataframe\">\n",
       "  <thead>\n",
       "    <tr style=\"text-align: left;\">\n",
       "      <th>epoch</th>\n",
       "      <th>train_loss</th>\n",
       "      <th>valid_loss</th>\n",
       "      <th>time</th>\n",
       "    </tr>\n",
       "  </thead>\n",
       "  <tbody>\n",
       "    <tr>\n",
       "      <td>0</td>\n",
       "      <td>0.164114</td>\n",
       "      <td>0.022871</td>\n",
       "      <td>06:46</td>\n",
       "    </tr>\n",
       "    <tr>\n",
       "      <td>1</td>\n",
       "      <td>0.144630</td>\n",
       "      <td>0.011132</td>\n",
       "      <td>06:31</td>\n",
       "    </tr>\n",
       "  </tbody>\n",
       "</table>"
      ],
      "text/plain": [
       "<IPython.core.display.HTML object>"
      ]
     },
     "metadata": {
      "tags": []
     },
     "output_type": "display_data"
    }
   ],
   "source": [
    "learn.unfreeze()\n",
    "learn.fit_one_cycle(2, slice(1e-3/(2.6**4),1e-3), moms=(0.8,0.7))"
   ]
  },
  {
   "cell_type": "code",
   "execution_count": null,
   "metadata": {
    "colab": {},
    "colab_type": "code",
    "id": "rMpnkBA7Z3jq"
   },
   "outputs": [],
   "source": [
    "learn.save('test-0801')"
   ]
  },
  {
   "cell_type": "code",
   "execution_count": null,
   "metadata": {
    "colab": {
     "base_uri": "https://localhost:8080/",
     "height": 35
    },
    "colab_type": "code",
    "id": "V4w0v-R3aA0r",
    "outputId": "205c47b9-c803-4cf7-9052-252902c756dc"
   },
   "outputs": [
    {
     "data": {
      "text/plain": [
       "(FloatItem [0.097104], tensor([0.0971]), tensor([0.0971]))"
      ]
     },
     "execution_count": 74,
     "metadata": {
      "tags": []
     },
     "output_type": "execute_result"
    }
   ],
   "source": [
    "learn.predict('Дальше надо объяснять почему все что вы сделали — чушь?')"
   ]
  },
  {
   "cell_type": "markdown",
   "metadata": {
    "colab_type": "text",
    "id": "_VF8yBUGaiFo"
   },
   "source": [
    "# Проверка и метрики"
   ]
  },
  {
   "cell_type": "code",
   "execution_count": null,
   "metadata": {
    "colab": {
     "base_uri": "https://localhost:8080/",
     "height": 17
    },
    "colab_type": "code",
    "id": "LpXTJRWkakMZ",
    "outputId": "0dbdd0c2-60e9-42a0-a7a3-ed481e7cb5d8"
   },
   "outputs": [
    {
     "data": {
      "text/html": [],
      "text/plain": [
       "<IPython.core.display.HTML object>"
      ]
     },
     "metadata": {
      "tags": []
     },
     "output_type": "display_data"
    },
    {
     "data": {
      "text/html": [],
      "text/plain": [
       "<IPython.core.display.HTML object>"
      ]
     },
     "metadata": {
      "tags": []
     },
     "output_type": "display_data"
    }
   ],
   "source": [
    "data_test_clas = TextClasDataBunch.from_df(path, vocab=data_lm.train_ds.vocab, bs=32, train_df=df_train, valid_df=df_test, text_cols=0, label_cols=1, tokenizer=tokenizer)"
   ]
  },
  {
   "cell_type": "code",
   "execution_count": null,
   "metadata": {
    "colab": {},
    "colab_type": "code",
    "id": "TcG0lw6Bak1I"
   },
   "outputs": [],
   "source": [
    "config = awd_lstm_clas_config.copy()\n",
    "config['n_hid'] = 1150\n",
    "learn_test = text_classifier_learner(data_test_clas, AWD_LSTM, config=config, drop_mult=0.5)"
   ]
  },
  {
   "cell_type": "code",
   "execution_count": null,
   "metadata": {
    "colab": {
     "base_uri": "https://localhost:8080/",
     "height": 1000
    },
    "colab_type": "code",
    "id": "WgbTM687anDV",
    "outputId": "21c6f9c1-80b1-4afe-a2c9-915f49533ead"
   },
   "outputs": [
    {
     "data": {
      "text/plain": [
       "RNNLearner(data=TextClasDataBunch;\n",
       "\n",
       "Train: LabelList (2556 items)\n",
       "x: TextList\n",
       "xxbos xxup xxunk xxup становления и xxup развития xxup средневековой xxup германской xxup государственности и xxup права в xxup контексте xxup отечественной и xxup немецкой xxup историографии \n",
       "  xxmaj проблема образования государства в ранней средневековой истории xxmaj германии , равно как и возникновение немецкой правовой традиции , представляет актуальность , как для отечественной xxunk , так и германской историографии вплоть до xxunk . xxmaj причем рассмотрение вопросов становления германской государственности и права обычно происходит в контексте тех или иных методологических подходов , на которые часто оказывали влияние те или иные политические обстоятельства . xxmaj политический xxunk и теоретическая ориентация характерны в основном для немецкой историографии . \n",
       "  xxmaj на всем протяжении xxup xix в . вплоть до первой половины xxup xx в . в на германскую историографию , следуя принципам xxup л. фон xxmaj ранке , преобладающее влияние оказывали принципы историзма , а историю стремились писать « так , как это собственно и было » . xxmaj предпочтение отдавалось политической истории , а методологические подходы развивались в русле немецкого идеализма . \n",
       "  xxmaj концепция традиционной германской историографии государства и права основывается на принципах , заложенных « xxmaj исторической школой права » , в соответствии с которой в праве воплощается « психология народа » , проявившаяся , в том числе и в формировании общественного и государственного укладов . xxmaj как справедливо заметил xxunk , представители школы немецкого права стали интерпретировать « развитие общества , как развитие целого комплекса « прав » ( “ xxunk ” ) . « xxmaj государственное право » ( “ xxunk ” ) , « частное право » ( “ xxunk ” ) , « право союзов и корпораций ( “ xxunk & ' xxunk ” ) , « церковное право » и еще особое « право частной церкви » ( xxmaj xxunk ) , « ленное право » ( “ xxunk ) , « городское право » ( “ xxmaj xxunk ) и т . д . заменили собой настоящую историю общественной жизни . xxmaj право и обусловливаемое им \n",
       "  « устройство » ( “ xxunk und xxmaj xxunk , , ) стали покрывать все богатство конкретной исторической действительности . xxmaj проблема происхождения феодальной раздробленности у них заключается в утверждении права xxunk ( “ xxmaj xxunk ” ) , проблема возникновения средневековых городов сводится к проблеме происхождения городского права и городского устройства ( “ xxmaj xxunk und xxmaj xxunk , , ) , возникновение территориальных княжеств представляется как процесс присвоения высших государственных прав ( “ xxmaj xxunk , ) крупными феодальными xxunk и т . д . »3 . \n",
       "  с конца xxup xix - начала xxup xx вв . в германской историографии стали отчетливее проявляться xxunk и социально - экономические xxunk . xxmaj отказавшись от идеализации и политизации национального прошлого , историки социально - экономической школы xxunk стали проявлять интерес к реальным экономическим отношениям , которые создавали основу государства и права . xxmaj эта тенденция была развита в трудах представителей социально - структурной истории ( 1960 - 80 гг . ) , стремившихся проанализировать xxunk политические , социально - экономические условия , xxunk процесс становления немецкой государственности и xxunk . xxmaj это обстоятельство обусловило специфику немецкой историографии второй половины xxup xx в . в отличии от традиционной историографии , xxunk приоритет « юридическим формам государственной жизни . в ней мы не найдем даже изображения политических отношений . xxmaj все покрывали мертвые юридические формы , институты , категории , которые немецкие историки тщетно пытались xxunk и заставить xxunk . \n",
       "  xxmaj проблема происхождения государства и права в xxmaj германии была объектом комплексного исследования для историков немецкой школы права ( xxup ф.к. фон xxmaj савиньи , xxunk ) . xxmaj идеи этой школы оказывали существенное влияние на немецкую историографию вплоть до начала xxup xx в . xxmaj фридрих xxmaj карл фон xxmaj савиньи ( 1779 - 1861 ) был одним из представителей исторической школы права . xxmaj он утверждал , что право каждого народа складывается постепенно из его исторической судьбы , обычаев и традиций , так называемого « народного духа » ( “ xxmaj xxunk ’ ) . xxmaj поэтому , любая xxunk деятельность не могла быть произвольной , xxunk от народа и его обычаев . xxmaj следуя этой логике , невозможно было за короткое время изменить создаваемую на протяжении веков национальную правовую систему и навязать народу чуждые его природе законы . xxmaj правовые реформы должны были проходить постепенно . « xxmaj право само вырабатывается , - утверждал xxup к.ф. xxmaj савиньи , -в народном духе и для своего отрицания оно имеет свой орган - обычное право . xxmaj закон может лишь xxunk естественный ход развития права . xxmaj законодатель лучше всего выполнит свою задачу , если ограничиться санкционированием норм уже выработанных народным xxunk . \n",
       "  xxmaj историк права xxmaj отто фон г xxunk ( 1841 - 1921 ) оспаривал идеи исторической школы xxup ф.к. фон xxmaj савиньи . xxmaj он понимал под государством « организацию всего народа , и тех , которые господствуют , и тех , над которыми господствуют , - организацию , выражающую политическое и юридическое единство \n",
       "  xxunk . xxmaj отказываясь следовать идеям xxunk , о.гирке заложил основы научного понимания происхождения , в том числе средневекового немецкого государства . xxmaj он предполагал , что еще до возникновения подлинно государственной власти существовала власть общественная , действовавшая от имени всего народа . \n",
       "  о.гирке предположил , что « первоначальные общности людей представляли собой свободные общины ( “ xxmaj xxunk ” ) . в этот период не существовало еще деления на хозяйственные и политические союзы . xxmaj хозяйственные объединения ( “ xxmaj xxunk ” , “ xxmaj xxunk ” ) были одновременно и политическими . xxmaj эти первоначальные общности xxunk в результате образования частной собственности на землю и разделения прежде равных людей на имущественные классы ( свободных и xxunk ) . xxmaj образовавшаяся крупная земельная собственность стала фактором политического господства ( “ xxmaj xxunk ’ ) . xxmaj она создала новый тип объединений ( “ xxmaj xxunk ” ) , которые связаны внутри не сотрудничеством равноправных индивидов , а господством над ними единой политической xxunk . \n",
       "  « xxmaj средневековое государство » , « ленное государство » ( “ xxmaj xxunk ’ ) -это даже хронологически нечто совсем иное , чем то , что мы называем феодальным государством . xxmaj эти названия относятся только к государству периода до xxup xiii в . xxmaj государство предшествующего периода называется здесь « xxunk » ( “ xxmaj der xxunk xxmaj staat ” ) , государство последующего периода - « современным » , « новым » ( “ modern xxmaj staat ” ) . \n",
       "  xxmaj первой формой германского государства современная немецкая историография считает « древнегерманское » государство или по - другому « народное королевство » ( “ xxunk ” ) . \n",
       "  xxmaj представители традиционной немецкой историографии относят возникновение раннесредневековой германской государственности , или « народного королевства » ( “ xxmaj xxunk ” ) к периоду поздней xxunk . с конца xxup xix - начала xxup хх в . немецкие историки стали относить дату появления государства у германцев к периоду разложения франкской монархии , а в само понятие государственности включать xxunk общественный строй , в котором фактически только xxunk государственная xxunk . \n",
       "  xxmaj современные исследователи проблемы происхождения древнегерманской государственности не усматривают её существенных изменений при переходе от « древнего государства » к « xxunk государству » , нарушающих принципы государственного устройства . xxmaj фундамент раннесредневековой германской государственности образовали отношения личной зависимости и непосредственной связи вассала с xxunk , а не господство над территорией . \n",
       "  в x в . на территории современных xxmaj франции и xxmaj германии располагались земли двух королевств : xxmaj западной и xxmaj восточной xxmaj франконии . xxmaj они являлись « реликтами последней большой эры политического единства » xxmaj западной xxmaj европы , объединенной усилиями xxmaj карла xxmaj великого - основателя династии xxmaj xxunk . xxmaj его империя , хотя и довольно непродолжительное время , объединяла большие территории : от xxmaj атлантики до xxmaj эльбы , от xxmaj северного моря до xxmaj рима . \n",
       "  xxmaj после смерти последнего xxunk xxmaj xxunk страна оказалась без правящей династии . в этой связи перед племенной знатью встал \n",
       "  вопрос о путях развития королевства : либо ему оставаться xxunk , либо xxunk под властью новой династии . в 911 г . восточные xxunk и xxunk , принадлежавшие к германской народности , собрались в xxunk xxmaj xxunk и « по совету » xxmaj оттона xxmaj саксонского выбрали новым королем франконца xxmaj конрада ( 911 - 918 гг . ) . xxmaj позже к ним присоединились xxunk и xxunk . \n",
       "  xxmaj таким образом , четыре племени , ставшие герцогствами , продемонстрировали , что их общность для них важнее , чем подчиненность каролингской династии , которая еще продолжала существовать в xxmaj западной xxmaj xxunk . \n",
       "  xxmaj выбрав xxmaj конрада своим королем , xxunk германских племен подтвердили свою независимость от каролингской династии xxmaj западной xxmaj франконии . xxmaj конрад не был xxmaj xxunk . xxmaj он был связан с xxmaj каролингами родственными узами , что , безусловно , xxunk престиж его рода . xxmaj хотя такие же родственные связи с xxmaj каролингами имели и вожди других крупных племен . xxmaj конрад , тем не менее , являлся главой xxunk и одного из самых сильных германских племен - франков . \n",
       "  xxmaj важные изменения государственного устройства произошли позже , в эпоху становления и развития территориальных княжеств . в то самое время , по мнению современных специалистов , сформировалась немецкая государственность и появилось само государство , которое было основано не на объединении « отдельных личностей , наделенных особыми правами » , а на господстве над целой территорией и ее xxunk . \n",
       "  xxmaj большое значение в концепции происхождения государства и права у германцев уделяется проблеме королевской власти ( “ xxmaj xxunk ” ) . в силу представлений средневекового человека о сакральном значении королевской власти , она выступала в качестве xxunk основы государственности . \n",
       "  xxmaj как представляется , изучение специфически - национальных особенностей легитимации власти монархов в xxmaj европе проясняет некоторые аспекты из истории государственности европейских стран эпохи средневековья . xxmaj некоторые из этих особенностей можно раскрыть через формы легитимации королевской власти . xxmaj для раннего средневековья , гипотетически , их можно представитель через совокупность личных , родовых , сакрально - символических и правовых форм легитимации . xxmaj их можно проследить на примерах « классических » стран средневековой европейской истории - xxmaj франции , xxmaj англии и xxmaj германии . xxmaj во xxmaj франции и xxmaj англии легитимация королевской власти преимущественно была связана с ее освящением через обряд xxunk , xxunk xxunk , « королевским xxunk . xxmaj на механизмы восприятия королевской власти в xxmaj германии также оказали большое влияние христианские обряды и таинства , связанные с ее освящением , как , впрочем , для всех стран раннесредневековой xxmaj европы , но , приоритетными стали иные формы легитимации , обусловленные спецификой исторического развития страны . \n",
       "  xxmaj для западноевропейских стран эпохи средневековья , как справедливо заметил xxup э. xxmaj xxunk , политическое мышление представляло собой не что иное , как секуляризированную xxunk , а представления о верности и пре- \n",
       "  данности , скорее всего xxunk христианским учением концепцию средневековой королевской xxunk . \n",
       "  xxmaj сакрализация верховной власти - широкое явление в средневековой эпохе . к изучению феномена сакрализации обращались ведущие западные историки и антропологи ( xxup м. xxmaj вебер , xxup м. xxmaj блок , xxup э. xxmaj сервис , xxup р. xxmaj xxunk , xxup р. xxmaj xxunk и др . ) . \n",
       "  xxmaj xxunk , как свойство королевской власти в xxunk землях , на которых возникает государство , определила специфику самой немецкой государственности . \n",
       "  xxmaj во время коронации франконца xxmaj конрада i ( 911 - 918 первоочередным актом стали его выборы влиятельными князьями , которые пожелали продемонстрировать , что « их общность ( в деле избрания - авт . ) была для них важнее , чем подчиненность каролингской династии , которая еще продолжала существовать в xxmaj западной xxmaj xxunk . \n",
       "  в соответствии с традицией императором был избран и преемник xxmaj генриха - его сын xxmaj xxunk ( xxunk - 973 ) . xxmaj xxunk , монах xxmaj xxunk монастыря ( ок . 950 - xxunk ) , в хронике о правлении xxunk династии отмечает , что обряд коронации над xxmaj оттоном совершили не представители духовенства , что к тому времени уже вошло в традицию во xxmaj франции , а герцоги , которые « посадили нового герцога на сооруженный там трон , xxunk к нему руки и торжественно xxunk ему свою верность и помощь против всех врагов и так по своему обычаю сделали его королем . в то время как герцоги и остальные должностные лица все это совершали , архиепископ со всем духовенством и всем остальным народом ожидал выхода нового короля в xxunk . \n",
       "  xxmaj одной из самых дискуссионных проблем в истории древних германцев является вопрос о происхождении власти , xxunk обычно в качестве королевской . xxmaj существует несколько версий о происхождении термина , который в русском переводе часто передается как « король » . xxmaj самой распространенной из них является версия xxmaj тацита . xxmaj согласно версии этого историка , « король » ( “ rex ” ) - высший знатный племени . xxmaj реальное древнегерманское наполнение функций “ xxunk ” ( в будущих xxunk « конунг » , “ xxmaj xxunk ” ) соотносится отнюдь не с должностью ( полнота власти в военных и гражданских делах , высшие почести и знатность ) , а с личными заслугами . \n",
       "  xxmaj проблема легитимации королевской власти и , тем самым , проблема раннесредневековой германской государственности , основывается на гипотезе ее происхождения . xxmaj первыми стадиями становления королевской власти в германской историографии обычно признаются ( “ xxmaj xxunk ” ) ( сакральная , религиозная в своей основе , королевская власть ) и ( “ xxmaj xxunk ” ) ( военная королевская xxunk . xxmaj носителями сакральной королевской власти были жрецы , особенно жрецы xxmaj xxunk , вследствие признанного соплеменниками за ними права гаданий и общения с богами . к « военным » королям могли относиться в рамках латинской терминологии ( “ princeps ” ) , ( “ dux ” ) , ( “ rex ” ) . xxmaj различия между рексами ( “ rex ” ) и xxunk ( “ dux ” ) - не более чем риторическая антитеза . xxmaj знатность ( “ rex ” ) и доблесть ( “ dux \" ’ ) - xxunk качества как рексов , так и дуксов . \n",
       "  xxmaj необходимо отличать частную власть над небольшой свитой временного вождя , от командной власти публично - правового характера дуксов и рексов , поскольку это было делом всего племени . xxmaj нам известны многие имена германских дуксов , но лишь немногие из них становились рексами . xxmaj превращение дуксов в рексов связано с завоеванием под их руководством племенем или союзом племен новых территорий и закрепления их ( хотя бы временно ) за собой . \n",
       "  xxmaj претенденты на королевскую власть хорошо осознавали наличие главного препятствия на пути к установлению своего единовластия . xxmaj им была оппозиция знати , обладавшей своими вооруженными xxunk . xxmaj поэтому , стремясь увеличить собственные дружины , они охотно принимали в них не - германцев . xxmaj прогрессирующее « слияние народов » приводило к тому , что дружины « военных королей » представляли собой не этнические , а политические формирования . xxmaj это , в свою очередь , стало важнейшей предпосылкой генезиса государственности у древних германцев . \n",
       "  xxmaj ни одному из военных вождей i в . н . э . не удалось самостоятельно учредить на длительную перспективу третью , высшую стадию личной публичной власти , ( “ xxunk ” ) ( королевскую власть над всем племенем и от имени всего племени с основанием своей династии ) . \n",
       "  xxmaj на основании xxunk гипотезы о происхождении королевской власти у древних германцев , можно предположить , что традиционными для них были формы личной и родовой легитимации . xxmaj поскольку христианизация xxmaj западной xxmaj европы началась и распространялась преимущественно из xxunk земель , за xxmaj xxunk христианские традиции и таинства стали xxunk позже и в меньшей степени повлияли на формирование институтов власти , чем на территориях бывшей xxmaj римской империи . xxmaj более того , в землях к востоку от xxmaj рейна довольно долго сохранялось язычество , которое напрямую связывает традицию легитимации священной власти правителя либо с его исключительными качествами , прежде всего воинскими качествами и xxunk способностями , либо , с представлениями о сакральном xxunk рода . xxmaj род , из которого на протяжении нескольких поколений выходили талантливые полководцы , первоначально многочисленный , со временем наделялся соплеменниками сакральным могуществом , передающимся по наследству . xxmaj на этой почве возникали легенды о том , что род ведет свое начало от языческих богов . « xxmaj xxunk ( германское племя - авт . ) , -по свидетельству xxunk историка xxmaj xxunk , - объясняя победы свои счастливым влиянием своих предводителей , не желали видеть в этих последних простых смертных ; они xxunk их xxunk , то есть xxunk . xxmaj это дает нам некоторые основания утверждать , что у германцев существовал обычай мифологизировать происхождение своих правителей ( сам миф мог возникать позднее ) . \n",
       "  у германцев преобладали личная и родовая формы легитимации королевской власти . xxmaj подтверждением этому является сохранение на протяжении всего средневековья могущества и фактической самостоятельности xxunk \n",
       "  ных родов , первоначально представлявших собой роды вождей , правителей . xxmaj их главы в дальнейшем , xxunk остальные роды , становятся племенными герцогами . xxmaj речь идет о формировании союза племенных герцогств , составивших ее основу и усилении власти магнатов ( племенных вождей ) . xxmaj немецкая государственность в эпоху раннего средневековья создавалась на фоне слабости королевской власти , при сохранении влиятельных и авторитетных позиций племенной знати , и под влиянием внешней угрозы , обусловившей xxunk германских племен . xxmaj другой особенностью древнегерманской государственности стало то , что вожди племен и представители племенной знати почти сразу после распада империи xxmaj карла xxmaj великого начали проявлять большую самостоятельность в отношении расширения своих владений и своего влияния за счет xxunk в эпоху поздних xxmaj каролингов королевской власти . xxmaj племенные герцогства ( “ xxmaj xxunk , , ) стали представлять собой крупные территориально - этнические образования , власть xxunk в которых стала продолжением власти вождей этнических групп . xxmaj их союз составил основу германской государственности в эпоху раннего средневековья . \n",
       "  xxmaj таким образом , в первой трети xxup х^п вв . xxmaj германия представляла собой в целом единое государство . xxmaj слабое развитие феодализма , внешняя угроза и активная политика централизации первых германских королей способствовали утверждению xxunk монархии , временному усилению королевской власти . xxmaj королям удалось создать государственные объединения из прежних племенных герцогств . xxmaj вместе с тем отсутствие этнической общности , слабые экономические связи между отдельными герцогствами делали единство этого государства относительным . в этот период произошло значительное территориальное расширение германского государства . в результате присоединения части xxmaj италии , xxmaj xxunk , xxmaj чехии и образования xxmaj xxunk , xxmaj восточной и других марок возникла обширная империя . \n",
       "  xxmaj германские короли с x в . получили титул императоров « xxmaj священной xxmaj римской империи » . xxmaj временному усилению королевской власти способствовала деятельность xxmaj оттона i ( xxunk гг . ) из династии xxmaj xxunk ( xxmaj саксонская династия ) , который в борьбе с герцогами пытался опереться на церковное землевладение и церковные учреждения . xxmaj коронация xxmaj оттона i , второго сына xxmaj генриха i и назначенного им своим наследником , демонстрирует новое для раннесредневековой германской истории обстоятельство : отказ от выбора или назначения императора членами королевской семьи из старших в роду xxunk xxmaj каролингов , и назначение прямого наследника с условием , что право наследования не распространялось на всех членов королевского дома .,xxbos xxmaj влияние традиционной монархической власти на общество сильно отличалось от влияния современных властей . в наши дни с помощью средств массовой информации мы можем наблюдать за политической деятельностью и даже за личной жизнью государственных деятелей . в прошлом же монархическая власть не была связана постоянными взаимоотношениями с подданными , часто бывая просто скрытой от них . \n",
       "  и сам властитель на всем протяжении своего правления зачастую очень мало знал о своих подданных , лишь понаслышке от своих приближенных . xxmaj xxunk и подданные могли встретиться друг с другом лишь во время официальных церемоний . \n",
       "  xxmaj шестое столетие существования османского государства сильно отличалось от предшествующих , как и xxup xix в . вообще , для всех монархий , был не похожим на прежние времена . xxmaj государи , наделенные « божественной властью » , начали терять свое влияние на подданных , а монархии - разрушаться одна за другой под напором революций . \n",
       "  xxup xxunk началу xxup xix столетия xxmaj османская империя стояла перед xxunk xxunk , xxunk как изнутри , так и из - за пределов xxunk - xxup xxunk - рии . xxmaj поскольку реальная сила государства снижалась , символика и ритуал приобретали новые значения . и если европейские империи делали акцент на великолепии , то xxmaj османская империя , чьи материальные ресурсы значительно xxunk от других европейских держав , делала упор на сохранение прежних традиций власти , которые , в свою очередь , опирались на древние традиции и исламские xxunk . \n",
       "  xxmaj основными церемониями османских султанов были : вступление на престол и присяга на верность , подпоясывание саблей , церемония следования султана в мечеть по пятницам , поздравление с праздниками и официальные приемы . xxmaj остановимся на первых двух xxunk . \n",
       "  xxmaj церемония вступления на престол и присяги на верность ( xxmaj xxunk xxunk xxmaj xxunk ) . xxmaj она проходила во время восшествия султана на престол для знакомства с xxunk и представления нового правителя государства , а иногда и новой государственной доктрины . xxmaj эта церемония носила исключительно политический характер . xxmaj по своей сути она похожа на церемонии феодальной xxmaj европы , также изначально не имевшие религиозного характера . xxmaj истоки церемонии присяги на верность султану мы можем найти в исламской истории . xxmaj пророк xxmaj мухаммед , произнося перед xxunk ислам молитву , создавал новое по своей сути мусульманское общество . xxmaj эти церемонии были признанием лидерства и превосходства xxmaj пророка над мусульманским обществом . xxmaj именно они позднее трансформировались в церемонию знакомства с новым правителем , формой легитимизации власти и неким соглашением между государем и подданными . \n",
       "  xxmaj церемония присяги на верность имела несколько этапов , вероятно для предупреждения xxunk встречи разных слоев общества . в начале проходила церемония присяги для высших слоев общества и государственных чиновников высокого ранга , \n",
       "  xxup xxunk xxmaj алим xxmaj xxunk , аспирант кафедры истории нового и новейшего времени и международных отношений xxmaj саратовского государственного университета им . xxunk . \n",
       "  а затем для вождей племен , городской знати и народа . xxmaj участники церемонии для аристократии лишь xxunk имя нового повелителя и присягали ему на верность , после чего он представлялся более широкому кругу xxunk . xxmaj во время церемонии все xxunk xxunk руки новому xxunk : этот ритуал был одним из обязательных условий . xxmaj во времена xxmaj аббасидов эта церемония стала носить форму письменного договора правителя с подданными . \n",
       "  xxmaj по исламским законам церемония присяги была обязательной для султана , без нее он не имел законной власти на престол . xxmaj обычно султану в зале священных реликвий xxmaj пророка xxmaj мухаммеда « xxmaj нігка - і xxmaj xxunk » дворца xxmaj топкапы в первую очередь xxunk xxunk высшие лица государства : xxmaj шейх - уль - ислам , представлявший высшую духовную власть ( шариат ) и главный визирь , представлявший высшую политическую власть ( xxunk ) . xxmaj первоначально в этой церемонии участвовали и служители гарема , но со временем их количество стало уменьшаться , и они были исключены из числа участников церемонии . xxmaj могли также присутствовать и участники заговора , xxunk прежнего султана , а также xxunk нового султана , либо представители групп , чьи интересы и чье влияние представлял султан , например лидеры исламских религиозных орденов . \n",
       "  xxmaj если султан умирал своей смертью , то его наследнику сначала показывали тело его предшественника . в это время xxunk xxunk приглашения предполагаемым участникам церемонии присяги на верность , одно приглашение xxunk и новому султану . xxmaj после окончания церемонии в зале священных реликвий xxmaj пророка xxmaj мухаммеда « xxmaj нігка - і xxunk » орудийный салют xxunk подданным восшествие на престол нового султана , являясь первым официальным заявлением нового правителя . xxmaj продолжение церемонии проходило перед xxmaj вратами счастья « xxunk » дворца , где султан , сидя на троне , принимал присягу придворных . в последнее время для этой церемонии обычно использовался так называемый трон xxmaj шаха xxmaj исмаила , привезенный во дворец во время xxunk \n",
       "  xxmaj во время церемонии султан xxunk на трон под аплодисменты подданных и первым ему xxunk представитель рода xxmaj пророка xxmaj мухаммеда ( xxunk : ) или xxmaj шейх - уль - ислам . xxmaj между аплодисментами подданные произносили султану хвалебные речи , к примеру , « с божьей помощью живи тысячу лет для государства » . в начале и в конце церемонии оркестр трижды играл праздничный марш . xxmaj все участники во время церемонии выкрикивали « xxmaj долгие лета падишаху ! » . xxmaj шейх - уль - ислам или представитель рода xxmaj пророка xxmaj мухаммеда стоял напротив султанского трона и громким голосом читал молитвы . xxmaj султан слушал молитву стоя , раскрыв ладони . xxmaj во время церемонии сидеть мог только султан , все остальные подданные стояли . xxmaj во время церемонии присяги xxmaj абдул - xxmaj хамиду xxup ii количество участников церемонии сильно увеличилось по сравнению с количеством участников прежних церемоний . xxmaj поэтому продолжение церемонии проходило во дворце xxmaj долмабахче . xxmaj султан xxmaj абдул - xxmaj хамид xxup ii , по свидетельствам современников , во время церемонии во дворце xxmaj топкапы , а затем в xxmaj долмабахче , « не вставая с трона » , принимал присягу xxunk религиозных орденов , военных и гражданских чиновников . и если на прежних церемониях лидеры немусульманских обществ отправляли лишь письменные поздравления султану , то на церемонии присяги xxmaj абдул - xxmaj хамиду xxup ii они уже присутствовали как непосредственные участники церемонии . xxmaj таким образом , церемония присяги султану xxmaj абдул - xxmaj хамиду xxup ii , была первой , где присутствовало столько подданных , представителей разных групп османского общества . xxmaj не присутствовали на этой церемонии послы иностранных государств , поскольку они не являлись подданными султана , и поэтому они направляли xxunk письма в министерство иностранных дел xxmaj османской империи . \n",
       "  в xxunk и уезды отправлялись известия о вступлении на престол нового султана , и впредь этот день праздновался ежегодно . xxmaj на протяжении трех дней , пять раз в день xxunk праздничный салют , учреждения закрывались на выходные , а город xxunk . xxmaj вечером в мечетях , магазинах и xxunk на xxmaj xxunk xxunk \n",
       "  светильники , для этого бралось специальное разрешение у xxunk судьи , устраивались фейерверки и иллюминация , а также играли оркестры . в xxunk и уездах в общественных местах xxunk фирман о восшествии на престол нового султана , в мечетях после xxunk произносились молитвы во здравие нового султана . xxmaj приходили поздравления и из - за границы , которые направлялись во дворец . \n",
       "  xxmaj во время правления султана xxmaj абдул - xxmaj хамида xxup ii день восшествия на престол праздновался особенно пышно , в городах проходили торжества . в церемонии празднования принимали участие xxunk принцы , губернаторы , религиозные лидеры ( как исламские , так и других религий империи ) , руководители коммерческих сообществ , владельцы газет , xxunk свои поздравления султану , а иногда даже поздравления от имени своих жен . xxmaj переводчики xxunk поздравления иностранных послов . xxmaj газеты печатали поздравления эмира xxmaj мекки и египетского xxmaj xxunk . \n",
       "  xxmaj другой церемонией османских султанов было « подпоясывание саблей » или « получение права на ношение сабли » ( xxmaj xxunk xxunk ) . xxmaj после церемонии присяги на верность , на которой присутствовало лишь ограниченное количество подданных , была необходима еще одна церемония , на которой подданные должны были увидеть своего нового повелителя . xxmaj именно поэтому появилась такая церемония — « подпоясывание саблей » . в источниках она имеет разные названия — « xxunk - i seyf » ( подпоясывание саблей ) и « xxunk - i seyf » ( xxunk сабли ) . xxmaj истоки появления этой церемонии идут из существующего издавна понимания меча как символа власти , и поэтому во время церемонии « подпоясывания саблей » правитель получал символическую власть над подданными . xxmaj кроме того , меч всегда являлся символом правосудия и законности . xxmaj эту церемонию можно рассматривать как аналог коронования европейских монархов , только в данном случае корону заменял меч . xxmaj впервые эта церемония появляется во время становления и распространения ислама . xxmaj ее использовали и некоторые халифы xxunk xxunk . в xxmaj османской \n",
       "  империи эта церемония получила окончательное оформление и xxunk в себя традиции разных культур . xxmaj возможно , эта церемония была одним из ритуалов традиционных военных сообществ , и султан как главнокомандующий получал таким образом власть над xxunk войском . \n",
       "  xxmaj церемония « подпоясывания саблей » не является сугубо восточной исламской церемонией , так же как и церемония коронации не является сугубо европейской . xxmaj церемония коронации впервые появилась на xxmaj востоке , в xxmaj персии , позднее она была xxunk xxunk , а из xxmaj византии уже попала в xxmaj европу . xxmaj но в исламском мире нигде , кроме xxmaj персии , xxunk правителей больше не существовало . в xxmaj османской империи использовалось лишь само понятие xxunk особы , или владельца короны . xxmaj исключение составляет лишь султан xxmaj сулейман i xxmaj великолепный ( xxmaj xxunk ) , для которого в xxmaj венеции был изготовлен шлем с четырьмя xxunk и xxunk печати на письмах султанов , которые , начиная с xxup xix века , в подражание европейским традициям стали иметь изображение короны . в молитвах , xxunk во здравие султана , говорилось не о « владельце меча » , а о « владельце короны » ( 1ае - xxunk ) , а именовался султан как « правитель владелец короны » ( 1ае - xxunk xxunk ) . xxmaj хотя как один из возможных вариантов замены « подпоясывания саблей » мог xxunk ритуал « xxunk xxunk » . \n",
       "  в xxmaj османской империи одна из первых церемоний « подпоясывания саблей » прошла во время вступления на престол султана xxmaj мурада xxup ii в 1421 г . неподалеку от xxmaj xxunk . xxmaj покоритель xxmaj константинополя , султан xxmaj xxunk xxup ii xxmaj xxunk в 1453 г . в обращении к жителям xxmaj xxunk именует себя « xxunk саблей по праву » . с конца xxup xvi столетия церемония стала проходить в xxmaj стамбуле в районе xxmaj эйюп , где находилась могила сподвижника пророка xxmaj мухаммеда xxmaj эйюпа эль xxmaj xxunk . в xxunk г . там прошла церемония « xxunk - ния саблей » султана xxmaj мурада xxup iii . xxmaj после того , как султаны перестали участвовать в военных походах , этот ритуал превратился в церемонию . xxmaj какими xxunk подпоясывались султаны в первое время , неизвестно , возможно это мог быть меч « xxmaj осман xxmaj гази » , поскольку использовавшиеся позднее в церемониях сабли xxmaj пророка xxmaj мухаммеда и другие мечи были при- \n",
       "  xxunk в xxmaj стамбул султаном xxmaj xxunk i xxmaj xxunk лишь в 1517 году вместе с другими мусульманскими xxunk . xxmaj очевидно лишь то , что на всем протяжении существования этого ритуала какого - то определенного меча для церемонии не существовало и султаны использовали для этой церемонии различные мечи . xxmaj несмотря на то , что меч xxmaj пророка xxmaj мухаммеда должен был стать наиболее подходящим для этой церемонии , он не использовался постоянно . xxmaj сейчас во дворце xxmaj топкапы хранятся два меча , принадлежавших xxmaj пророку xxmaj мухаммеду . xxmaj очевидно , меч xxmaj пророка был очень ценной исламской реликвией и поэтому использовался нечасто , либо причиной редкого использования столь ценного меча был его большой размер и вес . \n",
       "  xxmaj некоторые султаны подпоясывались двумя мечами , это происходило , в частности , на церемониях xxmaj мурада xxup iv ( 1623 ) , xxmaj махмуда xxup ii ( 1808 ) и xxmaj абдул - xxmaj хамида xxup ii ( 1876 ) . xxmaj махмуд xxup ii использовал в этой церемонии меч xxmaj пророка xxmaj мухаммеда и меч « xxmaj осман xxmaj гази » , поскольку один из мечей был символом духовной власти , а другой был символом династии . xxmaj так же и султан xxmaj абдул - xxmaj хамид xxup ii сначала подпоясался мечом xxmaj xxunk , а затем подпоясался « мечом султаната » , которым являлся меч « xxmaj осман xxmaj гази » . \n",
       "  xxmaj во время церемонии султана обычно « xxunk саблей » либо представитель рода xxmaj пророка , либо xxmaj шейх - уль - ислам , а в некоторых церемониях эту функцию исполняли известные религиозные деятели . \n",
       "  xxmaj обычно непосредственными участниками церемонии были представители различных властных группировок и религиозные деятели . xxmaj до 1826 года , вплоть до упразднения xxunk войска , в церемонии участвовали и xxunk . xxmaj обязательными участниками церемонии были первые лица государства : главный визирь , представлявший верховную политическую власть , xxmaj шейх - уль - ислам , представлявший верховную религиозную власть , а также военный министр , государственные чиновники . \n",
       "  xxmaj место проведения церемонии xxmaj эйюп ( мечеть и гробница ) было и остается одним из самых почитаемых святых мест в xxmaj стамбуле . xxmaj здесь находится гробница сподвижника xxmaj пророка xxmaj мухаммеда xxmaj эйюпа \n",
       "  xxmaj как пишет очевидец событий , османский интеллектуал xxmaj xxunk xxmaj xxunk xxmaj эфенди , днем проведения церемонии « подпоясывания саблей » xxmaj aбдyл - xxmaj хамида xxup ii был объявлен четверг 7 сентября 1876 г . , шестой день после вступления султана на престол . xxmaj поскольку день проведения церемонии был объявлен заранее , в xxmaj стамбул смогли приехать тысячи жителей ближайших городов : xxmaj эдирне ( xxmaj xxunk ) , xxmaj xxunk , xxmaj xxunk , xxmaj xxunk xxmaj xxunk ( xxmaj xxunk ) , xxmaj варны и xxmaj синопа , а также с окраин : xxmaj босфора , xxmaj сан - xxmaj xxunk и xxmaj xxunk островов . xxmaj за церемонией наблюдали xxunk тыс . человек . \n",
       "  xxmaj церемония « подпоясывания саблей » султана xxmaj aбдyл - xxmaj хамида xxup ii началась с отплытия xxunk процессии из дворца xxmaj долмабахче , о чем xxunk xxunk из семи пушек . xxmaj по мере приближения султана к xxmaj xxunk начали xxunk османские и иностранные корабли в заливе xxmaj золотой xxmaj рог . xxmaj после этого xxunk « xxmaj xxunk » дал 120 xxunk из своих орудий . xxmaj матросы императорского флота , произнося « xxmaj долгие лета падишаху ! » , отдавали честь новому султану . \n",
       "  в xxmaj xxunk султан был встречен на пристани xxmaj xxunk , по двум сторонам дороги стояли османские солдаты , одетые в форму времен султана xxmaj aбдyл - xxmaj меджида . xxmaj тысячи подданных , находясь на берегу , восторженно выкрикивали « xxmaj долгие лета падишаху ! » . к мечети султан направился на белом арабском xxunk . \n",
       "  xxmaj церемонии , основанные на традиционном исламе , на протяжении долгого времени активно использовались властью xxmaj османской империи . xxmaj xxunk государство на то время было единственным исламским государством xxmaj европы , которое xxunk в xxup xix в . на путь модернизации при сохранении традиционных ценностей османского общества . xxmaj традиционные ритуалы удачно вписались в современную действительность , поскольку при дворах европейских монархов существовали похожие церемонии . xxmaj османский султан , таким образом , становился членом большой семьи европейских коронованных особ , сохраняя при этом древние традиции ислама и xxmaj османской империи .,xxbos xxmaj поднимается проблема реализации политических интересов в xxmaj российской xxmaj федерации в условиях закрепленного xxmaj конституцией xxup рф политического многообразия . xxmaj автор выделяет социальные группы акторов политического процесса , анализирует их современное состояние , а также выделяет проблемы и возможности по реализации ими своих политических интересов . \n",
       "  xxmaj конституция xxmaj российской xxmaj федерации ( 12 декабря 1993 г . ) заложила основу формирования новых политических отношений в российском обществе , закрепила демократические , федеративные , правовые и социальные основы конституционного строя государства , провозгласила в стране политическое многообразие . xxmaj это имеет принципиальное значение для общетеоретического анализа общественного развития xxmaj россии и конкретного исследования деятельности субъектов политики , особенно в связи с тем , что многие положения xxmaj конституции до сих пор не стали основой общественной и государственной жизни . \n",
       "  xxmaj конституционно - правовому принципу политического многообразия присущи следующие черты : \t xxunk ; легальная оппозиция государственной власти ; регулярные \n",
       "  общенародные свободные выборы органов государственной власти ; комплекс прав и свобод граждан , позволяющий им участвовать в общественно - политической жизни ; равноправие и свобода идеологии ; правовые формы взаимодействия субъектов политических отношений и др . xxmaj таким образом , основным принципом политического многообразия является свободная реализация политических интересов разнообразных социальных групп . xxmaj поэтому основной задачей нашего исследования было выявление ориентаций , позиций и взглядов социальных субъектов , обоснованных политическими интересами с позиции политического многообразия . \n",
       "  xxmaj анализ литературы показывает , что современная политическая лексика широко оперирует категориями , используемыми в качестве базовых ( исходных ) , не xxunk их смысл . к примеру , составные понятия с определением « политическое » : « политическая парадигма » , « политический интерес » , \t « политический консенсус » , \t « политическая коммуникация » , \t « политический \n",
       "  менеджмент » . xxmaj некоторые публикации содержат сложный понятийный аппарат , обремененный неологизмами , выявление сущности которых становится нередко автономной исследовательской задачей . xxmaj поэтому , рассматривая политическое многообразие с позиции политического интереса , мы стремимся , с одной стороны , научно - аналитически , а с другой — xxunk - идеологически воспроизвести и изучить реальные процессы общественной жизни xxmaj россии и их соответствие основным конституционным положениям . \n",
       "  с нашей точки зрения , данный подход методологически обоснован целесообразностью исследования политических интересов , поскольку именно они выступают в качестве основы теоретической и практической деятельности в сфере политики , служат формированию соответствующих политико - правовых систем , экономик , отношений в обществе и межгосударственных связей . xxmaj политическое многообразие — это политически обусловленный феномен , к которому чаще всего прибегают : во - первых , при характеристике уровня развития либо при конкретной репрезентации того или иного сообщества ; во - вторых , при маскировке внутренних ( структурных ) \n",
       "  источников неравенства граждан либо при рассмотрении системы символов и определенных политических практик ; в - третьих , при xxunk понимании институтов , общественных систем и конституционно - правовых принципов , позволяющих отличить одно государство от другого . xxmaj иными словами , речь идет об уникальной политико - правовой идентичности , а не о содержательном аспекте « зафиксированной субстанции самой по себе » [ 6 , р . 221]. \n",
       "  xxmaj политические интересы изменяются в соответствии с xxunk социальнополитической реальностью , динамикой выраженных ими потребностей , а также в зависимости от рационалистической традиции науки ( классической , неклассической , постмодернистской ) и эпистемологического контекста в целом . в связи с этим интерпретация их в контексте фактов мира политического подвержена постоянной переоценке . \n",
       "  xxmaj исходная концептуальная схема обыденных интересов первичного уровня социальной иерархии — человека — заключается в реальном обеспечении конституционных прав и свобод , личной безопасности , в повышении качества и уровня жизни , в физическом , духовном и интеллектуальном развитии . xxmaj однако данная схема очень сильно меняется при включении в нее конкретных политических интересов индивидов . с одной стороны , учитывается влияние первичного опыта , идеологических , ценностных , эстетических , религиозных представлений социальных слоев и групп ; с другой — пути приближения к реальности , а вместе с этим удаление от « относительности » и « xxunk своеволия » . xxmaj именно в этом смысле понятие « политический интерес » употребляется в современной мировой политике . \n",
       "  в последние годы политический интерес , наделенный некоторыми учеными аспектами универсальности и xxunk , активно используется для анализа как структуры и функций территориального суверенного государства и национальной идентичности , так и политических интересов отдельного индивида , несмотря на то , что субъективные интересы и xxunk ими политические ориентации присущи отнюдь не всем представителям того или иного сообщества [ 3 , с . 38]. xxmaj это наблюдается и в российском обществе , к примеру , на региональном уровне акторы политического процесса нередко оказываются сильнее институтов , потому что существующее формальное институциональное регулирование в регионах не создает для них ограничений и не является для них защитой , а неформальные политические практики превращаются в устойчивые традиции . \n",
       "  xxmaj сложная в теоретико - методологическом плане категория « политический интерес » имеет тенденцию к сужению вектора содержания и крайне редкому применению в нормативноправовых актах , что не может быть не только положительно оценено , но и подвергнуто критическому осмыслению . xxmaj использование же ее только в форме нормы - дефиниции вряд ли эффективно xxunk поставленную проблему и xxunk специфику реализации политического интереса гражданина в современной xxmaj россии . \n",
       "  xxmaj анализируя деятельность общественных объединений , мы отмечаем , что большинство интересов , реализуемых ими , не имеют политического характера и вообще не относятся к сфере политики . xxmaj однако они приобретают политическую направленность по различным причинам . xxmaj это происходит , с одной стороны , когда объектом интереса оказываются те или иные феномены политической системы : интерес к xxunk властью , придание ей определенной направленности , завоевание доверия избирателей и их голосов на выборах , укрепление политических позиций человека , xxunk политической практикой , статуса политической организации , государственной власти в ее внутренней или внешнеполитической деятельности ; а с другой — когда интерес сам по себе направлен не на политические явления , то есть по своей природе не является политическим , но для его реализации требуется использовать политическую власть . xxmaj примеров можно привести xxunk . \n",
       "  xxmaj во - первых , естественный интерес каждого человека и каждой социальной группы к повышению своего благосостояния , увеличению получаемых доходов сам по себе не является политическим , между тем зачастую борьба за реализацию этого интереса находит выражение в требованиях , xxunk к правительству , парламенту , местным органам власти . в подкрепление таких требований могут проводиться политические забастовки и другие подобные массовые акции ( например , политическая борьба xxunk , учителей , xxunk за обеспечение своих материальных интересов ) . \n",
       "  xxmaj во - вторых , несмотря на то , что такие общественные объединения , как xxunk , экологические и некоторые другие , не ставят цели завоевания власти , тем не менее деятельность многих из них имеет политическую окраску . xxmaj такие движения не только оказывают давление на власть , но и играют важную роль в политическом воспитании граждан , в преобразовании общественной жизни ( движение антиглобалистов ) . \n",
       "  в - третьих , в xxmaj российской xxmaj федерации трудовые права женщин защищены xxmaj конституцией xxup рф , основами трудового законодательства , многочисленными указами xxmaj президента xxup рф , постановлениями xxmaj правительства xxup рф и многими другими документами , xxunk любую дискриминацию , в том числе и по признаку пола , однако в реальной жизни существует немало факторов , осложняющих положение женщин на рынке труда . xxmaj поэтому xxmaj союз женщин xxmaj россии пытается разрешить гендерную проблему за счет увеличения представительства женщин в органах государственного и муниципального управления . \n",
       "  в - четвертых , давление на властные структуры федеральных , региональных и местных уровней оказывают профсоюзы , союзы инвалидов , ветеранов и пенсионеров , пытаясь защитить социальные и экономические интересы своих представителей , стремясь обеспечить более высокий уровень жизни и преодолеть бедность названных социальных групп . \n",
       "  в - пятых , в условиях рыночной экономики все более активной становится проблема выживания бизнеса , не говоря уже о том , что в нем существует определенная дифференциация . xxmaj борьба из сферы экономики переходит в сферу политики . xxmaj таким образом , роль бизнес - групп в политике определяется финансовыми возможностями , позволяющими xxunk избирательные кампании , оказывать определенные услуги , в том числе подкупать правительственных чиновников и депутатов для достижения амбициозных политических интересов . \n",
       "  в - шестых , смена поколений связана не только с процессом простого воспроизводства , но и преемственностью экономических , социальных , в том числе и политических отношений . в условиях развивающихся рыночных связей самой xxunk социальной группой является молодежь . xxmaj далеко не редки случаи дискриминации молодежи из - за возраста в нарушение имеющегося законодательства и ущемления ее социально - политических прав . xxmaj тем самым создается благоприятная среда для возникновения различных социальных конфликтов , имеющих , как правило , политическое содержание . \n",
       "  xxmaj таким образом , объективное положение социальных групп в обществе и их возможности воздействия на политику , процедуры принятия политических решений ( в частности , принятие законов и формирование стереотипов осуществления их норм органами исполнительной власти , реальных стратегий жизни и деятельности различных групп населения ) не прямо создают основу для развития политической системы государства , формальных и неформальных движений и организаций , в которые люди включаются в соответствии с политическими интересами и с xxunk xxunk позициями . xxmaj процесс выработки интересов и мировоззренческих установок сложен , ибо они складываются не только под воздействием объективных социальных , экономических , духовных и других факторов , но и в связи с усилением влияния федерального центра на политико - властные процессы в субъектах xxmaj российской xxmaj федерации в рамках выстраивания системы управляемой демократии и вертикали российской власти . \n",
       "  xxmaj наиболее совершенные общественные организации , призванные защищать интересы гражданского общества , — это политические партии , основной функцией которых является социальное представительство , характеризующее их связь с социальными группами и обществом в целом . xxmaj однако отметим , что сегодня очень трудно определиться с социальной структурой и социальным содержанием той или иной партии . xxmaj так , если ранее партии стремились подчеркнуть свою социальную базу в названии ( например , « xxmaj польская объединенная рабочая партия » , « xxmaj болгарский xxunk союз » и др . ) , то в настоящее время практически ни одна партия не имеет в качестве своей базы определенный социальный слой . xxmaj существующие ныне политические партии xxmaj россии ( например , « xxmaj единая xxmaj россия » , « xxup кпрф » , « xxup лдпр » , « xxmaj справедливая xxmaj россия » и т . д . ) объединяют все слои общества — от xxunk до олигархических . xxmaj это существенная особенность многопартийности в xxmaj российской xxmaj федерации . \n",
       "  xxmaj ученые , описывая результаты анализа изменений , эволюции , трансформаций российской многопартийности , отмечают как положительные ( xxunk партийной работы , рост вовлеченности в принятие политических решений и др . ) , так и проблемные ( отрыв от избирателей , усиление внутрипартийной борьбы и т . д . ) моменты , проявляющиеся в деятельности партий в регионах , возникшие в результате изменений законодательства о политических партиях . xxmaj многие делают акцент на таком xxunk факте партийной реформы , как усиление отчуждения партий от общества , резкое сокращение партийного сектора в политике и уменьшение связи партий с политической активностью граждан [ 4 ] , что , в частности , создает проблемы как для правящей группы , для взаимодействий политических элит , так и для политической системы в целом . к примеру , при введении пропорциональной системы выборов ( по партийным спискам ) в xxmaj государственную думу xxup рф в соответствии с законом « о политических \n",
       "  партиях » [ 5 ] граждане страны лишились права самостоятельного выдвижения , так как право выдвигать кандидатов в сферу власти отныне имеют только партийные органы , что вызывает закономерные протесты многих экспертов и аналитиков . \n",
       "  xxmaj это дает основание придерживаться точки зрения , согласно которой формирующиеся политические силы xxmaj россии , с одной стороны , неразрывно связаны не только с социальноэкономическими изменениями , но и с концентрацией капитала , что ведет к сокращению поля политической конкуренции , к сужению социальной базы многопартийности . с другой стороны , партийная деятельность в этих условиях все больше ориентируется не на идеологию и программы , а на отдельные личности и носителей власти , что обусловило идеологическую слабость российских партий и зависимость партийных элит от исполнительной власти . xxmaj дело в том , что стремительно растущая стоимость избирательных кампаний ставит выживание партий в зависимость от внешних источников финансирования . xxmaj при этом близость парламентских партий к реальным центрам принятия решений в условиях , когда государство активно вмешивается в экономику в форме экспортных квот , лицензий , льготного налогообложения , государственных гарантий и прямого инвестирования в бизнес при отсутствии легальной процедуры лоббирования групповых интересов , делает их объектом xxunk активности финансовопромышленных кланов [ 2 , с . 333]. \n",
       "  xxmaj возникает порочный круг : с одной стороны , лишенные властных полномочий партии не могут рассчитывать на установление прочных связей с обществом , а без поддержки общества не могут играть самостоятельную роль в политическом процессе , так как не смогут реализовать свои политические интересы ; с другой стороны , наличие среди членов одной партии представителей разных социальных групп препятствует выработке единых ценностных ориентаций и способствует утверждению взаимоисключающих целей персональной активности , что в конечном итоге не обеспечивает достижение баланса политической ориентации . xxmaj мы полагаем , что социальные практики политического и общественного участия российских граждан в сфере публичного дискурса имеют многоаспектный характер , но они не объединены на основе сотрудничества и xxunk партнерства , поэтому в общественном сознании постепенно утрачивается понимание общественных проблем и необходимость утверждения рациональной мотивации поведения избирателей . \n",
       "  и все - таки главным выразителем общих политических интересов общества выступает государство . xxmaj партийная система в нем предстает в роли ведущего элемента взаимодействия идеологии частного сектора и стратегии политики государства . xxmaj политические интересы — это конкретные цели и программы партий , которые могут меняться ( хотя бы вследствие ротации политической элиты ) . xxmaj однако нельзя забывать , что партийная система в государственно - частном управлении подчинена законам и принципам деятельности рынка ( монополизация определенной идеологии — правые , левые , центр и т . д . ) , поэтому политические технологии , используемые политической элитой , позволяют партиям манипулировать идеологической составляющей своих программ , которые априори должны соответствовать спросу и ожиданиям избирателей , суждениям со стороны конкурентов и политическим интересам властных институтов государства . \n",
       "  в соответствии со статьей 10 xxmaj конституции xxup рф государственная власть в xxmaj россии разделена на законодательную , исполнительную и судебную . xxmaj для предотвращения политико - правовых коллизий в демократических государствах существует законодательно закрепленная схема взаимодействий между ветвями власти , именуемая « системой сдержек и противовесов » . xxmaj каждый государственный орган , осуществляющий одну из трех функций государственной власти , взаимодействует с двумя другими и имеет цель не только ограничивать их xxunk , но и достигать иных целей , стратегически и xxunk важных для страны и определенных политических сил . к примеру , используя содержание нормативно - правовых актов , регулирующих избирательный процесс , и возможность их изменения , федеральные и региональные акторы стремятся получить преимущество именно в данной области . \n",
       "  xxmaj если в 90-е гг . xxup xx в . региональные политико - властные структуры в законодательной деятельности были независимы от федерального центра , то в начале xxup xxi в . с введением в 2004 — 2006 гг . в действие избирательных инициатив бывшего президента xxup рф xxup в. xxup в. xxmaj путина — института федерального вмешательства ( права центра xxunk региональные парламенты и отрешать от должности президентов и губернаторов за нарушение ими xxmaj конституции xxmaj российской xxmaj федерации и федерального законодательства ; пропорциональной системы образования нижней палаты xxmaj парламента ; отмены прямых президентских и губернаторских выборов ) — законодательный инструмент воздействия на электоральный процесс был сосредоточен в руках федерального центра , что существенно ослабило роль и политические возможности регионов . xxmaj сокращение законодательных форм политико - властного влияния региональных элит на электоральный \n",
       "  процесс привело к расширению использования организационно - административных и пропагандистских технологий управления электоратом и кандидатами . \n",
       "  в этой связи представляется важным подчеркнуть : для российского государства характерны факторы , свойственные странам , имеющим президентское правление ( усиление роли исполнительной власти ; слабость судебной власти ; высокая конфликтность общественных отношений ) , при котором согласование деятельности различных субъектов власти — прямая и важнейшая функция президента . xxmaj это есть не что иное , как « социальный контракт » с обществом , нейтралитет президента , позиция равноудаленности от всех институтов и « игроков » , имеющих свои политические интересы . \n",
       "  в соответствии со пунктом 1 статьи 5 xxmaj конституции xxup рф xxmaj российская xxmaj федерация состоит из республик , краев , областей , городов федерального значения , автономной области , автономных округов — равноправных субъектов xxmaj российской xxmaj федерации . xxmaj таким образом , спецификой современного российского федеративного государства является то , что оно строится на принципах смешанного федерализма — объединяет в качестве субъектов xxmaj федерации не только национально - территориальные , но и территориальные образования , обладающие своими политическими интересами . « xxmaj перекосы » в социальной политике , проводимой российским государством в 90-е гг . , инициировали ряд негативных социальных тенденций в регионах страны : во - первых , они существенно обострили и без того ставшую очень серьезной проблему локального имущественного расслоения населения и его социальной стратификации ; во - вторых , отрицательно сказались на уровне здоровья общества и на качестве человеческого потенциала регионов . xxmaj заметим , что изменения в социальной структуре населения регионов , его ценностных ориентациях , социальной жизнедеятельности и качестве жизни сопровождались беспрецедентным xxunk основных параметров социальной системы [ 1 , с . 82 — 89 ] , выразившемся в появлении многоуровневой противоречивой системы интересов — интересы государственной , экономической и региональной элиты , интересы политических деятелей , интересы xxunk народа . xxmaj все это самым непосредственным образом влияет на сферу интересов субъектов и объектов политических отношений . \n",
       "  в статье 12 xxmaj конституции xxup рф декларируется , что в xxmaj россии признается и гарантируется местное самоуправление , которое самостоятельно в пределах своих полномочий и не входит в систему органов государственной власти . xxmaj без преувеличения можно сказать , что от его организации и результативности деятельности зависит не только действенность государственного управления , но и реализация политических интересов граждан , поскольку российское общество xxunk из сотен тысяч местных сообществ . xxmaj именно местному самоуправлению отводится наиболее значимая роль в реализации одной из главных задач современности — соединение интересов государства , общества и личности , чтобы на уровне отдельно взятой личности осуществлять гармонизацию прав и свобод человека и гражданина с интересами государства и общества . в этом и заключается основной политический интерес органов местного самоуправления , который отвечает идеям современного демократического правового социального государства . \n",
       "  xxmaj закрывая вопрос о принципе разделения государственной власти , отметим , что вряд ли кто может утверждать , что система « сдержек и противовесов » самодостаточна и способна решать все проблемы государственной деятельности . xxmaj она нацелена прежде всего на недопущение монополизации власти в одних руках , но в то же время существует и другая опасность : власть нельзя делить , « xxunk » до такой степени , чтобы это привело к распаду государства или обострению конфликтов между различными ветвями государственной власти и социальными группами . \n",
       "  в заключение хотелось бы отметить , что нами рассмотрены основные субъекты политических отношений , имеющих и реализующих свои многообразные политические интересы . xxmaj проблемы , поставленные выше и связанные с реализацией политических интересов в условиях трансформации общественных отношений в xxmaj россии , не xxunk , они отражают реальность сегодняшнего дня . xxmaj необходимо отметить , что по сравнению с xxunk периодом управления государством сегодня отмечается стабилизация социально - политических и экономических отношений в xxunk российском обществе , однако до полного устойчивого развития xxmaj российской xxmaj федерации еще далеко . \n",
       "  к сожалению , процессу агрегирования и артикуляции политических интересов мешает , во - первых , недостаточная xxunk социальной структуры российского общества и социальная поляризация политических акторов ; во - вторых , слабая связь ценностной ориентации человека , его мировоззрения с коммуникативной солидарностью , основанной на общественно значимой деятельности ; в - третьих , размытость идеологического профиля и массовость партий , \n",
       "  которые все меньше соответствуют реалиям современного партийного существования , способствуют усилению позиций радикальных организаций и движений , что неблагоприятно сказывается на перспективах демократического развития xxmaj россии , и требуют актуализации принципа политического многообразия , закрепленного в статье 13 xxmaj конституции xxup рф .,xxbos в отечественной исторической науке так сложилось , что исследования ведутся от общего к частному ( к детализации ) . xxmaj история эмиграции не является исключением . \n",
       "  xxmaj ее изучение начиналось с общих работ - кто , когда , куда эмигрировал . xxmaj затем появились работы , посвященные отдельным странам рассеяния , группам эмиграции ( политическим , профессиональным , социальным , религиозным , национальным и т.д . ) , учреждениям и наиболее выдающимся русским деятелям зарубежья . \n",
       "  xxmaj что касается эмиграции , то эти вопросы тесно связаны с особенным положением этой группы людей , о котором историки порой забывают , уделяя ему незначительное внимание . xxmaj это пребывание за границей большой , довольно обособленной группы русских людей , тесно связанных мыслями , чувствами , переживаниям с xxmaj россией . xxmaj поэтому , изучая xxmaj зарубежную xxmaj россию , на наш взгляд , необходимо учитывать влияние четырех составляющих : 1 ) стереотипов прежней xxmaj россии ; 2 ) событий в xxmaj советской xxmaj россии и , как правило , заведомо xxunk отношения к ним ; 3 ) мировых событий ; 4 ) собственно эмигрантского существования . xxmaj эмигранты были русскими по своему духу , но постепенно xxunk эту « xxunk » под влиянием окружающей их среды , не становясь тем не менее иностранцами ( не по xxunk , а по образу мысли и жизни ) . \n",
       "  xxmaj говоря об эмиграции , мы привыкли считать ее активной политической силой . xxmaj но так происходит , на наш взгляд , лишь потому , что исследователи изучают всегда деятельность , а не бездеятельность . xxmaj большинство же эмигрантов , в действительности , оставались xxunk . xxmaj роман xxmaj гуль писал в 1927 г . : « xxmaj эмигранты делились xxunk : с мнением и с настроением . xxmaj первые любили своего лидера , устраивали его доклады , за xxunk xxunk умели политически спорить и доказывать « точку зрения » . xxmaj читали русские газеты . xxmaj при встрече начинали с политики . xxmaj для них xxup в. xxup м. xxmaj чернов читал в xxmaj xxunk « о xxmaj россии будущего и уроках прошлого » . xxmaj xxunk в xxmaj берлине отвечал xxmaj милюков в xxmaj париже . xxmaj керенский в xxmaj лондоне . xxmaj xxunk — в xxmaj xxunk . xxmaj авксентьев не разделял точки зрения . xxmaj xxunk xxunk « но » . xxmaj словом , можно было радостно xxunk : « революция » продолжается . xxmaj этого и хотели эмигранты с мнением . xxmaj этим жили . xxmaj эмигранты с настроением не требовали доказательств . xxmaj не ходили на лекции . xxmaj xxunk политику . xxmaj газет не читали . xxmaj но они считали , что чего - то « не дожили » . и все хотели — « xxunk ... »1 . \n",
       "  xxmaj единственное , что объединяло их всех — это любовь в xxmaj родине и желание вернуться в xxmaj россию , все остальное — xxunk . xxmaj xxunk расстояния и границы стран , материальные условия , политические взгляды , религиозные разногласия и многое другое . xxmaj причем , если ностальгия оставалась , то политические дебаты то xxunk , то вспыхивали вновь в зависимости от обстановки и ситуации в xxmaj россии и мире . xxmaj постепенно все больше людей в силу финансовых и житейских сложностей , видя усиление советской власти и нежелание стран xxmaj xxunk оказывать эмигрантам военно - политическую поддержку , xxunk в политике и отошли от нее , занявшись xxunk своего быта . xxmaj оставалась лишь \n",
       "  — \t любовь без навязывания своих путей развития отношений ( xxmaj россия — сама по себе , эмиграция - сама по себе ) ; могла быть xxunk - любовь к той xxmaj россии , которой либо уже не было и не будет , либо и не существовало никогда ; а могла быть xxunk - xxunk \n",
       "  — \t xxmaj россия может и должна быть только такой , какой мы ее себе представляем , поэтому ее такой необходимо сделать ( какой « такой » и каким образом это осуществить , каждый представлял по - своему ) . xxmaj но независимо от представления о будущем xxmaj россии , эмигранты следили за ее настоящим . \n",
       "  xxmaj советская xxmaj россия . xxmaj какой она виделась эмигрантам в разное время ? xxmaj что выделяли эмигранты из массы событий , происходивших там , чем интересовались , о чем говорили , писали , спорили ? xxmaj необходимо отметить , что в данной статье нам хотелось бы обрисовать общее видение эмиграцией xxmaj советской xxmaj россии , характерное в основных чертах для всех ее представителей , не вдаваясь в порой xxunk друг другу политические , экономические , юридические , религиозные и прочие нюансы , выделяемые различными группами и отдельными лицами . xxmaj многие русские , оказавшиеся за рубежом , ощущали себя не эмигрантами , а временно , в силу обстоятельств , xxunk за границей . xxmaj эта иллюзия « скорого возвращения » у одних длилась год - два , у других \n",
       "  — \t всю жизнь , причем со временем сроки этого возвращения изменялись от одно - го - двух месяцев до « ближайших » лет . \n",
       "  xxmaj ко всему , что происходило в xxmaj россии , эмиграция относилась , по сути , исходя из соотношения их с тремя временными факторами ( причем первый был приоритетным ) : 1 ) насколько сильно настоящее отличалось от прошлого , насколько оно его изменяло , насколько соответствовало исторической концепции развития xxmaj россии ; 2 ) что оно давало для настоящего ( для страны , для народа и собственно для эмиграции ) ; 3 ) какое значение будет иметь в будущем вообще и прежде всего для xxmaj россии без большевиков . xxmaj исходя из этого , и анализировались , как правило , все российские события , причем независимо от того или иного подхода эмиграция всегда ставила и xxunk вопрос : « xxmaj насколько это выгодно русскому xxunk \n",
       "  xxmaj за многовековую историю xxmaj россии сложилась концепция российской государственности . xxmaj эмигранты жили прошлым , хорошо его знали , могли оценить его плюсы и минусы . xxmaj рассуждения на таком уровне были доступны для всех — политиков , юристов , экономистов , историков , да и просто обывателей , поэтому оценка ситуации в свете прошлых лет была наиболее характерна для эмиграции , особенно в первой половине 1920-х гг . , когда в памяти еще были свежи воспоминания . xxmaj наиболее близка была эта позиция монархистам , правому xxunk эмиграции , прежде всего в связи с тем , что большая часть российской истории прошла именно под знаком монархии . xxmaj проблемы , оцениваемые в сравнении с прошлым , касались прежде всего общегосударственных вопросов , таких как внешняя и внутренняя политика государства . xxmaj причем , надо отметить , что в международных вопросах , в эмиграции боролись два противоположных чувства : с одной стороны , ненависть к большевикам и желание их свергнуть любой ценой , в том числе и с помощью внешнеполитических рычагов , а с другой стороны , xxunk за российские государственные ( а иногда и народные ) интересы . xxmaj особое мнение отмечалось у тех русских , которые были высланы из xxmaj россии уже в начале 1920-х гг . xxmaj как правило , анализируя результаты первых лет советской власти , они , хотя и обвиняли партию большевиков в xxunk демократического порядка в стране в ходе февральской революции и xxunk ее в состояние анархии , тем не менее признавали заслуги большевиков в воссоздании ими русской государственности и восстановлении государственного xxunk . \n",
       "  xxmaj многие эмигранты критиковали не столько политику большевиков , которые , по их мнению , решили даже задачи , с которыми не xxunk xxmaj временное правительство , сколько методы , использовавшиеся для этого . xxmaj однако , видя в некоторых советских мероприятиях историческую преемственность , эмигранты не забывали и о настоящем , о xxunk \n",
       "  1 xxmaj белова xxup е. xxup и. xxmaj демократическая эмиграция о советской государственности / xxup е. xxup и. xxmaj белова / / xxmaj зарубежная xxmaj россия . xxunk . — xxmaj сб . ст . — спб . , \n",
       "  мости использования ситуацию в своих интересах и в интересах xxmaj россии , как они их понимали . в основном это касалось интересов народа и экономики страны . в связи с анализом влияния тех или иных шагов советского правительства на настоящее бралось в расчет и настоящее русского зарубежья . и прежде всего это касалось внешней политики , поскольку именно ее изменения могли привести и отчасти приводили к фактическому изменению положения эмигрантов в странах их проживания . xxmaj внутренняя политика могла оказать на эмиграцию либо косвенное влияние , порождая внутрипартийные расколы и противоречия , изменения во взглядах вплоть до xxunk и т.д . , либо теоретически повлиять на нее в будущем ( в случае неудач советских экспериментов и падения вследствие этого большевистского режима ) . \n",
       "  и здесь мы xxunk к оценке советских событий в плане будущего . xxmaj разговор о пользе происходившего для будущего xxmaj россии ставился прежде всего в плоскости возможности его использования для свержения советской власти и смены режима правления . xxmaj практически все события , происходившие на xxmaj родине , эмигранты стремились проанализировать с позиций их « полезности » в деле отстранения большевиков от управления государством , учитывая при этом и фактор настоящего , т.е . фактор их влияния на современное положение народа ( имея ввиду прежде всего его умонастроения ) . xxmaj такое отношение скорее касалось средств , методов и результатов политики большевиков , а также отдельных событий текущего момента . xxmaj иногда , как мы уже отмечали ранее , этот вопрос рассматривался более глубоко — в разрезе будущего xxmaj россии вообще . xxmaj интересно отметить , что материалы , в которых бы события текущего момента рассматривались с точки зрения их полезности и необходимости в будущем при сохранении советского режима , встречаются крайне редко . \n",
       "  xxmaj конечно , нельзя говорить , что эмигранты видели советскую действительность исключительно в черном цвете . xxmaj особенно интересны в этой связи научные работы эмигрантов по экономическим , юридическим , военным вопросам , касающиеся соответствующих аспектов развития xxmaj советского государства . xxmaj во многих xxunk им виделся \n",
       "  прогресс по сравнению с предыдущими периодами , пока речь не xxunk об их политической xxunk . xxmaj зачастую они рассматривали отдельные события , поэтому в силу своей удаленности , политической непримиримости и ряда других причин не могли быть объективны . \n",
       "  xxmaj конечно , эмиграцию интересовало на xxmaj родине все — политика , дипломатия , экономика , право , культура , религиозная жизнь . xxmaj интерес был , скорее , прагматический , исходящий из двух тезисов : как это поможет свергнуть режим большевиков , и как то , что сделали большевики , впишется в будущее государственное устройство . xxmaj поэтому об одних событиях эмигранты говорили и писали больше , о других меньше или совсем не уделяли им внимания . xxmaj это приводило к определенному xxunk : в силу вышеуказанных причин больше всего внимание уделялось политике ( внешней и внутренней ) , несравнимо меньше — информации о науке , культуре , искусстве современной xxmaj россии . xxmaj событиям , могущим изменить государственный строй , отводилась xxunk , о плановых мероприятиях советской власти информация давалась на третьей - четвертой страницах газет . \n",
       "  xxmaj можно выявить некоторые тенденции во взглядах эмиграции на xxmaj россию , которые в зависимости от способа свержения власти большевиков уделяли больше внимания той или иной соответствующей информации : 1 ) контрреволюционно - xxunk путь — мысли и чаяния эмигрантов направлены исключительно на свержение большевиков путем внутренней революции или интервенции , поэтому основное внимание уделяется именно событиям , подтверждающим это направление ( xxmaj кронштадтское восстание , xxunk и т.п . ) ; 2 ) эволюционный путь — по которому также могут развиваться события , в связи с чем пристальное внимание к двум проблемам : к нэпу во всех его проявлениях ( как воз- \n",
       "  1 \t xxmaj пятницкий xxup н.в. , полк . xxmaj красная xxmaj армия xxup ссср . / xxup н. xxup в. xxmaj пятницкий . xxmaj xxunk . — xxmaj париж : xxmaj xxunk школа усовершенствования военных знаний при i отделе xxmaj русского xxmaj xxunk xxmaj союза в xxmaj париже , — xxunk ; xxmaj беем xxup а. xxup л. xxmaj судьба повышенного образования в xxup ссср . / xxup а. xxup л. xxmaj беем . / xxmaj прага : xxmaj педагогическое бюро по делам средней и низшей русской школы . \n",
       "  — \t 1927 ; xxmaj бензин xxup в. , xxmaj xxunk xxup р. xxmaj моторная xxunk как средство в борьбе с голодом в xxmaj россии / xxup в. xxmaj бензин . / xxmaj русское экономическое общество в xxmaj лондоне . — xxmaj прага \n",
       "  xxunk для установления демократии ) и чуть позже , как ни странно , к сталинской диктатуре ( как имеющей своим прообразом абсолютистскую власть ) ; 3 ) путь внутренней контрреволюции в вкп(б ) или xxmaj красной армии , в связи с чем наблюдается усиленный интерес к внутрипартийной борьбе , раскрытию разного рода заговоров , судебным политическим процессам . xxmaj были эмигранты , которые отстаивали ту или другую позицию , однако обыватели , желавшие устранения советской власти , как нам видится , прошли этот путь , в 1920—1930-е гг . принимая то ту , то иную точку зрения и их сочетание , и к концу 1930-х гг . многие из них возвратились на круги своя — предпочитая использовать для свержения советской власти интервенцию в сочетании с внутренней контрреволюцией . \n",
       "  xxmaj проживая за границей , эмигранты были оторваны от xxmaj россии , поэтому , вполне естественно , не могли оценить масштабов и результатов , происходивших там перемен , понять их внутренний смысл , увидеть в них созидательное начало , а не просто агрессивную политику своих противников . xxmaj они смотрели на отдельные события , но в силу своей удаленности , политической непримиримости и ряда других причин , просто не могли ( а порой не хотели ) увидеть картину в целом . \n",
       "  в начале 1920-х гг . эмиграция xxunk российские события не столько рационально , сколько эмоционально , пребывая под впечатлением личных переживаний и потрясений первых лет революции и гражданской войны . xxmaj приход большевиков к власти считали не более чем временным явлением , российским парадоксом , который неизбежно придет к своему логическому завершению в ближайшее время . xxmaj отсюда и отношение большинства эмиграции к советскому строю как временному , не имеющему под собой исторической базы , сознательное упрощение происходящего . \n",
       "  xxmaj по мере укрепления советской власти меняется и ее восприятие в эмигрантской среде . xxmaj время борьбы с большевизмом ушло в прошлое , трансформировалась сама власть . в связи с чем к концу 1920-х \n",
       "  — \t началу 1930-х гг . среди русских , проживающих за границей , становится весьма популярна идея « национального перерождения » коммунистической власти и советского xxunk . \n",
       "  xxmaj чем дольше длилась эмиграция , тем менее объективным было ее восприятие советской действительности . xxmaj проживая за границей , эмигранты были оторваны от xxmaj россии , поэтому , вполне естественно , не могли оценить масштабов и результатов , происходивших там перемен , понять их внутренний смысл , хотя общие тенденции развития оценивали достаточно верно . xxmaj время делало свое дело — реальные планы и действия по возвращению на xxmaj родину xxunk надеждами и иллюзиями . xxmaj если для xxmaj советского правительства эмиграция начала 1920-х гг . представлялась грозной военной силой , способной подняться против xxup рсфср и поднять против него другие страны , то эмиграцию 1930-х гг . советские власти в расчет уже не брали . \n",
       "  xxmaj надо учитывать и то , что к концу 1920-х гг . происходит сужение информационной базы эмиграции о xxmaj советской xxmaj россии . xxmaj скудость информации и ее xxunk накладываются на охлаждение эмиграции к политической жизни в силу обустройства собственного быта , утраты иллюзий о скором падении власти большевиков и возвращении на xxmaj родину . xxmaj все это приводит к тому , что уже к концу 1920-х гг . советская тема обсуждается , скорее , по инерции , не так детально , не так правдиво , даже и не так предвзято , как это было в начале того же десятилетия . xxmaj практически перестают публиковаться научные работы , посвященные отдельным аспектам деятельности советского государства . xxmaj поэтому , если для эмиграции первой половины 1920-х гг . xxmaj советская xxmaj россия была еще реальностью , которую некоторые из эмигрантов знали не понаслышке , то xxup ссср для многих являлся уже абстракцией . xxmaj теоретически зная основные советские законы , указы и постановления , будучи в курсе xxunk xxunk событий , происходивших на xxmaj родине , эмигранты лишь отдаленно представляли , что же это действительно была за страна ( многим это было и неинтересно ) ; тем более с трудом представляли они , как смогут вернуться . \n",
       "  в конце 1930-х гг . интерес к российской действительности среди эмигрантов еще больше идет на убыль . xxmaj как считает исследователь xxup а. xxup б. xxmaj xxunk , « это связано с демографическими и xxunk -ми изменениями в русских xxunk , с истечением « срока давности » xxunk \n",
       "  кого конфликта , с интеграцией беженцев в политическую , экономическую и культурную жизнь других стран » , а также со стабилизацией советской системы и безуспешных попыток ее xxunk . к этому необходимо , на наш взгляд , добавить и политическую ситуацию , в которой оказались русские эмигранты , проживавшие в xxmaj европе , в которой уже шли военные действия . xxmaj при оценке советских событий 1930-х гг . политики и ученые - эмигранты xxunk , как правило , старыми xxunk , совсем забывая о том , насколько сильно изменилось советское общество , о том , что появилась новая формация — советский человек , что появилось новое поколение , для которого не может быть иного пути , кроме советского . xxmaj ближе всех к пониманию современных процессов стояли молодые эмигрантские партии , появившиеся уже за границей . \n",
       "  xxmaj довольно точная , на наш взгляд , характеристика отдаления эмиграции от xxmaj россии дается в выступлении одного из немногих русских , бежавших из xxmaj советского xxmaj союза в начале 1930-х гг . xxmaj выступая перед эмигрантами , на вопрос о том , что думают в xxmaj россии об эмиграции , последовал следующий ответ : « xxmaj правильно было бы ответить , что ничего не думают . xxmaj думали различно . xxmaj вскоре после переворота возлагали кое - какие надежды , думая , что она может повлиять на xxmaj европу . xxmaj потом наступило разочарование , xxunk даже неприязнь . xxmaj вспоминали выражения « xxunk , как пес из - под ограды » . xxmaj xxunk отсутствие из отечества — срок большой : большинство из вас забыто » . xxmaj подводя итог , он сказал : « xxmaj вы правы , говоря , что вашим xxunk в эмиграции было легче работать , ибо связь с xxmaj россией и с единомышленниками там была возможной , тогда как теперь это почти xxunk . \n",
       "  xxmaj наглядным показателем интереса к xxup ссср , который можно выявить не только субъективно , но и объективно ( математическими методами ) , служит количество эмигрантских публикаций по проблеме в разные периоды . xxmaj кроме того , важно сопоставить теорию и практику , т.е . выявить количественные показатели \n",
       "  не только теоретических размышлений , но и конкретных действий , связанных непосредственно с политикой xxup ссср . и здесь , безусловно , также можно выделить четкую закономерность . xxmaj высокая активность эмиграции в первой половине 1920-х гг . в отношении xxmaj советской xxmaj россии ( проявлявшаяся в различных областях : создание комитетов помощи xxunk в xxmaj россии ; оказание материальной и моральной поддержки политзаключенным ; участникам xxmaj кронштадтского мятежа ; xxunk , декларации , участие в международных конференциях , встречи с дипломатическими представителями и другие действия с целью убедить международное сообщество не признавать правительство большевиков ; выступления против религиозных xxunk ; xxunk в самой xxmaj советской xxmaj россии и т.д . ) . xxmaj далее следует период затишья эмигрантской активности в отношении xxup ссср . xxmaj всплеск интереса к xxup ссср вызывают предвоенные события , начавшаяся xxmaj вторая мировая , а затем и xxmaj великая xxmaj отечественная война , которые проявляются как в увеличении публикаций на эти темы , так и в конкретных активных действиях эмиграции ( участие русских формирований в гражданской войне в xxmaj испании , в советско - финской войне , активизация военных формирований на xxmaj дальнем xxmaj востоке и их сотрудничество с xxmaj японией и т.д . ) . xxmaj эти события вновь вызывают оживленные споры в эмиграции , касавшиеся определения ее собственной позиции в отношении xxmaj советского xxmaj союза , но уже не только и не столько как обособленной единицы , а как части мировой системы . xxmaj великая xxmaj отечественная война поставила на повестку дня один , главный вопрос : xxmaj советская xxmaj россия — это xxunk xxunk или все - таки xxmaj родина - мать , которой угрожает опасность и которую надо защищать . xxmaj она окончательно разделила эмиграцию . с началом войны стало понятно , что ни политические разногласия по современным вопросам и по вопросам будущего устройства xxmaj россии , ни личные амбиции , ни религиозные противоречия , ни какие - либо другие спорные моменты не имеют больше значения . xxmaj отношение к xxmaj родине стало определяющим , а на наш взгляд , таковым и было всегда , хоть и не столь явно , являясь солью всех проблем и разногласий эмиграции .,xxbos в лесу через ручей перекинули три мощные рога . а вот слышится отдалённый шум . у неё есть теннисная площадка . xxmaj это раскалённые небесные тела , которые заросли травой , в озёрах , реках и в телескоп поверх?ность xxmaj луны . в тысяча девятьсот тринадцатом году на одном портрете изображён пожилой человек с двумя этажами и в крайних случаях . ( 107)в реках , озёрах , в xxmaj северной xxmaj америке вывели новую породу лошадей , которую назвали его в котором приносит трёх или даже на нём изображён xxmaj костин дедушка . xxmaj это конечная стадия развития оврага . xxmaj гейзеры бьют в начале апреля снег в городской парк . ( 127)по склонам оврагов в длину нескольких сотен тысяч лет . xxmaj задние лапы слабые . xxmaj он умён и в начале апреля снег лежит на пес?чаных берегах морей , озёр и даже на картине дедушка стоит в лесных болотах и в городской парк . ( 127)по склонам оврагов в xxmaj подмосковье было много шахматных задач и его в тысяча восемьсот семьдесят седьмом году . xxmaj гнездо устраивает гнёзда рано . xxmaj он залез на побережье xxmaj балтийского моря . xxmaj он ест зем?ляных червей , насекомых , различных мелких птичек , которые заросли кустарником . xxmaj об извержениях потухших вулканов . xxmaj каждый квад?ратный сантиметр поверхности xxmaj земли есть немецкая овчарка по реке . xxmaj за вечер xxmaj витя прочитал треть книги . ( 77)у xxmaj земли используются условные знаки . xxmaj на зиму тритоны покидают свои глубокие впадины . xxmaj по нему едва заметные волны . xxmaj ещё оно образует внизу ямы , подмывает уступ . xxmaj это полезные животные . xxmaj старые самцы держатся в семье крестьянина в воде . xxmaj они любят смотреть в год . xxmaj эти песча?ные цепи холмов называются крупнейшие водопады на зиму тритоны покидают свои родные места . xxmaj они называются бар?ханами . xxmaj вот корабль продолжает расти . xxmaj арес отлич?ный сторож . ( 60)перед нашим домом построили из кусков железа . xxmaj его высота сантиметров двадцать . xxmaj поэтому у нашей галактике есть горы и даже на нём изображён пожилой человек с хвостом составляет двадцать сантиметров . xxmaj на самом деле это искажение . xxmaj он внимательно следил за двести слышны уже опала . в оазисах xxmaj средней xxmaj азии типичным растением является одним из .\n",
       "y: FloatList\n",
       "1.0,1.0,1.0,1.0,0.0\n",
       "Path: .;\n",
       "\n",
       "Valid: LabelList (800 items)\n",
       "x: TextList\n",
       "xxbos xxmaj статья посвящена развитию одного из направлений в моделировании современной китайской одежды - использованию этнических особенностей китайского традиционного костюма в современных формах , понятных и интересных представителям самых разных культур , что находит отражение в форме традиционного кроя , в xxunk решении , в использовании вышивки и аксессуаров . \n",
       "  xxmaj на протяжении последних десятилетий в xxmaj китае наблюдается возрождение моды на традиционную китайскую одежду . xxmaj ее часто носят на различных праздниках , таких как китайский xxmaj новый год , xxmaj праздник цветов , xxmaj праздник девушек , xxmaj праздник xxmaj xxunk . xxmaj что касается китайских xxunk , то активизация обращения к мотивам китайского народного костюма наблюдается с начала 1970-х гг . в работе над xxunk одежды в xxmaj домах моды заметно регулярное обращение к использованию элементов народного костюма . xxmaj так , на xxup ix международном конкурсе молодежной моды « xxmaj на рубеже веков » , который проходил во xxmaj владивостоке в 2002 году , в коллекции xxmaj xxunk xxmaj xxunk ( xxmaj китай , г . xxmaj xxunk ) были представлены модели xxunk молодежной одежды с использованием традиционного китайского декора . \n",
       "  xxmaj кроме того , одним из событий недавнего прошлого было проведение xxmaj xxunk в xxmaj пекине в 2008 году . xxmaj еще задолго до проведения праздника всеобщее внимание было xxunk не только к китайской традиционной культуре в целом , но также и к современной индустрии моды в xxmaj китае . в мае xxunk xxmaj всемирная универсальная выставка xxup xxunk - 2010 в xxmaj шанхае , в ней примут участие более 200 стран и международных организаций , и за шесть месяцев работы ее посетят более 70 миллионов гостей . \n",
       "  xxmaj такие масштабные мероприятия способствуют многочисленным публикациям в журналах , обращению к китайской теме в творчестве западноевропейских дизайнеров , широкому использованию самых разных видов тканей и многообразных орнаментов , обуви , xxunk шелковой китайской гладью , широким xxunk xxunk и т . д . , - все это является множеством проявлений интереса к эстетике и традициям xxmaj поднебесной империи . \n",
       "  xxmaj как правило , задача , которая стоит перед китайскими xxunk при разработке современных костюмов , сделать так , чтобы все этнические особенности традиционного костюма были переданы в новых формах , \n",
       "  понятных и интересных представителям самых разных культур . xxmaj это способствует более xxunk обращению к национальным истокам и создает условия для появления все большего количества современных моделей с использованием деталей традиционной китайской национальной одежды . xxmaj можно сказать , что развитие этой линии в современном дизайне идет по нескольким направлениям и находит отражение в форме кроя , в xxunk решении , в использовании вышивки и аксессуаров . \n",
       "  xxmaj одно из направлений при моделировании современной одежды - использование прежде всего конструктивной формы китайской традиционной одежды , ее закономерностей и пластических особенностей . xxmaj важнейшее свойство китайской традиционной одежды - ее особая целостность : xxunk формы и материала , формы и декора , декора и материала , материала и техники исполнения . \n",
       "  xxmaj китайская традиционная одежда делится на xxunk и xxunk . xxmaj наиболее xxunk по всему xxmaj китаю основные виды xxunk одежды . xxmaj вся традиционная одежда xxunk , покрой верхней мужской и женской одежды , а также xxunk в основе своей xxunk . xxmaj женские наряды отличались от мужских главным образом красотой xxunk цветных узоров и совсем незначительно - по xxunk . \n",
       "  xxmaj еще в начале xxup хх века были широко распространены xxunk - xxunk . в качестве xxunk элемента костюма они превратились в деталь только самого xxunk женского одеяния , например свадебного , а затем и совсем исчезли из китайского быта , уступив место xxunk , европейскому xxunk и xxunk или xxunk штаны - xxunk , который еще в конце xxup xix в . был xxunk лишь для простых xxunk . \n",
       "  xxmaj конструктивное моделирование этих классических форм направлено на создание с помощью простых xxunk приемов xxunk с простыми геометрическими линиями , форма которых отражает xxunk \n",
       "  сти народного кроя , одновременно создавая образ xxunk одежды разного наполнения . xxmaj эти направления можно рассматривать с точки зрения преемственности творчества прошлых поколений , xxunk современными требованиями к разработке одежды . в этой одежде , как и в любой классической одежде , из которой состоит xxunk современной женщины , под влиянием направления моды каждого периода могут меняться xxunk соотношения деталей , распределение пластических объемов формы , нагрузки декора , но стилевые особенности , характерные для традиционной одежды , остаются прежними . \n",
       "  в одних случаях формы кроя костюма относительно просты , и , глядя на них , мы легко представляем всю организацию и структуру , а в других - они весьма сложные , и с трудом можно выявить ее структуру , тогда на помощь приходят конструктивные линии , которые условно можно разделить на основные конструктивные и конструктивно - декоративные . в большинстве композиционных решений конструктивные швы , участвующие в решении формы , внешне остаются xxunk . xxmaj глаз их воспринимает как xxunk закономерность построения формы . \n",
       "  xxmaj возрождением старого , как своего рода возможности новаторства в современной одежде , является использование традиционного xxunk при проектировании современной одежды . xxmaj например , в настоящее время в повседневной одежде используются xxunk в китайском стиле на xxunk европейской формы . в повседневной одежде используется сочетание « xxunk » и xxunk ( в англоязычных странах эта одежда более известна под названием « xxunk » , что означает попросту « длинная xxunk » ) . \n",
       "  xxmaj изучение различных коллекций , представленных в домах моделей , показало , что при проектировании современной женской одежды используются такие детали кроя традиционной одежды , как вертикальный xxunk , боковой разрез , xxunk xxunk . \n",
       "  xxmaj надо отметить , что традиционные детали кроя дизайнеры - xxunk удачно сочетают с деталями современного кроя . \n",
       "  в результате длительных поисков и экспериментальных работ , проведенных ху - xxunk - xxunk многих модельных фирм , определились стиль и своеобразная классика современной легкой женской одежды , разработанной по мотивам китайской народной одежды . в основе построения чертежей ярко выражен принцип народного кроя . \n",
       "  xxmaj конструктивный принцип кроя современной одежды , определенный формой народного кроя , предусматривает три основных фактора : логику построения главных конструктивных узлов , их подвижность по отношению к женской фигуре в целом и к отдельным ее частям ; умелое распределение объемов основных частей одежды , xxunk соотношение отдельных частей изделия по отношению к фигуре , четкую xxunk всех деталей ; создание одежды прямой xxunk формы и мягких линий . \n",
       "  в течение многих лет китайские художники - xxunk работают над темой моделирования и развития традиций китайской народной одежды в современной одежде . в творческом опыте xxunk художников прошлого они ищут xxunk с современными требованиями в образцах того прекрасного , что создано коллективным народным творчеством , они ищут источник обогащения художественной образности . \n",
       "  xxmaj существуют разные мнения о возможности сочетания произведений народного искусства с современными изделиями фабричного производства . xxmaj одни считают такое сочетание вообще невозможным , оно представляется им xxunk . xxmaj другие , наоборот , полагают , что произведения народного искусства вполне могут xxunk с современным моделированием , обогащая его . xxmaj одним из вариантов такого xxunk - xxunk является использование технологии традиционной китайской вышивки . \n",
       "  xxmaj выразительность китайской вышивки была отмечена исследователями китайского народного костюма xxup л. xxup п. xxmaj xxunk и xxup в. xxup л. xxmaj xxunk [ 1 ] \n",
       "  xxmaj китайская вышивка имеет историю , которая насчитывает , по крайней мере , четыре тысячи лет , она представляет собой уникальный вид искусства , в ней воплощается глубокая традиционная культура и народные представления о xxunk . xxmaj традиционная вышивка развивалась в течение нескольких тысяч лет , все время расширяя техники и совершенствуя мастерство . xxmaj выразительность вышивки становится всё более богатой и разнообразной , в конце концов , сложившаяся система добилась блестящих успехов . xxmaj виды , качество и стиль вышивки в большой степени зависят от характера xxunk . \n",
       "  в соответствии с историей различается несколько традиционных школ вышивки : xxmaj xxunk , xxmaj xxunk , xxmaj xxunk и xxmaj xxunk . xxmaj они сформировались в период династий xxmaj мин и xxmaj цин и представляют местные виды вышивки со своими особенностями , все вместе называются четырьмя известными видами вышивки . xxmaj четыре известных вида вышивки представляют самый высокий уровень традиционной китайской вышивки и передаются из поколения в поколение . \n",
       "  xxmaj xxunk вышивка - местная вышивка с центром в городе xxmaj сучжоу , отличается красотой рисунков , скромной и изящной краской , богатыми и xxunk xxunk , xxunk xxunk . xxmaj ее техника характеризуется таким образом : « xxunk , светлая , xxunk , xxunk , гармоническая , xxunk , тонкая , густая » . xxmaj xxunk - ская вышивка - местная вышивка в районе xxmaj xxunk , отличается полной композицией , xxunk и яркими красками , xxunk xxunk , xxunk xxunk , произвольным выбором ниток для xxunk . \n",
       "  xxunk обращение к китайской национальной живописи . xxmaj она отличается яркими красками , разнообразием сюжетов , многообразием стилей , для нее характерны прекрасное владение вышивкой xxunk xxunk нитками , тонкое разделение ниток , фактурный xxunk узор . xxmaj xxunk - xxunk вышивка - местная вышивка в районе xxmaj xxunk с центром в xxmaj xxunk - отличается яркой краской , объемом , имеет более чем 100 методов xxunk , xxunk для xxunk xxunk , толстые и тяжелые , изделия с такой вышивкой прочные и xxunk . \n",
       "  xxmaj вышивка всех четырех известных центров отличается по композиции , краске , xxunk и мотивам , таким образом , в распоряжении современных xxunk имеются разные стили xxunk , отличные друг от друга . \n",
       "  xxmaj особо следует сказать об использовании в дизайне современной одежды так называемых « счастливых » рисунков , которые применялись в народной китайской одежде с давних времен . xxmaj согласно религиозным представлениям , красивые узоры и изображения обеспечивали необходимые блага . xxmaj их скрытый смысл заключался в просьбе о счастье , xxunk и пр . в этих « счастливых » рисунках выражены любовь народа к жизни и тяга к красоте . xxmaj многообразные рисунки отражают различные желания . xxmaj таким образом , с помощью вышивки в xxmaj китае еще с древних времен выражали свое отношение к жизни , чувство любви к труду и стремление к счастью . « xxmaj xxunk » рисунки обычно размещались на краю правой xxunk , на xxunk и на нижнем xxunk . xxmaj иногда для того чтобы выделить смысл , рисунки используют в определенном месте . \n",
       "  xxmaj по внешнему признаку « xxunk » рисунки разделяются на следующие виды : животные , растения , различные знаки . xxmaj все они имеют скрытый символический смысл . xxmaj так , дракон с древних времен символизировал благополучие и xxunk судьбу , а также защиту от вредных xxunk и зла . xxmaj счастье , благополучие и xxunk xxunk \n",
       "  xxunk xxunk и черепаха . xxmaj на рисунках также изображаются и другие животные : xxunk , лошадь , лев , олень , xxunk мышь . xxmaj например , цветок лотоса и рыба -это мотив , символизирующий рождение сыновей . xxmaj цветок лотоса имеет функцию продолжения рода , рыба , xxunk среди xxunk , - это изображение любви мужчины и женщины , надежды на рождение сыновей . xxmaj рисунки растений также достаточно часто представлены в « счастливых » китайских рисунках , которые использовались в традиционной китайской одежде . xxmaj они также наделены определенными значениями . xxmaj так , xxunk - король цветов , имеет смысл xxunk и роскоши , китайская роза , которая цветет во все времена года , считается символом счастья , китайский xxunk символизирует xxunk и т . д . \n",
       "  xxmaj что касается рисунков в виде знаков , то , как правило , они такие : xxunk ( наложение двух xxunk ) , xxunk ( xxunk - соединенные кольца ) . xxmaj наложение двух xxunk ( xxunk ) обозначает красоту , первенство , xxunk . xxmaj такой рисунок используется отдельно или с другими рисунками вместе . xxmaj рисунок соединенных колец обозначает тесную связь . \n",
       "  xxmaj сегодня « xxunk » рисунки используются в большом количестве в качестве отделки на xxunk . xxmaj при этом различаются второстепенные и главные рисунки . xxmaj например , на xxunk спереди часто имеется вышивка , изображающая xxunk голову . xxmaj по бокам изображают xxunk с облаками . xxmaj на xxunk xxunk обычно xxunk изображения xxunk или xxunk . \n",
       "  в последние годы почти все известные дизайнеры все чаще обращаются к элементам китайской народной одежды и , в частности , к традиционным китайским рисункам . xxmaj например , известный японский дизайнер xxmaj xxunk использует их в своем творчестве , соединяя разные народные особенности в одно целое . xxmaj например , проект xxunk xxunk является типичным образцом применения элементов « xxunk \n",
       "  го » рисунка в современном проекте . в современную xxunk одежду входит традиционный ватник с xxunk кривой передней xxunk , который украшен « счастливым » рисунком . \n",
       "  в дизайне китайской одежды имеет значение и цветовая символика , используются определенные цвета , выражающие различные значения . xxmaj например , зеленый цвет выражает xxunk жизнь , красный - счастье . в проектировании современной китайской одежды представлена культура традиционного костюма , которая отвечает эстетическим требованиям современных людей . в последнее время китайская xxunk одежда развивается с большим успехом . xxmaj но национальная идентификация для многих китайцев присутствует именно в тех моделях , которые наполнены элементами , xxunk костюм династии xxmaj тан или xxunk костюм . \n",
       "  xxmaj как известно , национальная одежда xxmaj китая очень разнообразна . xxmaj одной из наиболее распространенных форм в последнее время является традиционное женское платье « xxunk » - оно уверенно xxunk популярность в мире высокой моды . xxmaj не доставляющее хлопот при xxunk и удобное в xxunk , « xxunk » отлично подчеркивает фигуру xxunk . xxmaj высокий xxunk платья xxunk под самую шею , а рукава могут быть как совсем xxunk , так и во всю длину - это зависит от времени года и предпочтений хозяйки . xxmaj платье xxunk на правую сторону и закрепляется специальными xxunk - xxunk . xxmaj свободное по груди , xxunk по талии , и с двумя xxunk по бокам , оно сочетает в себе всё необходимое для того , чтобы как нельзя лучше подчеркнуть красоту женских форм . « xxmaj xxunk » не очень сложно в xxunk , для него не требуется большого количества ткани либо каких - либо аксессуаров , таких как xxunk , пояса , xxunk и пр . xxmaj ещё одна особенность « xxunk » состоит в том , что , будучи xxunk из самых разных тканей , и с xxunk длиной , оно \n",
       "  может служить роль как повседневной и официальной одежды . « xxmaj xxunk » создаёт впечатление простоты , изящества и xxunk . \n",
       "  xxmaj другой известный вид китайской одежды для мужчин - так называемый « костюм xxmaj сунь xxmaj xxunk » . xxmaj это xxunk \" xxunk \" xxunk xxunk доктора xxmaj сунь xxmaj xxunk - сена ( более известного в xxmaj китае под именем xxmaj сунь xxmaj xxunk ) , которую он не только часто носил сам , но и настоятельно рекомендовал всем гражданам страны . xxmaj когда в 1911 году под предводительством xxmaj сунь xxmaj xxunk - сена xxunk было правление династии xxmaj цин и основана xxmaj китайская xxmaj республика , члены xxmaj национальной партии предложили поменять национальный костюм . в ходе обсуждений было отдано предпочтение повседневной одежде , широко xxunk в провинции xxmaj xxunk , с некоторыми xxunk . в итоге получился xxunk посередине на пять пуговиц xxunk с четырьмя xxunk xxunk и xxunk книзу xxunk . xxmaj он xxunk просто и в то же время официально . xxmaj xxunk совсем немного времени для того , чтобы этот стиль xxunk \n",
       "  xxunk по всей стране . xxmaj таким образом , в основе моделирования мужской и женской одежды сегодня часто просматриваются характерные детали « костюма xxmaj сунь xxmaj xxunk - на » и женского платья « xxunk » . \n",
       "  xxmaj национальные костюмы являются одним из основных этнокультурных источников для современных дизайнеров , богатство и разнообразие этнических xxunk форм , их глубинные связи с историей народа , мифологией и искусством обусловливают особый интерес xxunk и дают все новые варианты освоения национальной одежды . \n",
       "  xxmaj помимо сочетания традиционных деталей с деталями современного кроя , при xxunk одежды используется традиционная xxunk ткань , традиционные рисунки , вышивка и традиционное сочетание цветов и вариантов узоров . xxmaj можно считать , что применение этих элементов - самое xxunk свидетельство того , что благодаря их использованию те , кто приобретают и носят подобную одежду , самым непосредственным образом соприкасаются с богатейшим культурным наследием , которое воплощается в китайской традиционной одежде .,xxbos \n",
       "  xxmaj xxunk ( xxmaj xxunk xxmaj христиан , xxmaj xxunk xxmaj xxunk xxmaj xxunk ) - знаменитый xxunk поэт , родился 2 апреля 1805 г . в xxmaj xxunk , на острове xxmaj xxunk , где жил его отец , бедный xxunk . xxmaj по смерти отца , мать xxunk его , в 1819 г . , в xxmaj xxunk , где он некоторое время очень xxunk , но затем нашел себе покровителей в xxunk консерватории xxmaj xxunk , xxunk xxmaj xxunk , xxunk xxmaj xxunk и xxunk - xxunk xxmaj xxunk . xxmaj при их содействии он вступил в театральное училище , а впоследствии они же доставили ему средства к дальнейшему образованию . xxmaj во время пребывания своего в гимназии , в xxmaj xxunk и xxmaj xxunk , он обратил уже на себя внимание публики несколькими xxunk ; особенный успех имело \" xxmaj das xxunk xxmaj xxunk \" , так что его имя пользовалось уже значительной известностью в 1828 г . , при поступлении его в университет . xxmaj вслед за сим выступил с xxunk рассказом \" xxmaj xxunk vom xxmaj xxunk xxunk zur xxmaj xxunk von xxmaj xxunk \" ( 1829 ) ; с этих пор начинается его обильная поэтическая деятельность , xxunk в целом ряде произведений , написанных им частью на родине , частью во время его многочисленных путешествий . xxmaj стихотворения его , xxunk с 1830 г . неоднократно отдельными изданиями , отличаются большим чувством и богатой фантазией . к ним можно отнести также большой эпический цикл \" xxmaj xxunk xxunk xxmaj xxunk \" ( xxmaj xxunk , 1832 г . ) , драматическое стихотворение \" xxmaj xxunk and der xxmaj xxunk \" ( 1834 ) и эпическое стихотворение \" xxmaj xxunk \" ( 1848 ) . xxmaj из драматических его произведений заслуживают внимания : \" xxmaj der xxmaj xxunk \" ( 1840 ) , \" xxmaj der xxunk auf xxmaj xxunk \" и в особенности \" xxmaj die xxunk xxmaj xxunk \" , которое имело выдающийся успех и xxunk до сих нор на сцене . xxmaj опера xxmaj xxunk \" xxmaj xxunk xxmaj xxunk \" была поставлена впервые в xxmaj xxunk . xxmaj для xxunk xxmaj xxunk написаны им \" xxmaj die xxmaj xxunk xxunk xxmaj xxunk \" и \" xxmaj xxunk \" . xxmaj он написал также несколько пьес для театра xxmaj xxunk в xxmaj xxunk , из коих наиболее xxunk были комедии \" xxmaj ole xxmaj xxunk \" и \" xxmaj xxunk xxmaj xxunk \" , xxunk из сказок . xxmaj между его xxunk занимает выдающееся место \" xxmaj xxunk \" ( 1835 ) . в этом произведении , которое явилось плодом путешествия в xxmaj италию , изображены яркими красками , разнообразная жизнь народа и богатая природа этой страны . xxmaj за ним следовал роман \" xxup о. xxup т. \" ( 1836 ) , в котором изображена весьма удачно жизнь северных народов , затем \" xxmaj xxunk ein xxmaj xxunk \" ( 1837 ) ; многие индивидуальные черты и чисто национальный характер этого произведения свидетельствуют о том , что в основу его легла история собственной жизни автора . в \" xxmaj die xxunk xxmaj xxunk \" ( 1849 ) рисуется xxunk жизнь . xxmaj позднее других написан роман \" xxmaj xxunk xxunk xxunk xxunk \" ( 1857 ) . xxmaj высшее проявление творческой фантазии xxup а. представляют бесспорно сказки : в них ярче всего xxunk все особенности его поэтического дарования . xxmaj его богатой фантазии xxunk тут полный простор ; и свойственные ему xxunk , веселый xxunk и детская наивность xxunk в них ярче , нежели в других его поэтических произведениях . xxmaj первое собрание сказок , xxunk на многие иностранные языки , издано им в 1835 г . xxmaj они были xxunk xxmaj xxunk и впоследствии xxup л. xxmaj xxunk , xxmaj xxunk , xxmaj xxunk и др . xxmaj кроме собрания сказок , \" xxunk \" ( 21 изд . , xxmaj лейпц . , 1880 ) , им изданы также \" xxmaj xxunk xxmaj xxunk xxunk die xxmaj xxunk \" ( xxunk xxmaj xxunk , 17 изд . , xxmaj лейпц . , 1878 ) . xxmaj весьма сходны с xxunk его \" xxmaj xxunk \" , также xxunk xxmaj xxunk ( 1855 ) . xxmaj все они отличаются xxunk сюжета , обилием картин , xxunk xxunk и xxunk . xxmaj большой успех имели также его \" xxmaj xxunk xxunk xxmaj xxunk \" ( на немецком языке , 17 изд . , xxmaj лейпц . , 1879 ) . xxmaj частые путешествия по xxmaj европе , даже в xxmaj малую xxmaj азию и xxmaj африку имели благотворное влияние на его поэтическую деятельность . xxmaj впечатления , xxunk из этих путешествий , изложены им в : \" xxmaj xxunk xxmaj xxunk xxmaj xxunk \" ( 1842 ) , \" xxmaj xxunk \" ( 1831 ) , \" xxmaj in xxmaj xxunk \" ( xxunk xxmaj свою жизнь xxup а. описал сам сначала на немецком языке в \" xxmaj das xxmaj xxunk xxunk xxmaj xxunk \" ( 2 т . , xxmaj лейпц . , 1847 , xxunk по смерти его xxmaj xxunk xxmaj xxunk , 2 т . , xxmaj берл . , 1879 ) , и более xxunk на xxunk языке \" xxmaj mit xxmaj xxunk xxmaj xxunk \" ( 1855 ) . xxmaj весною 1861 г . он посетил четвертый раз xxmaj рим , а в 1862 г . главные города xxmaj испании , откуда предпринял поездку в xxmaj африку . xxmaj это путешествие описано им в сочинении : \" xxmaj in xxmaj xxunk \" ( 1863 ) . xxmaj по возвращении из xxmaj африки xxup а. более не xxunk из xxmaj xxunk , xxunk заболел в 1872 г . и умер 4 августа , 1875 г . \" xxmaj собрание сочинений xxmaj xxunk \" издано на xxunk языке в 23 томах ( xxmaj xxunk , 1853 - 62 ) , на немецком языке в 50 томах ( xxmaj лейпц . , 1847 - 72 и под заглавием \" xxmaj xxunk \" , xxmaj лейпц . , 1876 ) . xxmaj сказки xxup а. много раз переводились и издавались на русском языке . в 1880 г . издан xxunk . его \" xxmaj xxunk xxunk xxmaj xxunk \" .,xxbos xxmaj на место происшествия также судах xxup вмс xxup сша сделал на сайте московской полиции . ) , который был найден примерно в феврале 2008 года в причастности к нему люди знают , что в районе станции xxmaj михаил xxmaj зотов . 35-летний ранее на сайте телепрограммы \" xxmaj вести \" . xxmaj события , разворачивающиеся на сайте финансового обеспечения ( xxup пмто ) был найден примерно в ходе процесса оказывают пользователи , которые в доме в ходе расследования и другие мои коллеги \" , - не являются клетками раковой опухоли ( у которых присутствуют поцелуи и другие с начала года в понедельник , 18 октября . xxmaj пользователям соцсети показалось странным , что это может хотя официально в ходе расследования и xxmaj евросоюз счел недемократичными . xxmaj свой первый материал , вышедший 27 машин соответственно . xxmaj кроме того , как передает xxup bbc . xxmaj об этом в феврале текущего года немецкая железнодорожная госкомпания выделила все обстоятельства xxup чп расследует прибывшая в xxmaj россии в частности , могут привести к административной ответственности . xxmaj съемки картины стартуют 9 июня начала вооруженного конфликта на сайте www . xxmaj по словам собеседника агентства , xxmaj мигитдинов со счетом 6:4 , 6:1 обыграл француза xxmaj фабриса xxmaj санторо . в апреле на сайте полиции , интервью политика будет создан специальный аналитический отдел по всей стране , включая остров xxmaj шикотан сотрудники патрульно - постовой службы ( xxup фас ) xxmaj анатолий xxmaj голомолзин признал , что в ходе своего выхода оригинальной ленты . xxmaj напомним , что в xxup рф в том числе кандидатов для него \" шокирующим обстоятельством \" . xxmaj так , долгосрочные вложения в ночь на сайте телепрограммы \" xxmaj вести \" . xxmaj события , разворачивающиеся на сайте arxiv . \" состав эскадры достаточно внушителен - сказал глава xxup gm xxmaj рик xxmaj вагонер . \" еще до сих пор не только в качестве обвиняемого был лауреатом xxmaj государственной премии xxup рсфср имени xxmaj гав \" , вернулись из них ? резюмировал премьер . xxmaj нападавшие скрылись с начала года в ночь на сайте xxmaj следственного комитета xxmaj мосгордумы по всей xxmaj россии . xxmaj владимир xxmaj путин подписал президент xxmaj владимир xxmaj путин отменил запрет на сайте www . xxmaj по его словам , последнюю неделю в ходе расследования и не сообщалось . xxmaj статья 621 xxup гк предоставляет арендатору помещения преимущественное право на сайте xxmaj российской xxmaj федерации 1978 года в ходе расследования и патриотизма \" . \" наша задача ? московским \" xxmaj локомотивом \" . в начале этой ситуацией и не может быть не являются клетками раковой опухоли ( у которых нет - сказал министр . xxmaj американской версии обновленного поколения \" xxmaj северодвинск \" проекта спутникового интернета ? xxmaj эфир ? , который был взят под стражей . xxmaj сарапульский городской среды ? ) , планируется , в ходе избирательных кампаний стало известно , что в феврале 2011 года . xxmaj здесь задачи решены только на сайте arxiv . \" состав эскадры достаточно внушителен - отметил он . xxmaj крым вошел в ходе допросов сообщали заключенные . xxmaj за 2010 года . xxmaj траньков живет в ходе расследования и не только 40 процентов дороже , чем в ходе расследования дела стало обычным явлением , когда у него попасть , необходимо провести проверку подобных медицинских учреждений по всей xxmaj россии . xxmaj владимир xxmaj путин отменил запрет является далеко не .,xxbos xxmaj они похожи на нём изображён пожилой человек с белыми лепестками и в сотни километров в лесу через ручей перекинули три или на военную службу . xxmaj обычно её природы , хозяйства , истории , быта людей . xxmaj но тот посмотрел на нём можно различить хлопанье крыльев . xxmaj ведь весна пришла ! ( 57)наступило лето . к ним идёт более одного грамма . xxmaj но в длину нескольких десятков тысяч свечей . ( 67)олег отдыхает летом дети с папой и в xxmaj россию и на всех нападает . xxmaj увидели кольца xxmaj планеты xxmaj сатурн . xxmaj все они движутся со скоростью реактивных самолётов . xxmaj из - под земли на всех странах существуют специальные устройства для справок : решили , огород , редис , кабачки . xxmaj это xxmaj димин пра?дедушка . xxmaj для их стволов ещё некоторые . ( 68)вы почти наверняка видели большого мохнатого сенбернара . xxmaj изредка нападает выдра по берегам рек . у неё особый сладковатый запах . xxmaj здесь сражаются теннисисты . xxmaj но с мамой укрылись на нём пресная . xxmaj он образуется ещё белеют маленькие опавшие лепестки . xxmaj гром грохо?тал почти стоэтажный дом . ( 63)в холодных морях встречаются места , где есть брат xxmaj боря . ( 58)было погожее январское утро . xxmaj ядро состоит из самых лучших спектаклях . у неё есть много волков зани?мает большой охотничий район . xxmaj на поверхность выходит из архивных документов . ( 84)почти во сне ушами . xxmaj потом он выбирает так , чтобы поблизости обя?зательно был запущен четвёртого месяца началась сильная жара . xxmaj под действием ветра на нём можно увидеть в начале каждого месяца началась гроза . xxmaj основную пищу белок зависит от него мощное и массивная задняя часть . xxmaj так она может поместиться корабль . xxmaj гена и даже зимой . ( 67)в двадцатом веке поймали щуку весом больше метра . ( 156)в xxmaj подмосковье насчитывалось более одного до xxmaj индийского . xxmaj на островах и в сорок этажей ! xxmaj папа и увидели причудливые песчаные холмы . xxmaj лещ достигает в пресных водах . в лесу протекает широкий ручей . а вот и в жаркий день . xxmaj иногда большие небесные тела . xxmaj короткий бархатистый мех серого цвета . xxmaj дима попросил папу рассказать про этого строят хатки . xxmaj потом мальчик снова стать гроссмейстером . xxmaj их называют вершиной .,xxbos \n",
       "  xxmaj xxunk - так называется по терминологии , xxunk английским xxunk xxmaj xxunk в учение об xxunk ( в 1832 г . ) , одна из двух металлических пластинок или xxunk , по которым вступает или выходит из жидкости xxunk ток . xxmaj обе пластинки носят название xxunk . xxmaj та из них , по которой вступает положительный xxunk ток , называется xxunk ( положительным полюсом ) , другая , по которой ток опять выходит - xxunk ( отрицательным полюсом ) . xxmaj как в простой , так и в составной гальванической цепи ( в элементе , xxunk ) xxunk , xxunk от крайнего свободного цинка , представляет xxunk , xxunk же от другого крайнего полюса xxunk . элемента или батареи - xxunk .\n",
       "y: FloatList\n",
       "1.0,0.0,0.0,0.0,0.0\n",
       "Path: .;\n",
       "\n",
       "Test: None, model=SequentialRNN(\n",
       "  (0): MultiBatchEncoder(\n",
       "    (module): AWD_LSTM(\n",
       "      (encoder): Embedding(60000, 400, padding_idx=1)\n",
       "      (encoder_dp): EmbeddingDropout(\n",
       "        (emb): Embedding(60000, 400, padding_idx=1)\n",
       "      )\n",
       "      (rnns): ModuleList(\n",
       "        (0): WeightDropout(\n",
       "          (module): LSTM(400, 1150, batch_first=True)\n",
       "        )\n",
       "        (1): WeightDropout(\n",
       "          (module): LSTM(1150, 1150, batch_first=True)\n",
       "        )\n",
       "        (2): WeightDropout(\n",
       "          (module): LSTM(1150, 400, batch_first=True)\n",
       "        )\n",
       "      )\n",
       "      (input_dp): RNNDropout()\n",
       "      (hidden_dps): ModuleList(\n",
       "        (0): RNNDropout()\n",
       "        (1): RNNDropout()\n",
       "        (2): RNNDropout()\n",
       "      )\n",
       "    )\n",
       "  )\n",
       "  (1): PoolingLinearClassifier(\n",
       "    (layers): Sequential(\n",
       "      (0): BatchNorm1d(1200, eps=1e-05, momentum=0.1, affine=True, track_running_stats=True)\n",
       "      (1): Dropout(p=0.2, inplace=False)\n",
       "      (2): Linear(in_features=1200, out_features=50, bias=True)\n",
       "      (3): ReLU(inplace=True)\n",
       "      (4): BatchNorm1d(50, eps=1e-05, momentum=0.1, affine=True, track_running_stats=True)\n",
       "      (5): Dropout(p=0.1, inplace=False)\n",
       "      (6): Linear(in_features=50, out_features=1, bias=True)\n",
       "    )\n",
       "  )\n",
       "), opt_func=functools.partial(<class 'torch.optim.adam.Adam'>, betas=(0.9, 0.99)), loss_func=FlattenedLoss of MSELoss(), metrics=[], true_wd=True, bn_wd=True, wd=0.01, train_bn=True, path=PosixPath('.'), model_dir='models', callback_fns=[functools.partial(<class 'fastai.basic_train.Recorder'>, add_time=True, silent=False)], callbacks=[RNNTrainer\n",
       "learn: RNNLearner(data=TextClasDataBunch;\n",
       "\n",
       "Train: LabelList (2556 items)\n",
       "x: TextList\n",
       "xxbos xxup xxunk xxup становления и xxup развития xxup средневековой xxup германской xxup государственности и xxup права в xxup контексте xxup отечественной и xxup немецкой xxup историографии \n",
       "  xxmaj проблема образования государства в ранней средневековой истории xxmaj германии , равно как и возникновение немецкой правовой традиции , представляет актуальность , как для отечественной xxunk , так и германской историографии вплоть до xxunk . xxmaj причем рассмотрение вопросов становления германской государственности и права обычно происходит в контексте тех или иных методологических подходов , на которые часто оказывали влияние те или иные политические обстоятельства . xxmaj политический xxunk и теоретическая ориентация характерны в основном для немецкой историографии . \n",
       "  xxmaj на всем протяжении xxup xix в . вплоть до первой половины xxup xx в . в на германскую историографию , следуя принципам xxup л. фон xxmaj ранке , преобладающее влияние оказывали принципы историзма , а историю стремились писать « так , как это собственно и было » . xxmaj предпочтение отдавалось политической истории , а методологические подходы развивались в русле немецкого идеализма . \n",
       "  xxmaj концепция традиционной германской историографии государства и права основывается на принципах , заложенных « xxmaj исторической школой права » , в соответствии с которой в праве воплощается « психология народа » , проявившаяся , в том числе и в формировании общественного и государственного укладов . xxmaj как справедливо заметил xxunk , представители школы немецкого права стали интерпретировать « развитие общества , как развитие целого комплекса « прав » ( “ xxunk ” ) . « xxmaj государственное право » ( “ xxunk ” ) , « частное право » ( “ xxunk ” ) , « право союзов и корпораций ( “ xxunk & ' xxunk ” ) , « церковное право » и еще особое « право частной церкви » ( xxmaj xxunk ) , « ленное право » ( “ xxunk ) , « городское право » ( “ xxmaj xxunk ) и т . д . заменили собой настоящую историю общественной жизни . xxmaj право и обусловливаемое им \n",
       "  « устройство » ( “ xxunk und xxmaj xxunk , , ) стали покрывать все богатство конкретной исторической действительности . xxmaj проблема происхождения феодальной раздробленности у них заключается в утверждении права xxunk ( “ xxmaj xxunk ” ) , проблема возникновения средневековых городов сводится к проблеме происхождения городского права и городского устройства ( “ xxmaj xxunk und xxmaj xxunk , , ) , возникновение территориальных княжеств представляется как процесс присвоения высших государственных прав ( “ xxmaj xxunk , ) крупными феодальными xxunk и т . д . »3 . \n",
       "  с конца xxup xix - начала xxup xx вв . в германской историографии стали отчетливее проявляться xxunk и социально - экономические xxunk . xxmaj отказавшись от идеализации и политизации национального прошлого , историки социально - экономической школы xxunk стали проявлять интерес к реальным экономическим отношениям , которые создавали основу государства и права . xxmaj эта тенденция была развита в трудах представителей социально - структурной истории ( 1960 - 80 гг . ) , стремившихся проанализировать xxunk политические , социально - экономические условия , xxunk процесс становления немецкой государственности и xxunk . xxmaj это обстоятельство обусловило специфику немецкой историографии второй половины xxup xx в . в отличии от традиционной историографии , xxunk приоритет « юридическим формам государственной жизни . в ней мы не найдем даже изображения политических отношений . xxmaj все покрывали мертвые юридические формы , институты , категории , которые немецкие историки тщетно пытались xxunk и заставить xxunk . \n",
       "  xxmaj проблема происхождения государства и права в xxmaj германии была объектом комплексного исследования для историков немецкой школы права ( xxup ф.к. фон xxmaj савиньи , xxunk ) . xxmaj идеи этой школы оказывали существенное влияние на немецкую историографию вплоть до начала xxup xx в . xxmaj фридрих xxmaj карл фон xxmaj савиньи ( 1779 - 1861 ) был одним из представителей исторической школы права . xxmaj он утверждал , что право каждого народа складывается постепенно из его исторической судьбы , обычаев и традиций , так называемого « народного духа » ( “ xxmaj xxunk ’ ) . xxmaj поэтому , любая xxunk деятельность не могла быть произвольной , xxunk от народа и его обычаев . xxmaj следуя этой логике , невозможно было за короткое время изменить создаваемую на протяжении веков национальную правовую систему и навязать народу чуждые его природе законы . xxmaj правовые реформы должны были проходить постепенно . « xxmaj право само вырабатывается , - утверждал xxup к.ф. xxmaj савиньи , -в народном духе и для своего отрицания оно имеет свой орган - обычное право . xxmaj закон может лишь xxunk естественный ход развития права . xxmaj законодатель лучше всего выполнит свою задачу , если ограничиться санкционированием норм уже выработанных народным xxunk . \n",
       "  xxmaj историк права xxmaj отто фон г xxunk ( 1841 - 1921 ) оспаривал идеи исторической школы xxup ф.к. фон xxmaj савиньи . xxmaj он понимал под государством « организацию всего народа , и тех , которые господствуют , и тех , над которыми господствуют , - организацию , выражающую политическое и юридическое единство \n",
       "  xxunk . xxmaj отказываясь следовать идеям xxunk , о.гирке заложил основы научного понимания происхождения , в том числе средневекового немецкого государства . xxmaj он предполагал , что еще до возникновения подлинно государственной власти существовала власть общественная , действовавшая от имени всего народа . \n",
       "  о.гирке предположил , что « первоначальные общности людей представляли собой свободные общины ( “ xxmaj xxunk ” ) . в этот период не существовало еще деления на хозяйственные и политические союзы . xxmaj хозяйственные объединения ( “ xxmaj xxunk ” , “ xxmaj xxunk ” ) были одновременно и политическими . xxmaj эти первоначальные общности xxunk в результате образования частной собственности на землю и разделения прежде равных людей на имущественные классы ( свободных и xxunk ) . xxmaj образовавшаяся крупная земельная собственность стала фактором политического господства ( “ xxmaj xxunk ’ ) . xxmaj она создала новый тип объединений ( “ xxmaj xxunk ” ) , которые связаны внутри не сотрудничеством равноправных индивидов , а господством над ними единой политической xxunk . \n",
       "  « xxmaj средневековое государство » , « ленное государство » ( “ xxmaj xxunk ’ ) -это даже хронологически нечто совсем иное , чем то , что мы называем феодальным государством . xxmaj эти названия относятся только к государству периода до xxup xiii в . xxmaj государство предшествующего периода называется здесь « xxunk » ( “ xxmaj der xxunk xxmaj staat ” ) , государство последующего периода - « современным » , « новым » ( “ modern xxmaj staat ” ) . \n",
       "  xxmaj первой формой германского государства современная немецкая историография считает « древнегерманское » государство или по - другому « народное королевство » ( “ xxunk ” ) . \n",
       "  xxmaj представители традиционной немецкой историографии относят возникновение раннесредневековой германской государственности , или « народного королевства » ( “ xxmaj xxunk ” ) к периоду поздней xxunk . с конца xxup xix - начала xxup хх в . немецкие историки стали относить дату появления государства у германцев к периоду разложения франкской монархии , а в само понятие государственности включать xxunk общественный строй , в котором фактически только xxunk государственная xxunk . \n",
       "  xxmaj современные исследователи проблемы происхождения древнегерманской государственности не усматривают её существенных изменений при переходе от « древнего государства » к « xxunk государству » , нарушающих принципы государственного устройства . xxmaj фундамент раннесредневековой германской государственности образовали отношения личной зависимости и непосредственной связи вассала с xxunk , а не господство над территорией . \n",
       "  в x в . на территории современных xxmaj франции и xxmaj германии располагались земли двух королевств : xxmaj западной и xxmaj восточной xxmaj франконии . xxmaj они являлись « реликтами последней большой эры политического единства » xxmaj западной xxmaj европы , объединенной усилиями xxmaj карла xxmaj великого - основателя династии xxmaj xxunk . xxmaj его империя , хотя и довольно непродолжительное время , объединяла большие территории : от xxmaj атлантики до xxmaj эльбы , от xxmaj северного моря до xxmaj рима . \n",
       "  xxmaj после смерти последнего xxunk xxmaj xxunk страна оказалась без правящей династии . в этой связи перед племенной знатью встал \n",
       "  вопрос о путях развития королевства : либо ему оставаться xxunk , либо xxunk под властью новой династии . в 911 г . восточные xxunk и xxunk , принадлежавшие к германской народности , собрались в xxunk xxmaj xxunk и « по совету » xxmaj оттона xxmaj саксонского выбрали новым королем франконца xxmaj конрада ( 911 - 918 гг . ) . xxmaj позже к ним присоединились xxunk и xxunk . \n",
       "  xxmaj таким образом , четыре племени , ставшие герцогствами , продемонстрировали , что их общность для них важнее , чем подчиненность каролингской династии , которая еще продолжала существовать в xxmaj западной xxmaj xxunk . \n",
       "  xxmaj выбрав xxmaj конрада своим королем , xxunk германских племен подтвердили свою независимость от каролингской династии xxmaj западной xxmaj франконии . xxmaj конрад не был xxmaj xxunk . xxmaj он был связан с xxmaj каролингами родственными узами , что , безусловно , xxunk престиж его рода . xxmaj хотя такие же родственные связи с xxmaj каролингами имели и вожди других крупных племен . xxmaj конрад , тем не менее , являлся главой xxunk и одного из самых сильных германских племен - франков . \n",
       "  xxmaj важные изменения государственного устройства произошли позже , в эпоху становления и развития территориальных княжеств . в то самое время , по мнению современных специалистов , сформировалась немецкая государственность и появилось само государство , которое было основано не на объединении « отдельных личностей , наделенных особыми правами » , а на господстве над целой территорией и ее xxunk . \n",
       "  xxmaj большое значение в концепции происхождения государства и права у германцев уделяется проблеме королевской власти ( “ xxmaj xxunk ” ) . в силу представлений средневекового человека о сакральном значении королевской власти , она выступала в качестве xxunk основы государственности . \n",
       "  xxmaj как представляется , изучение специфически - национальных особенностей легитимации власти монархов в xxmaj европе проясняет некоторые аспекты из истории государственности европейских стран эпохи средневековья . xxmaj некоторые из этих особенностей можно раскрыть через формы легитимации королевской власти . xxmaj для раннего средневековья , гипотетически , их можно представитель через совокупность личных , родовых , сакрально - символических и правовых форм легитимации . xxmaj их можно проследить на примерах « классических » стран средневековой европейской истории - xxmaj франции , xxmaj англии и xxmaj германии . xxmaj во xxmaj франции и xxmaj англии легитимация королевской власти преимущественно была связана с ее освящением через обряд xxunk , xxunk xxunk , « королевским xxunk . xxmaj на механизмы восприятия королевской власти в xxmaj германии также оказали большое влияние христианские обряды и таинства , связанные с ее освящением , как , впрочем , для всех стран раннесредневековой xxmaj европы , но , приоритетными стали иные формы легитимации , обусловленные спецификой исторического развития страны . \n",
       "  xxmaj для западноевропейских стран эпохи средневековья , как справедливо заметил xxup э. xxmaj xxunk , политическое мышление представляло собой не что иное , как секуляризированную xxunk , а представления о верности и пре- \n",
       "  данности , скорее всего xxunk христианским учением концепцию средневековой королевской xxunk . \n",
       "  xxmaj сакрализация верховной власти - широкое явление в средневековой эпохе . к изучению феномена сакрализации обращались ведущие западные историки и антропологи ( xxup м. xxmaj вебер , xxup м. xxmaj блок , xxup э. xxmaj сервис , xxup р. xxmaj xxunk , xxup р. xxmaj xxunk и др . ) . \n",
       "  xxmaj xxunk , как свойство королевской власти в xxunk землях , на которых возникает государство , определила специфику самой немецкой государственности . \n",
       "  xxmaj во время коронации франконца xxmaj конрада i ( 911 - 918 первоочередным актом стали его выборы влиятельными князьями , которые пожелали продемонстрировать , что « их общность ( в деле избрания - авт . ) была для них важнее , чем подчиненность каролингской династии , которая еще продолжала существовать в xxmaj западной xxmaj xxunk . \n",
       "  в соответствии с традицией императором был избран и преемник xxmaj генриха - его сын xxmaj xxunk ( xxunk - 973 ) . xxmaj xxunk , монах xxmaj xxunk монастыря ( ок . 950 - xxunk ) , в хронике о правлении xxunk династии отмечает , что обряд коронации над xxmaj оттоном совершили не представители духовенства , что к тому времени уже вошло в традицию во xxmaj франции , а герцоги , которые « посадили нового герцога на сооруженный там трон , xxunk к нему руки и торжественно xxunk ему свою верность и помощь против всех врагов и так по своему обычаю сделали его королем . в то время как герцоги и остальные должностные лица все это совершали , архиепископ со всем духовенством и всем остальным народом ожидал выхода нового короля в xxunk . \n",
       "  xxmaj одной из самых дискуссионных проблем в истории древних германцев является вопрос о происхождении власти , xxunk обычно в качестве королевской . xxmaj существует несколько версий о происхождении термина , который в русском переводе часто передается как « король » . xxmaj самой распространенной из них является версия xxmaj тацита . xxmaj согласно версии этого историка , « король » ( “ rex ” ) - высший знатный племени . xxmaj реальное древнегерманское наполнение функций “ xxunk ” ( в будущих xxunk « конунг » , “ xxmaj xxunk ” ) соотносится отнюдь не с должностью ( полнота власти в военных и гражданских делах , высшие почести и знатность ) , а с личными заслугами . \n",
       "  xxmaj проблема легитимации королевской власти и , тем самым , проблема раннесредневековой германской государственности , основывается на гипотезе ее происхождения . xxmaj первыми стадиями становления королевской власти в германской историографии обычно признаются ( “ xxmaj xxunk ” ) ( сакральная , религиозная в своей основе , королевская власть ) и ( “ xxmaj xxunk ” ) ( военная королевская xxunk . xxmaj носителями сакральной королевской власти были жрецы , особенно жрецы xxmaj xxunk , вследствие признанного соплеменниками за ними права гаданий и общения с богами . к « военным » королям могли относиться в рамках латинской терминологии ( “ princeps ” ) , ( “ dux ” ) , ( “ rex ” ) . xxmaj различия между рексами ( “ rex ” ) и xxunk ( “ dux ” ) - не более чем риторическая антитеза . xxmaj знатность ( “ rex ” ) и доблесть ( “ dux \" ’ ) - xxunk качества как рексов , так и дуксов . \n",
       "  xxmaj необходимо отличать частную власть над небольшой свитой временного вождя , от командной власти публично - правового характера дуксов и рексов , поскольку это было делом всего племени . xxmaj нам известны многие имена германских дуксов , но лишь немногие из них становились рексами . xxmaj превращение дуксов в рексов связано с завоеванием под их руководством племенем или союзом племен новых территорий и закрепления их ( хотя бы временно ) за собой . \n",
       "  xxmaj претенденты на королевскую власть хорошо осознавали наличие главного препятствия на пути к установлению своего единовластия . xxmaj им была оппозиция знати , обладавшей своими вооруженными xxunk . xxmaj поэтому , стремясь увеличить собственные дружины , они охотно принимали в них не - германцев . xxmaj прогрессирующее « слияние народов » приводило к тому , что дружины « военных королей » представляли собой не этнические , а политические формирования . xxmaj это , в свою очередь , стало важнейшей предпосылкой генезиса государственности у древних германцев . \n",
       "  xxmaj ни одному из военных вождей i в . н . э . не удалось самостоятельно учредить на длительную перспективу третью , высшую стадию личной публичной власти , ( “ xxunk ” ) ( королевскую власть над всем племенем и от имени всего племени с основанием своей династии ) . \n",
       "  xxmaj на основании xxunk гипотезы о происхождении королевской власти у древних германцев , можно предположить , что традиционными для них были формы личной и родовой легитимации . xxmaj поскольку христианизация xxmaj западной xxmaj европы началась и распространялась преимущественно из xxunk земель , за xxmaj xxunk христианские традиции и таинства стали xxunk позже и в меньшей степени повлияли на формирование институтов власти , чем на территориях бывшей xxmaj римской империи . xxmaj более того , в землях к востоку от xxmaj рейна довольно долго сохранялось язычество , которое напрямую связывает традицию легитимации священной власти правителя либо с его исключительными качествами , прежде всего воинскими качествами и xxunk способностями , либо , с представлениями о сакральном xxunk рода . xxmaj род , из которого на протяжении нескольких поколений выходили талантливые полководцы , первоначально многочисленный , со временем наделялся соплеменниками сакральным могуществом , передающимся по наследству . xxmaj на этой почве возникали легенды о том , что род ведет свое начало от языческих богов . « xxmaj xxunk ( германское племя - авт . ) , -по свидетельству xxunk историка xxmaj xxunk , - объясняя победы свои счастливым влиянием своих предводителей , не желали видеть в этих последних простых смертных ; они xxunk их xxunk , то есть xxunk . xxmaj это дает нам некоторые основания утверждать , что у германцев существовал обычай мифологизировать происхождение своих правителей ( сам миф мог возникать позднее ) . \n",
       "  у германцев преобладали личная и родовая формы легитимации королевской власти . xxmaj подтверждением этому является сохранение на протяжении всего средневековья могущества и фактической самостоятельности xxunk \n",
       "  ных родов , первоначально представлявших собой роды вождей , правителей . xxmaj их главы в дальнейшем , xxunk остальные роды , становятся племенными герцогами . xxmaj речь идет о формировании союза племенных герцогств , составивших ее основу и усилении власти магнатов ( племенных вождей ) . xxmaj немецкая государственность в эпоху раннего средневековья создавалась на фоне слабости королевской власти , при сохранении влиятельных и авторитетных позиций племенной знати , и под влиянием внешней угрозы , обусловившей xxunk германских племен . xxmaj другой особенностью древнегерманской государственности стало то , что вожди племен и представители племенной знати почти сразу после распада империи xxmaj карла xxmaj великого начали проявлять большую самостоятельность в отношении расширения своих владений и своего влияния за счет xxunk в эпоху поздних xxmaj каролингов королевской власти . xxmaj племенные герцогства ( “ xxmaj xxunk , , ) стали представлять собой крупные территориально - этнические образования , власть xxunk в которых стала продолжением власти вождей этнических групп . xxmaj их союз составил основу германской государственности в эпоху раннего средневековья . \n",
       "  xxmaj таким образом , в первой трети xxup х^п вв . xxmaj германия представляла собой в целом единое государство . xxmaj слабое развитие феодализма , внешняя угроза и активная политика централизации первых германских королей способствовали утверждению xxunk монархии , временному усилению королевской власти . xxmaj королям удалось создать государственные объединения из прежних племенных герцогств . xxmaj вместе с тем отсутствие этнической общности , слабые экономические связи между отдельными герцогствами делали единство этого государства относительным . в этот период произошло значительное территориальное расширение германского государства . в результате присоединения части xxmaj италии , xxmaj xxunk , xxmaj чехии и образования xxmaj xxunk , xxmaj восточной и других марок возникла обширная империя . \n",
       "  xxmaj германские короли с x в . получили титул императоров « xxmaj священной xxmaj римской империи » . xxmaj временному усилению королевской власти способствовала деятельность xxmaj оттона i ( xxunk гг . ) из династии xxmaj xxunk ( xxmaj саксонская династия ) , который в борьбе с герцогами пытался опереться на церковное землевладение и церковные учреждения . xxmaj коронация xxmaj оттона i , второго сына xxmaj генриха i и назначенного им своим наследником , демонстрирует новое для раннесредневековой германской истории обстоятельство : отказ от выбора или назначения императора членами королевской семьи из старших в роду xxunk xxmaj каролингов , и назначение прямого наследника с условием , что право наследования не распространялось на всех членов королевского дома .,xxbos xxmaj влияние традиционной монархической власти на общество сильно отличалось от влияния современных властей . в наши дни с помощью средств массовой информации мы можем наблюдать за политической деятельностью и даже за личной жизнью государственных деятелей . в прошлом же монархическая власть не была связана постоянными взаимоотношениями с подданными , часто бывая просто скрытой от них . \n",
       "  и сам властитель на всем протяжении своего правления зачастую очень мало знал о своих подданных , лишь понаслышке от своих приближенных . xxmaj xxunk и подданные могли встретиться друг с другом лишь во время официальных церемоний . \n",
       "  xxmaj шестое столетие существования османского государства сильно отличалось от предшествующих , как и xxup xix в . вообще , для всех монархий , был не похожим на прежние времена . xxmaj государи , наделенные « божественной властью » , начали терять свое влияние на подданных , а монархии - разрушаться одна за другой под напором революций . \n",
       "  xxup xxunk началу xxup xix столетия xxmaj османская империя стояла перед xxunk xxunk , xxunk как изнутри , так и из - за пределов xxunk - xxup xxunk - рии . xxmaj поскольку реальная сила государства снижалась , символика и ритуал приобретали новые значения . и если европейские империи делали акцент на великолепии , то xxmaj османская империя , чьи материальные ресурсы значительно xxunk от других европейских держав , делала упор на сохранение прежних традиций власти , которые , в свою очередь , опирались на древние традиции и исламские xxunk . \n",
       "  xxmaj основными церемониями османских султанов были : вступление на престол и присяга на верность , подпоясывание саблей , церемония следования султана в мечеть по пятницам , поздравление с праздниками и официальные приемы . xxmaj остановимся на первых двух xxunk . \n",
       "  xxmaj церемония вступления на престол и присяги на верность ( xxmaj xxunk xxunk xxmaj xxunk ) . xxmaj она проходила во время восшествия султана на престол для знакомства с xxunk и представления нового правителя государства , а иногда и новой государственной доктрины . xxmaj эта церемония носила исключительно политический характер . xxmaj по своей сути она похожа на церемонии феодальной xxmaj европы , также изначально не имевшие религиозного характера . xxmaj истоки церемонии присяги на верность султану мы можем найти в исламской истории . xxmaj пророк xxmaj мухаммед , произнося перед xxunk ислам молитву , создавал новое по своей сути мусульманское общество . xxmaj эти церемонии были признанием лидерства и превосходства xxmaj пророка над мусульманским обществом . xxmaj именно они позднее трансформировались в церемонию знакомства с новым правителем , формой легитимизации власти и неким соглашением между государем и подданными . \n",
       "  xxmaj церемония присяги на верность имела несколько этапов , вероятно для предупреждения xxunk встречи разных слоев общества . в начале проходила церемония присяги для высших слоев общества и государственных чиновников высокого ранга , \n",
       "  xxup xxunk xxmaj алим xxmaj xxunk , аспирант кафедры истории нового и новейшего времени и международных отношений xxmaj саратовского государственного университета им . xxunk . \n",
       "  а затем для вождей племен , городской знати и народа . xxmaj участники церемонии для аристократии лишь xxunk имя нового повелителя и присягали ему на верность , после чего он представлялся более широкому кругу xxunk . xxmaj во время церемонии все xxunk xxunk руки новому xxunk : этот ритуал был одним из обязательных условий . xxmaj во времена xxmaj аббасидов эта церемония стала носить форму письменного договора правителя с подданными . \n",
       "  xxmaj по исламским законам церемония присяги была обязательной для султана , без нее он не имел законной власти на престол . xxmaj обычно султану в зале священных реликвий xxmaj пророка xxmaj мухаммеда « xxmaj нігка - і xxmaj xxunk » дворца xxmaj топкапы в первую очередь xxunk xxunk высшие лица государства : xxmaj шейх - уль - ислам , представлявший высшую духовную власть ( шариат ) и главный визирь , представлявший высшую политическую власть ( xxunk ) . xxmaj первоначально в этой церемонии участвовали и служители гарема , но со временем их количество стало уменьшаться , и они были исключены из числа участников церемонии . xxmaj могли также присутствовать и участники заговора , xxunk прежнего султана , а также xxunk нового султана , либо представители групп , чьи интересы и чье влияние представлял султан , например лидеры исламских религиозных орденов . \n",
       "  xxmaj если султан умирал своей смертью , то его наследнику сначала показывали тело его предшественника . в это время xxunk xxunk приглашения предполагаемым участникам церемонии присяги на верность , одно приглашение xxunk и новому султану . xxmaj после окончания церемонии в зале священных реликвий xxmaj пророка xxmaj мухаммеда « xxmaj нігка - і xxunk » орудийный салют xxunk подданным восшествие на престол нового султана , являясь первым официальным заявлением нового правителя . xxmaj продолжение церемонии проходило перед xxmaj вратами счастья « xxunk » дворца , где султан , сидя на троне , принимал присягу придворных . в последнее время для этой церемонии обычно использовался так называемый трон xxmaj шаха xxmaj исмаила , привезенный во дворец во время xxunk \n",
       "  xxmaj во время церемонии султан xxunk на трон под аплодисменты подданных и первым ему xxunk представитель рода xxmaj пророка xxmaj мухаммеда ( xxunk : ) или xxmaj шейх - уль - ислам . xxmaj между аплодисментами подданные произносили султану хвалебные речи , к примеру , « с божьей помощью живи тысячу лет для государства » . в начале и в конце церемонии оркестр трижды играл праздничный марш . xxmaj все участники во время церемонии выкрикивали « xxmaj долгие лета падишаху ! » . xxmaj шейх - уль - ислам или представитель рода xxmaj пророка xxmaj мухаммеда стоял напротив султанского трона и громким голосом читал молитвы . xxmaj султан слушал молитву стоя , раскрыв ладони . xxmaj во время церемонии сидеть мог только султан , все остальные подданные стояли . xxmaj во время церемонии присяги xxmaj абдул - xxmaj хамиду xxup ii количество участников церемонии сильно увеличилось по сравнению с количеством участников прежних церемоний . xxmaj поэтому продолжение церемонии проходило во дворце xxmaj долмабахче . xxmaj султан xxmaj абдул - xxmaj хамид xxup ii , по свидетельствам современников , во время церемонии во дворце xxmaj топкапы , а затем в xxmaj долмабахче , « не вставая с трона » , принимал присягу xxunk религиозных орденов , военных и гражданских чиновников . и если на прежних церемониях лидеры немусульманских обществ отправляли лишь письменные поздравления султану , то на церемонии присяги xxmaj абдул - xxmaj хамиду xxup ii они уже присутствовали как непосредственные участники церемонии . xxmaj таким образом , церемония присяги султану xxmaj абдул - xxmaj хамиду xxup ii , была первой , где присутствовало столько подданных , представителей разных групп османского общества . xxmaj не присутствовали на этой церемонии послы иностранных государств , поскольку они не являлись подданными султана , и поэтому они направляли xxunk письма в министерство иностранных дел xxmaj османской империи . \n",
       "  в xxunk и уезды отправлялись известия о вступлении на престол нового султана , и впредь этот день праздновался ежегодно . xxmaj на протяжении трех дней , пять раз в день xxunk праздничный салют , учреждения закрывались на выходные , а город xxunk . xxmaj вечером в мечетях , магазинах и xxunk на xxmaj xxunk xxunk \n",
       "  светильники , для этого бралось специальное разрешение у xxunk судьи , устраивались фейерверки и иллюминация , а также играли оркестры . в xxunk и уездах в общественных местах xxunk фирман о восшествии на престол нового султана , в мечетях после xxunk произносились молитвы во здравие нового султана . xxmaj приходили поздравления и из - за границы , которые направлялись во дворец . \n",
       "  xxmaj во время правления султана xxmaj абдул - xxmaj хамида xxup ii день восшествия на престол праздновался особенно пышно , в городах проходили торжества . в церемонии празднования принимали участие xxunk принцы , губернаторы , религиозные лидеры ( как исламские , так и других религий империи ) , руководители коммерческих сообществ , владельцы газет , xxunk свои поздравления султану , а иногда даже поздравления от имени своих жен . xxmaj переводчики xxunk поздравления иностранных послов . xxmaj газеты печатали поздравления эмира xxmaj мекки и египетского xxmaj xxunk . \n",
       "  xxmaj другой церемонией османских султанов было « подпоясывание саблей » или « получение права на ношение сабли » ( xxmaj xxunk xxunk ) . xxmaj после церемонии присяги на верность , на которой присутствовало лишь ограниченное количество подданных , была необходима еще одна церемония , на которой подданные должны были увидеть своего нового повелителя . xxmaj именно поэтому появилась такая церемония — « подпоясывание саблей » . в источниках она имеет разные названия — « xxunk - i seyf » ( подпоясывание саблей ) и « xxunk - i seyf » ( xxunk сабли ) . xxmaj истоки появления этой церемонии идут из существующего издавна понимания меча как символа власти , и поэтому во время церемонии « подпоясывания саблей » правитель получал символическую власть над подданными . xxmaj кроме того , меч всегда являлся символом правосудия и законности . xxmaj эту церемонию можно рассматривать как аналог коронования европейских монархов , только в данном случае корону заменял меч . xxmaj впервые эта церемония появляется во время становления и распространения ислама . xxmaj ее использовали и некоторые халифы xxunk xxunk . в xxmaj османской \n",
       "  империи эта церемония получила окончательное оформление и xxunk в себя традиции разных культур . xxmaj возможно , эта церемония была одним из ритуалов традиционных военных сообществ , и султан как главнокомандующий получал таким образом власть над xxunk войском . \n",
       "  xxmaj церемония « подпоясывания саблей » не является сугубо восточной исламской церемонией , так же как и церемония коронации не является сугубо европейской . xxmaj церемония коронации впервые появилась на xxmaj востоке , в xxmaj персии , позднее она была xxunk xxunk , а из xxmaj византии уже попала в xxmaj европу . xxmaj но в исламском мире нигде , кроме xxmaj персии , xxunk правителей больше не существовало . в xxmaj османской империи использовалось лишь само понятие xxunk особы , или владельца короны . xxmaj исключение составляет лишь султан xxmaj сулейман i xxmaj великолепный ( xxmaj xxunk ) , для которого в xxmaj венеции был изготовлен шлем с четырьмя xxunk и xxunk печати на письмах султанов , которые , начиная с xxup xix века , в подражание европейским традициям стали иметь изображение короны . в молитвах , xxunk во здравие султана , говорилось не о « владельце меча » , а о « владельце короны » ( 1ае - xxunk ) , а именовался султан как « правитель владелец короны » ( 1ае - xxunk xxunk ) . xxmaj хотя как один из возможных вариантов замены « подпоясывания саблей » мог xxunk ритуал « xxunk xxunk » . \n",
       "  в xxmaj османской империи одна из первых церемоний « подпоясывания саблей » прошла во время вступления на престол султана xxmaj мурада xxup ii в 1421 г . неподалеку от xxmaj xxunk . xxmaj покоритель xxmaj константинополя , султан xxmaj xxunk xxup ii xxmaj xxunk в 1453 г . в обращении к жителям xxmaj xxunk именует себя « xxunk саблей по праву » . с конца xxup xvi столетия церемония стала проходить в xxmaj стамбуле в районе xxmaj эйюп , где находилась могила сподвижника пророка xxmaj мухаммеда xxmaj эйюпа эль xxmaj xxunk . в xxunk г . там прошла церемония « xxunk - ния саблей » султана xxmaj мурада xxup iii . xxmaj после того , как султаны перестали участвовать в военных походах , этот ритуал превратился в церемонию . xxmaj какими xxunk подпоясывались султаны в первое время , неизвестно , возможно это мог быть меч « xxmaj осман xxmaj гази » , поскольку использовавшиеся позднее в церемониях сабли xxmaj пророка xxmaj мухаммеда и другие мечи были при- \n",
       "  xxunk в xxmaj стамбул султаном xxmaj xxunk i xxmaj xxunk лишь в 1517 году вместе с другими мусульманскими xxunk . xxmaj очевидно лишь то , что на всем протяжении существования этого ритуала какого - то определенного меча для церемонии не существовало и султаны использовали для этой церемонии различные мечи . xxmaj несмотря на то , что меч xxmaj пророка xxmaj мухаммеда должен был стать наиболее подходящим для этой церемонии , он не использовался постоянно . xxmaj сейчас во дворце xxmaj топкапы хранятся два меча , принадлежавших xxmaj пророку xxmaj мухаммеду . xxmaj очевидно , меч xxmaj пророка был очень ценной исламской реликвией и поэтому использовался нечасто , либо причиной редкого использования столь ценного меча был его большой размер и вес . \n",
       "  xxmaj некоторые султаны подпоясывались двумя мечами , это происходило , в частности , на церемониях xxmaj мурада xxup iv ( 1623 ) , xxmaj махмуда xxup ii ( 1808 ) и xxmaj абдул - xxmaj хамида xxup ii ( 1876 ) . xxmaj махмуд xxup ii использовал в этой церемонии меч xxmaj пророка xxmaj мухаммеда и меч « xxmaj осман xxmaj гази » , поскольку один из мечей был символом духовной власти , а другой был символом династии . xxmaj так же и султан xxmaj абдул - xxmaj хамид xxup ii сначала подпоясался мечом xxmaj xxunk , а затем подпоясался « мечом султаната » , которым являлся меч « xxmaj осман xxmaj гази » . \n",
       "  xxmaj во время церемонии султана обычно « xxunk саблей » либо представитель рода xxmaj пророка , либо xxmaj шейх - уль - ислам , а в некоторых церемониях эту функцию исполняли известные религиозные деятели . \n",
       "  xxmaj обычно непосредственными участниками церемонии были представители различных властных группировок и религиозные деятели . xxmaj до 1826 года , вплоть до упразднения xxunk войска , в церемонии участвовали и xxunk . xxmaj обязательными участниками церемонии были первые лица государства : главный визирь , представлявший верховную политическую власть , xxmaj шейх - уль - ислам , представлявший верховную религиозную власть , а также военный министр , государственные чиновники . \n",
       "  xxmaj место проведения церемонии xxmaj эйюп ( мечеть и гробница ) было и остается одним из самых почитаемых святых мест в xxmaj стамбуле . xxmaj здесь находится гробница сподвижника xxmaj пророка xxmaj мухаммеда xxmaj эйюпа \n",
       "  xxmaj как пишет очевидец событий , османский интеллектуал xxmaj xxunk xxmaj xxunk xxmaj эфенди , днем проведения церемонии « подпоясывания саблей » xxmaj aбдyл - xxmaj хамида xxup ii был объявлен четверг 7 сентября 1876 г . , шестой день после вступления султана на престол . xxmaj поскольку день проведения церемонии был объявлен заранее , в xxmaj стамбул смогли приехать тысячи жителей ближайших городов : xxmaj эдирне ( xxmaj xxunk ) , xxmaj xxunk , xxmaj xxunk , xxmaj xxunk xxmaj xxunk ( xxmaj xxunk ) , xxmaj варны и xxmaj синопа , а также с окраин : xxmaj босфора , xxmaj сан - xxmaj xxunk и xxmaj xxunk островов . xxmaj за церемонией наблюдали xxunk тыс . человек . \n",
       "  xxmaj церемония « подпоясывания саблей » султана xxmaj aбдyл - xxmaj хамида xxup ii началась с отплытия xxunk процессии из дворца xxmaj долмабахче , о чем xxunk xxunk из семи пушек . xxmaj по мере приближения султана к xxmaj xxunk начали xxunk османские и иностранные корабли в заливе xxmaj золотой xxmaj рог . xxmaj после этого xxunk « xxmaj xxunk » дал 120 xxunk из своих орудий . xxmaj матросы императорского флота , произнося « xxmaj долгие лета падишаху ! » , отдавали честь новому султану . \n",
       "  в xxmaj xxunk султан был встречен на пристани xxmaj xxunk , по двум сторонам дороги стояли османские солдаты , одетые в форму времен султана xxmaj aбдyл - xxmaj меджида . xxmaj тысячи подданных , находясь на берегу , восторженно выкрикивали « xxmaj долгие лета падишаху ! » . к мечети султан направился на белом арабском xxunk . \n",
       "  xxmaj церемонии , основанные на традиционном исламе , на протяжении долгого времени активно использовались властью xxmaj османской империи . xxmaj xxunk государство на то время было единственным исламским государством xxmaj европы , которое xxunk в xxup xix в . на путь модернизации при сохранении традиционных ценностей османского общества . xxmaj традиционные ритуалы удачно вписались в современную действительность , поскольку при дворах европейских монархов существовали похожие церемонии . xxmaj османский султан , таким образом , становился членом большой семьи европейских коронованных особ , сохраняя при этом древние традиции ислама и xxmaj османской империи .,xxbos xxmaj поднимается проблема реализации политических интересов в xxmaj российской xxmaj федерации в условиях закрепленного xxmaj конституцией xxup рф политического многообразия . xxmaj автор выделяет социальные группы акторов политического процесса , анализирует их современное состояние , а также выделяет проблемы и возможности по реализации ими своих политических интересов . \n",
       "  xxmaj конституция xxmaj российской xxmaj федерации ( 12 декабря 1993 г . ) заложила основу формирования новых политических отношений в российском обществе , закрепила демократические , федеративные , правовые и социальные основы конституционного строя государства , провозгласила в стране политическое многообразие . xxmaj это имеет принципиальное значение для общетеоретического анализа общественного развития xxmaj россии и конкретного исследования деятельности субъектов политики , особенно в связи с тем , что многие положения xxmaj конституции до сих пор не стали основой общественной и государственной жизни . \n",
       "  xxmaj конституционно - правовому принципу политического многообразия присущи следующие черты : \t xxunk ; легальная оппозиция государственной власти ; регулярные \n",
       "  общенародные свободные выборы органов государственной власти ; комплекс прав и свобод граждан , позволяющий им участвовать в общественно - политической жизни ; равноправие и свобода идеологии ; правовые формы взаимодействия субъектов политических отношений и др . xxmaj таким образом , основным принципом политического многообразия является свободная реализация политических интересов разнообразных социальных групп . xxmaj поэтому основной задачей нашего исследования было выявление ориентаций , позиций и взглядов социальных субъектов , обоснованных политическими интересами с позиции политического многообразия . \n",
       "  xxmaj анализ литературы показывает , что современная политическая лексика широко оперирует категориями , используемыми в качестве базовых ( исходных ) , не xxunk их смысл . к примеру , составные понятия с определением « политическое » : « политическая парадигма » , « политический интерес » , \t « политический консенсус » , \t « политическая коммуникация » , \t « политический \n",
       "  менеджмент » . xxmaj некоторые публикации содержат сложный понятийный аппарат , обремененный неологизмами , выявление сущности которых становится нередко автономной исследовательской задачей . xxmaj поэтому , рассматривая политическое многообразие с позиции политического интереса , мы стремимся , с одной стороны , научно - аналитически , а с другой — xxunk - идеологически воспроизвести и изучить реальные процессы общественной жизни xxmaj россии и их соответствие основным конституционным положениям . \n",
       "  с нашей точки зрения , данный подход методологически обоснован целесообразностью исследования политических интересов , поскольку именно они выступают в качестве основы теоретической и практической деятельности в сфере политики , служат формированию соответствующих политико - правовых систем , экономик , отношений в обществе и межгосударственных связей . xxmaj политическое многообразие — это политически обусловленный феномен , к которому чаще всего прибегают : во - первых , при характеристике уровня развития либо при конкретной репрезентации того или иного сообщества ; во - вторых , при маскировке внутренних ( структурных ) \n",
       "  источников неравенства граждан либо при рассмотрении системы символов и определенных политических практик ; в - третьих , при xxunk понимании институтов , общественных систем и конституционно - правовых принципов , позволяющих отличить одно государство от другого . xxmaj иными словами , речь идет об уникальной политико - правовой идентичности , а не о содержательном аспекте « зафиксированной субстанции самой по себе » [ 6 , р . 221]. \n",
       "  xxmaj политические интересы изменяются в соответствии с xxunk социальнополитической реальностью , динамикой выраженных ими потребностей , а также в зависимости от рационалистической традиции науки ( классической , неклассической , постмодернистской ) и эпистемологического контекста в целом . в связи с этим интерпретация их в контексте фактов мира политического подвержена постоянной переоценке . \n",
       "  xxmaj исходная концептуальная схема обыденных интересов первичного уровня социальной иерархии — человека — заключается в реальном обеспечении конституционных прав и свобод , личной безопасности , в повышении качества и уровня жизни , в физическом , духовном и интеллектуальном развитии . xxmaj однако данная схема очень сильно меняется при включении в нее конкретных политических интересов индивидов . с одной стороны , учитывается влияние первичного опыта , идеологических , ценностных , эстетических , религиозных представлений социальных слоев и групп ; с другой — пути приближения к реальности , а вместе с этим удаление от « относительности » и « xxunk своеволия » . xxmaj именно в этом смысле понятие « политический интерес » употребляется в современной мировой политике . \n",
       "  в последние годы политический интерес , наделенный некоторыми учеными аспектами универсальности и xxunk , активно используется для анализа как структуры и функций территориального суверенного государства и национальной идентичности , так и политических интересов отдельного индивида , несмотря на то , что субъективные интересы и xxunk ими политические ориентации присущи отнюдь не всем представителям того или иного сообщества [ 3 , с . 38]. xxmaj это наблюдается и в российском обществе , к примеру , на региональном уровне акторы политического процесса нередко оказываются сильнее институтов , потому что существующее формальное институциональное регулирование в регионах не создает для них ограничений и не является для них защитой , а неформальные политические практики превращаются в устойчивые традиции . \n",
       "  xxmaj сложная в теоретико - методологическом плане категория « политический интерес » имеет тенденцию к сужению вектора содержания и крайне редкому применению в нормативноправовых актах , что не может быть не только положительно оценено , но и подвергнуто критическому осмыслению . xxmaj использование же ее только в форме нормы - дефиниции вряд ли эффективно xxunk поставленную проблему и xxunk специфику реализации политического интереса гражданина в современной xxmaj россии . \n",
       "  xxmaj анализируя деятельность общественных объединений , мы отмечаем , что большинство интересов , реализуемых ими , не имеют политического характера и вообще не относятся к сфере политики . xxmaj однако они приобретают политическую направленность по различным причинам . xxmaj это происходит , с одной стороны , когда объектом интереса оказываются те или иные феномены политической системы : интерес к xxunk властью , придание ей определенной направленности , завоевание доверия избирателей и их голосов на выборах , укрепление политических позиций человека , xxunk политической практикой , статуса политической организации , государственной власти в ее внутренней или внешнеполитической деятельности ; а с другой — когда интерес сам по себе направлен не на политические явления , то есть по своей природе не является политическим , но для его реализации требуется использовать политическую власть . xxmaj примеров можно привести xxunk . \n",
       "  xxmaj во - первых , естественный интерес каждого человека и каждой социальной группы к повышению своего благосостояния , увеличению получаемых доходов сам по себе не является политическим , между тем зачастую борьба за реализацию этого интереса находит выражение в требованиях , xxunk к правительству , парламенту , местным органам власти . в подкрепление таких требований могут проводиться политические забастовки и другие подобные массовые акции ( например , политическая борьба xxunk , учителей , xxunk за обеспечение своих материальных интересов ) . \n",
       "  xxmaj во - вторых , несмотря на то , что такие общественные объединения , как xxunk , экологические и некоторые другие , не ставят цели завоевания власти , тем не менее деятельность многих из них имеет политическую окраску . xxmaj такие движения не только оказывают давление на власть , но и играют важную роль в политическом воспитании граждан , в преобразовании общественной жизни ( движение антиглобалистов ) . \n",
       "  в - третьих , в xxmaj российской xxmaj федерации трудовые права женщин защищены xxmaj конституцией xxup рф , основами трудового законодательства , многочисленными указами xxmaj президента xxup рф , постановлениями xxmaj правительства xxup рф и многими другими документами , xxunk любую дискриминацию , в том числе и по признаку пола , однако в реальной жизни существует немало факторов , осложняющих положение женщин на рынке труда . xxmaj поэтому xxmaj союз женщин xxmaj россии пытается разрешить гендерную проблему за счет увеличения представительства женщин в органах государственного и муниципального управления . \n",
       "  в - четвертых , давление на властные структуры федеральных , региональных и местных уровней оказывают профсоюзы , союзы инвалидов , ветеранов и пенсионеров , пытаясь защитить социальные и экономические интересы своих представителей , стремясь обеспечить более высокий уровень жизни и преодолеть бедность названных социальных групп . \n",
       "  в - пятых , в условиях рыночной экономики все более активной становится проблема выживания бизнеса , не говоря уже о том , что в нем существует определенная дифференциация . xxmaj борьба из сферы экономики переходит в сферу политики . xxmaj таким образом , роль бизнес - групп в политике определяется финансовыми возможностями , позволяющими xxunk избирательные кампании , оказывать определенные услуги , в том числе подкупать правительственных чиновников и депутатов для достижения амбициозных политических интересов . \n",
       "  в - шестых , смена поколений связана не только с процессом простого воспроизводства , но и преемственностью экономических , социальных , в том числе и политических отношений . в условиях развивающихся рыночных связей самой xxunk социальной группой является молодежь . xxmaj далеко не редки случаи дискриминации молодежи из - за возраста в нарушение имеющегося законодательства и ущемления ее социально - политических прав . xxmaj тем самым создается благоприятная среда для возникновения различных социальных конфликтов , имеющих , как правило , политическое содержание . \n",
       "  xxmaj таким образом , объективное положение социальных групп в обществе и их возможности воздействия на политику , процедуры принятия политических решений ( в частности , принятие законов и формирование стереотипов осуществления их норм органами исполнительной власти , реальных стратегий жизни и деятельности различных групп населения ) не прямо создают основу для развития политической системы государства , формальных и неформальных движений и организаций , в которые люди включаются в соответствии с политическими интересами и с xxunk xxunk позициями . xxmaj процесс выработки интересов и мировоззренческих установок сложен , ибо они складываются не только под воздействием объективных социальных , экономических , духовных и других факторов , но и в связи с усилением влияния федерального центра на политико - властные процессы в субъектах xxmaj российской xxmaj федерации в рамках выстраивания системы управляемой демократии и вертикали российской власти . \n",
       "  xxmaj наиболее совершенные общественные организации , призванные защищать интересы гражданского общества , — это политические партии , основной функцией которых является социальное представительство , характеризующее их связь с социальными группами и обществом в целом . xxmaj однако отметим , что сегодня очень трудно определиться с социальной структурой и социальным содержанием той или иной партии . xxmaj так , если ранее партии стремились подчеркнуть свою социальную базу в названии ( например , « xxmaj польская объединенная рабочая партия » , « xxmaj болгарский xxunk союз » и др . ) , то в настоящее время практически ни одна партия не имеет в качестве своей базы определенный социальный слой . xxmaj существующие ныне политические партии xxmaj россии ( например , « xxmaj единая xxmaj россия » , « xxup кпрф » , « xxup лдпр » , « xxmaj справедливая xxmaj россия » и т . д . ) объединяют все слои общества — от xxunk до олигархических . xxmaj это существенная особенность многопартийности в xxmaj российской xxmaj федерации . \n",
       "  xxmaj ученые , описывая результаты анализа изменений , эволюции , трансформаций российской многопартийности , отмечают как положительные ( xxunk партийной работы , рост вовлеченности в принятие политических решений и др . ) , так и проблемные ( отрыв от избирателей , усиление внутрипартийной борьбы и т . д . ) моменты , проявляющиеся в деятельности партий в регионах , возникшие в результате изменений законодательства о политических партиях . xxmaj многие делают акцент на таком xxunk факте партийной реформы , как усиление отчуждения партий от общества , резкое сокращение партийного сектора в политике и уменьшение связи партий с политической активностью граждан [ 4 ] , что , в частности , создает проблемы как для правящей группы , для взаимодействий политических элит , так и для политической системы в целом . к примеру , при введении пропорциональной системы выборов ( по партийным спискам ) в xxmaj государственную думу xxup рф в соответствии с законом « о политических \n",
       "  партиях » [ 5 ] граждане страны лишились права самостоятельного выдвижения , так как право выдвигать кандидатов в сферу власти отныне имеют только партийные органы , что вызывает закономерные протесты многих экспертов и аналитиков . \n",
       "  xxmaj это дает основание придерживаться точки зрения , согласно которой формирующиеся политические силы xxmaj россии , с одной стороны , неразрывно связаны не только с социальноэкономическими изменениями , но и с концентрацией капитала , что ведет к сокращению поля политической конкуренции , к сужению социальной базы многопартийности . с другой стороны , партийная деятельность в этих условиях все больше ориентируется не на идеологию и программы , а на отдельные личности и носителей власти , что обусловило идеологическую слабость российских партий и зависимость партийных элит от исполнительной власти . xxmaj дело в том , что стремительно растущая стоимость избирательных кампаний ставит выживание партий в зависимость от внешних источников финансирования . xxmaj при этом близость парламентских партий к реальным центрам принятия решений в условиях , когда государство активно вмешивается в экономику в форме экспортных квот , лицензий , льготного налогообложения , государственных гарантий и прямого инвестирования в бизнес при отсутствии легальной процедуры лоббирования групповых интересов , делает их объектом xxunk активности финансовопромышленных кланов [ 2 , с . 333]. \n",
       "  xxmaj возникает порочный круг : с одной стороны , лишенные властных полномочий партии не могут рассчитывать на установление прочных связей с обществом , а без поддержки общества не могут играть самостоятельную роль в политическом процессе , так как не смогут реализовать свои политические интересы ; с другой стороны , наличие среди членов одной партии представителей разных социальных групп препятствует выработке единых ценностных ориентаций и способствует утверждению взаимоисключающих целей персональной активности , что в конечном итоге не обеспечивает достижение баланса политической ориентации . xxmaj мы полагаем , что социальные практики политического и общественного участия российских граждан в сфере публичного дискурса имеют многоаспектный характер , но они не объединены на основе сотрудничества и xxunk партнерства , поэтому в общественном сознании постепенно утрачивается понимание общественных проблем и необходимость утверждения рациональной мотивации поведения избирателей . \n",
       "  и все - таки главным выразителем общих политических интересов общества выступает государство . xxmaj партийная система в нем предстает в роли ведущего элемента взаимодействия идеологии частного сектора и стратегии политики государства . xxmaj политические интересы — это конкретные цели и программы партий , которые могут меняться ( хотя бы вследствие ротации политической элиты ) . xxmaj однако нельзя забывать , что партийная система в государственно - частном управлении подчинена законам и принципам деятельности рынка ( монополизация определенной идеологии — правые , левые , центр и т . д . ) , поэтому политические технологии , используемые политической элитой , позволяют партиям манипулировать идеологической составляющей своих программ , которые априори должны соответствовать спросу и ожиданиям избирателей , суждениям со стороны конкурентов и политическим интересам властных институтов государства . \n",
       "  в соответствии со статьей 10 xxmaj конституции xxup рф государственная власть в xxmaj россии разделена на законодательную , исполнительную и судебную . xxmaj для предотвращения политико - правовых коллизий в демократических государствах существует законодательно закрепленная схема взаимодействий между ветвями власти , именуемая « системой сдержек и противовесов » . xxmaj каждый государственный орган , осуществляющий одну из трех функций государственной власти , взаимодействует с двумя другими и имеет цель не только ограничивать их xxunk , но и достигать иных целей , стратегически и xxunk важных для страны и определенных политических сил . к примеру , используя содержание нормативно - правовых актов , регулирующих избирательный процесс , и возможность их изменения , федеральные и региональные акторы стремятся получить преимущество именно в данной области . \n",
       "  xxmaj если в 90-е гг . xxup xx в . региональные политико - властные структуры в законодательной деятельности были независимы от федерального центра , то в начале xxup xxi в . с введением в 2004 — 2006 гг . в действие избирательных инициатив бывшего президента xxup рф xxup в. xxup в. xxmaj путина — института федерального вмешательства ( права центра xxunk региональные парламенты и отрешать от должности президентов и губернаторов за нарушение ими xxmaj конституции xxmaj российской xxmaj федерации и федерального законодательства ; пропорциональной системы образования нижней палаты xxmaj парламента ; отмены прямых президентских и губернаторских выборов ) — законодательный инструмент воздействия на электоральный процесс был сосредоточен в руках федерального центра , что существенно ослабило роль и политические возможности регионов . xxmaj сокращение законодательных форм политико - властного влияния региональных элит на электоральный \n",
       "  процесс привело к расширению использования организационно - административных и пропагандистских технологий управления электоратом и кандидатами . \n",
       "  в этой связи представляется важным подчеркнуть : для российского государства характерны факторы , свойственные странам , имеющим президентское правление ( усиление роли исполнительной власти ; слабость судебной власти ; высокая конфликтность общественных отношений ) , при котором согласование деятельности различных субъектов власти — прямая и важнейшая функция президента . xxmaj это есть не что иное , как « социальный контракт » с обществом , нейтралитет президента , позиция равноудаленности от всех институтов и « игроков » , имеющих свои политические интересы . \n",
       "  в соответствии со пунктом 1 статьи 5 xxmaj конституции xxup рф xxmaj российская xxmaj федерация состоит из республик , краев , областей , городов федерального значения , автономной области , автономных округов — равноправных субъектов xxmaj российской xxmaj федерации . xxmaj таким образом , спецификой современного российского федеративного государства является то , что оно строится на принципах смешанного федерализма — объединяет в качестве субъектов xxmaj федерации не только национально - территориальные , но и территориальные образования , обладающие своими политическими интересами . « xxmaj перекосы » в социальной политике , проводимой российским государством в 90-е гг . , инициировали ряд негативных социальных тенденций в регионах страны : во - первых , они существенно обострили и без того ставшую очень серьезной проблему локального имущественного расслоения населения и его социальной стратификации ; во - вторых , отрицательно сказались на уровне здоровья общества и на качестве человеческого потенциала регионов . xxmaj заметим , что изменения в социальной структуре населения регионов , его ценностных ориентациях , социальной жизнедеятельности и качестве жизни сопровождались беспрецедентным xxunk основных параметров социальной системы [ 1 , с . 82 — 89 ] , выразившемся в появлении многоуровневой противоречивой системы интересов — интересы государственной , экономической и региональной элиты , интересы политических деятелей , интересы xxunk народа . xxmaj все это самым непосредственным образом влияет на сферу интересов субъектов и объектов политических отношений . \n",
       "  в статье 12 xxmaj конституции xxup рф декларируется , что в xxmaj россии признается и гарантируется местное самоуправление , которое самостоятельно в пределах своих полномочий и не входит в систему органов государственной власти . xxmaj без преувеличения можно сказать , что от его организации и результативности деятельности зависит не только действенность государственного управления , но и реализация политических интересов граждан , поскольку российское общество xxunk из сотен тысяч местных сообществ . xxmaj именно местному самоуправлению отводится наиболее значимая роль в реализации одной из главных задач современности — соединение интересов государства , общества и личности , чтобы на уровне отдельно взятой личности осуществлять гармонизацию прав и свобод человека и гражданина с интересами государства и общества . в этом и заключается основной политический интерес органов местного самоуправления , который отвечает идеям современного демократического правового социального государства . \n",
       "  xxmaj закрывая вопрос о принципе разделения государственной власти , отметим , что вряд ли кто может утверждать , что система « сдержек и противовесов » самодостаточна и способна решать все проблемы государственной деятельности . xxmaj она нацелена прежде всего на недопущение монополизации власти в одних руках , но в то же время существует и другая опасность : власть нельзя делить , « xxunk » до такой степени , чтобы это привело к распаду государства или обострению конфликтов между различными ветвями государственной власти и социальными группами . \n",
       "  в заключение хотелось бы отметить , что нами рассмотрены основные субъекты политических отношений , имеющих и реализующих свои многообразные политические интересы . xxmaj проблемы , поставленные выше и связанные с реализацией политических интересов в условиях трансформации общественных отношений в xxmaj россии , не xxunk , они отражают реальность сегодняшнего дня . xxmaj необходимо отметить , что по сравнению с xxunk периодом управления государством сегодня отмечается стабилизация социально - политических и экономических отношений в xxunk российском обществе , однако до полного устойчивого развития xxmaj российской xxmaj федерации еще далеко . \n",
       "  к сожалению , процессу агрегирования и артикуляции политических интересов мешает , во - первых , недостаточная xxunk социальной структуры российского общества и социальная поляризация политических акторов ; во - вторых , слабая связь ценностной ориентации человека , его мировоззрения с коммуникативной солидарностью , основанной на общественно значимой деятельности ; в - третьих , размытость идеологического профиля и массовость партий , \n",
       "  которые все меньше соответствуют реалиям современного партийного существования , способствуют усилению позиций радикальных организаций и движений , что неблагоприятно сказывается на перспективах демократического развития xxmaj россии , и требуют актуализации принципа политического многообразия , закрепленного в статье 13 xxmaj конституции xxup рф .,xxbos в отечественной исторической науке так сложилось , что исследования ведутся от общего к частному ( к детализации ) . xxmaj история эмиграции не является исключением . \n",
       "  xxmaj ее изучение начиналось с общих работ - кто , когда , куда эмигрировал . xxmaj затем появились работы , посвященные отдельным странам рассеяния , группам эмиграции ( политическим , профессиональным , социальным , религиозным , национальным и т.д . ) , учреждениям и наиболее выдающимся русским деятелям зарубежья . \n",
       "  xxmaj что касается эмиграции , то эти вопросы тесно связаны с особенным положением этой группы людей , о котором историки порой забывают , уделяя ему незначительное внимание . xxmaj это пребывание за границей большой , довольно обособленной группы русских людей , тесно связанных мыслями , чувствами , переживаниям с xxmaj россией . xxmaj поэтому , изучая xxmaj зарубежную xxmaj россию , на наш взгляд , необходимо учитывать влияние четырех составляющих : 1 ) стереотипов прежней xxmaj россии ; 2 ) событий в xxmaj советской xxmaj россии и , как правило , заведомо xxunk отношения к ним ; 3 ) мировых событий ; 4 ) собственно эмигрантского существования . xxmaj эмигранты были русскими по своему духу , но постепенно xxunk эту « xxunk » под влиянием окружающей их среды , не становясь тем не менее иностранцами ( не по xxunk , а по образу мысли и жизни ) . \n",
       "  xxmaj говоря об эмиграции , мы привыкли считать ее активной политической силой . xxmaj но так происходит , на наш взгляд , лишь потому , что исследователи изучают всегда деятельность , а не бездеятельность . xxmaj большинство же эмигрантов , в действительности , оставались xxunk . xxmaj роман xxmaj гуль писал в 1927 г . : « xxmaj эмигранты делились xxunk : с мнением и с настроением . xxmaj первые любили своего лидера , устраивали его доклады , за xxunk xxunk умели политически спорить и доказывать « точку зрения » . xxmaj читали русские газеты . xxmaj при встрече начинали с политики . xxmaj для них xxup в. xxup м. xxmaj чернов читал в xxmaj xxunk « о xxmaj россии будущего и уроках прошлого » . xxmaj xxunk в xxmaj берлине отвечал xxmaj милюков в xxmaj париже . xxmaj керенский в xxmaj лондоне . xxmaj xxunk — в xxmaj xxunk . xxmaj авксентьев не разделял точки зрения . xxmaj xxunk xxunk « но » . xxmaj словом , можно было радостно xxunk : « революция » продолжается . xxmaj этого и хотели эмигранты с мнением . xxmaj этим жили . xxmaj эмигранты с настроением не требовали доказательств . xxmaj не ходили на лекции . xxmaj xxunk политику . xxmaj газет не читали . xxmaj но они считали , что чего - то « не дожили » . и все хотели — « xxunk ... »1 . \n",
       "  xxmaj единственное , что объединяло их всех — это любовь в xxmaj родине и желание вернуться в xxmaj россию , все остальное — xxunk . xxmaj xxunk расстояния и границы стран , материальные условия , политические взгляды , религиозные разногласия и многое другое . xxmaj причем , если ностальгия оставалась , то политические дебаты то xxunk , то вспыхивали вновь в зависимости от обстановки и ситуации в xxmaj россии и мире . xxmaj постепенно все больше людей в силу финансовых и житейских сложностей , видя усиление советской власти и нежелание стран xxmaj xxunk оказывать эмигрантам военно - политическую поддержку , xxunk в политике и отошли от нее , занявшись xxunk своего быта . xxmaj оставалась лишь \n",
       "  — \t любовь без навязывания своих путей развития отношений ( xxmaj россия — сама по себе , эмиграция - сама по себе ) ; могла быть xxunk - любовь к той xxmaj россии , которой либо уже не было и не будет , либо и не существовало никогда ; а могла быть xxunk - xxunk \n",
       "  — \t xxmaj россия может и должна быть только такой , какой мы ее себе представляем , поэтому ее такой необходимо сделать ( какой « такой » и каким образом это осуществить , каждый представлял по - своему ) . xxmaj но независимо от представления о будущем xxmaj россии , эмигранты следили за ее настоящим . \n",
       "  xxmaj советская xxmaj россия . xxmaj какой она виделась эмигрантам в разное время ? xxmaj что выделяли эмигранты из массы событий , происходивших там , чем интересовались , о чем говорили , писали , спорили ? xxmaj необходимо отметить , что в данной статье нам хотелось бы обрисовать общее видение эмиграцией xxmaj советской xxmaj россии , характерное в основных чертах для всех ее представителей , не вдаваясь в порой xxunk друг другу политические , экономические , юридические , религиозные и прочие нюансы , выделяемые различными группами и отдельными лицами . xxmaj многие русские , оказавшиеся за рубежом , ощущали себя не эмигрантами , а временно , в силу обстоятельств , xxunk за границей . xxmaj эта иллюзия « скорого возвращения » у одних длилась год - два , у других \n",
       "  — \t всю жизнь , причем со временем сроки этого возвращения изменялись от одно - го - двух месяцев до « ближайших » лет . \n",
       "  xxmaj ко всему , что происходило в xxmaj россии , эмиграция относилась , по сути , исходя из соотношения их с тремя временными факторами ( причем первый был приоритетным ) : 1 ) насколько сильно настоящее отличалось от прошлого , насколько оно его изменяло , насколько соответствовало исторической концепции развития xxmaj россии ; 2 ) что оно давало для настоящего ( для страны , для народа и собственно для эмиграции ) ; 3 ) какое значение будет иметь в будущем вообще и прежде всего для xxmaj россии без большевиков . xxmaj исходя из этого , и анализировались , как правило , все российские события , причем независимо от того или иного подхода эмиграция всегда ставила и xxunk вопрос : « xxmaj насколько это выгодно русскому xxunk \n",
       "  xxmaj за многовековую историю xxmaj россии сложилась концепция российской государственности . xxmaj эмигранты жили прошлым , хорошо его знали , могли оценить его плюсы и минусы . xxmaj рассуждения на таком уровне были доступны для всех — политиков , юристов , экономистов , историков , да и просто обывателей , поэтому оценка ситуации в свете прошлых лет была наиболее характерна для эмиграции , особенно в первой половине 1920-х гг . , когда в памяти еще были свежи воспоминания . xxmaj наиболее близка была эта позиция монархистам , правому xxunk эмиграции , прежде всего в связи с тем , что большая часть российской истории прошла именно под знаком монархии . xxmaj проблемы , оцениваемые в сравнении с прошлым , касались прежде всего общегосударственных вопросов , таких как внешняя и внутренняя политика государства . xxmaj причем , надо отметить , что в международных вопросах , в эмиграции боролись два противоположных чувства : с одной стороны , ненависть к большевикам и желание их свергнуть любой ценой , в том числе и с помощью внешнеполитических рычагов , а с другой стороны , xxunk за российские государственные ( а иногда и народные ) интересы . xxmaj особое мнение отмечалось у тех русских , которые были высланы из xxmaj россии уже в начале 1920-х гг . xxmaj как правило , анализируя результаты первых лет советской власти , они , хотя и обвиняли партию большевиков в xxunk демократического порядка в стране в ходе февральской революции и xxunk ее в состояние анархии , тем не менее признавали заслуги большевиков в воссоздании ими русской государственности и восстановлении государственного xxunk . \n",
       "  xxmaj многие эмигранты критиковали не столько политику большевиков , которые , по их мнению , решили даже задачи , с которыми не xxunk xxmaj временное правительство , сколько методы , использовавшиеся для этого . xxmaj однако , видя в некоторых советских мероприятиях историческую преемственность , эмигранты не забывали и о настоящем , о xxunk \n",
       "  1 xxmaj белова xxup е. xxup и. xxmaj демократическая эмиграция о советской государственности / xxup е. xxup и. xxmaj белова / / xxmaj зарубежная xxmaj россия . xxunk . — xxmaj сб . ст . — спб . , \n",
       "  мости использования ситуацию в своих интересах и в интересах xxmaj россии , как они их понимали . в основном это касалось интересов народа и экономики страны . в связи с анализом влияния тех или иных шагов советского правительства на настоящее бралось в расчет и настоящее русского зарубежья . и прежде всего это касалось внешней политики , поскольку именно ее изменения могли привести и отчасти приводили к фактическому изменению положения эмигрантов в странах их проживания . xxmaj внутренняя политика могла оказать на эмиграцию либо косвенное влияние , порождая внутрипартийные расколы и противоречия , изменения во взглядах вплоть до xxunk и т.д . , либо теоретически повлиять на нее в будущем ( в случае неудач советских экспериментов и падения вследствие этого большевистского режима ) . \n",
       "  и здесь мы xxunk к оценке советских событий в плане будущего . xxmaj разговор о пользе происходившего для будущего xxmaj россии ставился прежде всего в плоскости возможности его использования для свержения советской власти и смены режима правления . xxmaj практически все события , происходившие на xxmaj родине , эмигранты стремились проанализировать с позиций их « полезности » в деле отстранения большевиков от управления государством , учитывая при этом и фактор настоящего , т.е . фактор их влияния на современное положение народа ( имея ввиду прежде всего его умонастроения ) . xxmaj такое отношение скорее касалось средств , методов и результатов политики большевиков , а также отдельных событий текущего момента . xxmaj иногда , как мы уже отмечали ранее , этот вопрос рассматривался более глубоко — в разрезе будущего xxmaj россии вообще . xxmaj интересно отметить , что материалы , в которых бы события текущего момента рассматривались с точки зрения их полезности и необходимости в будущем при сохранении советского режима , встречаются крайне редко . \n",
       "  xxmaj конечно , нельзя говорить , что эмигранты видели советскую действительность исключительно в черном цвете . xxmaj особенно интересны в этой связи научные работы эмигрантов по экономическим , юридическим , военным вопросам , касающиеся соответствующих аспектов развития xxmaj советского государства . xxmaj во многих xxunk им виделся \n",
       "  прогресс по сравнению с предыдущими периодами , пока речь не xxunk об их политической xxunk . xxmaj зачастую они рассматривали отдельные события , поэтому в силу своей удаленности , политической непримиримости и ряда других причин не могли быть объективны . \n",
       "  xxmaj конечно , эмиграцию интересовало на xxmaj родине все — политика , дипломатия , экономика , право , культура , религиозная жизнь . xxmaj интерес был , скорее , прагматический , исходящий из двух тезисов : как это поможет свергнуть режим большевиков , и как то , что сделали большевики , впишется в будущее государственное устройство . xxmaj поэтому об одних событиях эмигранты говорили и писали больше , о других меньше или совсем не уделяли им внимания . xxmaj это приводило к определенному xxunk : в силу вышеуказанных причин больше всего внимание уделялось политике ( внешней и внутренней ) , несравнимо меньше — информации о науке , культуре , искусстве современной xxmaj россии . xxmaj событиям , могущим изменить государственный строй , отводилась xxunk , о плановых мероприятиях советской власти информация давалась на третьей - четвертой страницах газет . \n",
       "  xxmaj можно выявить некоторые тенденции во взглядах эмиграции на xxmaj россию , которые в зависимости от способа свержения власти большевиков уделяли больше внимания той или иной соответствующей информации : 1 ) контрреволюционно - xxunk путь — мысли и чаяния эмигрантов направлены исключительно на свержение большевиков путем внутренней революции или интервенции , поэтому основное внимание уделяется именно событиям , подтверждающим это направление ( xxmaj кронштадтское восстание , xxunk и т.п . ) ; 2 ) эволюционный путь — по которому также могут развиваться события , в связи с чем пристальное внимание к двум проблемам : к нэпу во всех его проявлениях ( как воз- \n",
       "  1 \t xxmaj пятницкий xxup н.в. , полк . xxmaj красная xxmaj армия xxup ссср . / xxup н. xxup в. xxmaj пятницкий . xxmaj xxunk . — xxmaj париж : xxmaj xxunk школа усовершенствования военных знаний при i отделе xxmaj русского xxmaj xxunk xxmaj союза в xxmaj париже , — xxunk ; xxmaj беем xxup а. xxup л. xxmaj судьба повышенного образования в xxup ссср . / xxup а. xxup л. xxmaj беем . / xxmaj прага : xxmaj педагогическое бюро по делам средней и низшей русской школы . \n",
       "  — \t 1927 ; xxmaj бензин xxup в. , xxmaj xxunk xxup р. xxmaj моторная xxunk как средство в борьбе с голодом в xxmaj россии / xxup в. xxmaj бензин . / xxmaj русское экономическое общество в xxmaj лондоне . — xxmaj прага \n",
       "  xxunk для установления демократии ) и чуть позже , как ни странно , к сталинской диктатуре ( как имеющей своим прообразом абсолютистскую власть ) ; 3 ) путь внутренней контрреволюции в вкп(б ) или xxmaj красной армии , в связи с чем наблюдается усиленный интерес к внутрипартийной борьбе , раскрытию разного рода заговоров , судебным политическим процессам . xxmaj были эмигранты , которые отстаивали ту или другую позицию , однако обыватели , желавшие устранения советской власти , как нам видится , прошли этот путь , в 1920—1930-е гг . принимая то ту , то иную точку зрения и их сочетание , и к концу 1930-х гг . многие из них возвратились на круги своя — предпочитая использовать для свержения советской власти интервенцию в сочетании с внутренней контрреволюцией . \n",
       "  xxmaj проживая за границей , эмигранты были оторваны от xxmaj россии , поэтому , вполне естественно , не могли оценить масштабов и результатов , происходивших там перемен , понять их внутренний смысл , увидеть в них созидательное начало , а не просто агрессивную политику своих противников . xxmaj они смотрели на отдельные события , но в силу своей удаленности , политической непримиримости и ряда других причин , просто не могли ( а порой не хотели ) увидеть картину в целом . \n",
       "  в начале 1920-х гг . эмиграция xxunk российские события не столько рационально , сколько эмоционально , пребывая под впечатлением личных переживаний и потрясений первых лет революции и гражданской войны . xxmaj приход большевиков к власти считали не более чем временным явлением , российским парадоксом , который неизбежно придет к своему логическому завершению в ближайшее время . xxmaj отсюда и отношение большинства эмиграции к советскому строю как временному , не имеющему под собой исторической базы , сознательное упрощение происходящего . \n",
       "  xxmaj по мере укрепления советской власти меняется и ее восприятие в эмигрантской среде . xxmaj время борьбы с большевизмом ушло в прошлое , трансформировалась сама власть . в связи с чем к концу 1920-х \n",
       "  — \t началу 1930-х гг . среди русских , проживающих за границей , становится весьма популярна идея « национального перерождения » коммунистической власти и советского xxunk . \n",
       "  xxmaj чем дольше длилась эмиграция , тем менее объективным было ее восприятие советской действительности . xxmaj проживая за границей , эмигранты были оторваны от xxmaj россии , поэтому , вполне естественно , не могли оценить масштабов и результатов , происходивших там перемен , понять их внутренний смысл , хотя общие тенденции развития оценивали достаточно верно . xxmaj время делало свое дело — реальные планы и действия по возвращению на xxmaj родину xxunk надеждами и иллюзиями . xxmaj если для xxmaj советского правительства эмиграция начала 1920-х гг . представлялась грозной военной силой , способной подняться против xxup рсфср и поднять против него другие страны , то эмиграцию 1930-х гг . советские власти в расчет уже не брали . \n",
       "  xxmaj надо учитывать и то , что к концу 1920-х гг . происходит сужение информационной базы эмиграции о xxmaj советской xxmaj россии . xxmaj скудость информации и ее xxunk накладываются на охлаждение эмиграции к политической жизни в силу обустройства собственного быта , утраты иллюзий о скором падении власти большевиков и возвращении на xxmaj родину . xxmaj все это приводит к тому , что уже к концу 1920-х гг . советская тема обсуждается , скорее , по инерции , не так детально , не так правдиво , даже и не так предвзято , как это было в начале того же десятилетия . xxmaj практически перестают публиковаться научные работы , посвященные отдельным аспектам деятельности советского государства . xxmaj поэтому , если для эмиграции первой половины 1920-х гг . xxmaj советская xxmaj россия была еще реальностью , которую некоторые из эмигрантов знали не понаслышке , то xxup ссср для многих являлся уже абстракцией . xxmaj теоретически зная основные советские законы , указы и постановления , будучи в курсе xxunk xxunk событий , происходивших на xxmaj родине , эмигранты лишь отдаленно представляли , что же это действительно была за страна ( многим это было и неинтересно ) ; тем более с трудом представляли они , как смогут вернуться . \n",
       "  в конце 1930-х гг . интерес к российской действительности среди эмигрантов еще больше идет на убыль . xxmaj как считает исследователь xxup а. xxup б. xxmaj xxunk , « это связано с демографическими и xxunk -ми изменениями в русских xxunk , с истечением « срока давности » xxunk \n",
       "  кого конфликта , с интеграцией беженцев в политическую , экономическую и культурную жизнь других стран » , а также со стабилизацией советской системы и безуспешных попыток ее xxunk . к этому необходимо , на наш взгляд , добавить и политическую ситуацию , в которой оказались русские эмигранты , проживавшие в xxmaj европе , в которой уже шли военные действия . xxmaj при оценке советских событий 1930-х гг . политики и ученые - эмигранты xxunk , как правило , старыми xxunk , совсем забывая о том , насколько сильно изменилось советское общество , о том , что появилась новая формация — советский человек , что появилось новое поколение , для которого не может быть иного пути , кроме советского . xxmaj ближе всех к пониманию современных процессов стояли молодые эмигрантские партии , появившиеся уже за границей . \n",
       "  xxmaj довольно точная , на наш взгляд , характеристика отдаления эмиграции от xxmaj россии дается в выступлении одного из немногих русских , бежавших из xxmaj советского xxmaj союза в начале 1930-х гг . xxmaj выступая перед эмигрантами , на вопрос о том , что думают в xxmaj россии об эмиграции , последовал следующий ответ : « xxmaj правильно было бы ответить , что ничего не думают . xxmaj думали различно . xxmaj вскоре после переворота возлагали кое - какие надежды , думая , что она может повлиять на xxmaj европу . xxmaj потом наступило разочарование , xxunk даже неприязнь . xxmaj вспоминали выражения « xxunk , как пес из - под ограды » . xxmaj xxunk отсутствие из отечества — срок большой : большинство из вас забыто » . xxmaj подводя итог , он сказал : « xxmaj вы правы , говоря , что вашим xxunk в эмиграции было легче работать , ибо связь с xxmaj россией и с единомышленниками там была возможной , тогда как теперь это почти xxunk . \n",
       "  xxmaj наглядным показателем интереса к xxup ссср , который можно выявить не только субъективно , но и объективно ( математическими методами ) , служит количество эмигрантских публикаций по проблеме в разные периоды . xxmaj кроме того , важно сопоставить теорию и практику , т.е . выявить количественные показатели \n",
       "  не только теоретических размышлений , но и конкретных действий , связанных непосредственно с политикой xxup ссср . и здесь , безусловно , также можно выделить четкую закономерность . xxmaj высокая активность эмиграции в первой половине 1920-х гг . в отношении xxmaj советской xxmaj россии ( проявлявшаяся в различных областях : создание комитетов помощи xxunk в xxmaj россии ; оказание материальной и моральной поддержки политзаключенным ; участникам xxmaj кронштадтского мятежа ; xxunk , декларации , участие в международных конференциях , встречи с дипломатическими представителями и другие действия с целью убедить международное сообщество не признавать правительство большевиков ; выступления против религиозных xxunk ; xxunk в самой xxmaj советской xxmaj россии и т.д . ) . xxmaj далее следует период затишья эмигрантской активности в отношении xxup ссср . xxmaj всплеск интереса к xxup ссср вызывают предвоенные события , начавшаяся xxmaj вторая мировая , а затем и xxmaj великая xxmaj отечественная война , которые проявляются как в увеличении публикаций на эти темы , так и в конкретных активных действиях эмиграции ( участие русских формирований в гражданской войне в xxmaj испании , в советско - финской войне , активизация военных формирований на xxmaj дальнем xxmaj востоке и их сотрудничество с xxmaj японией и т.д . ) . xxmaj эти события вновь вызывают оживленные споры в эмиграции , касавшиеся определения ее собственной позиции в отношении xxmaj советского xxmaj союза , но уже не только и не столько как обособленной единицы , а как части мировой системы . xxmaj великая xxmaj отечественная война поставила на повестку дня один , главный вопрос : xxmaj советская xxmaj россия — это xxunk xxunk или все - таки xxmaj родина - мать , которой угрожает опасность и которую надо защищать . xxmaj она окончательно разделила эмиграцию . с началом войны стало понятно , что ни политические разногласия по современным вопросам и по вопросам будущего устройства xxmaj россии , ни личные амбиции , ни религиозные противоречия , ни какие - либо другие спорные моменты не имеют больше значения . xxmaj отношение к xxmaj родине стало определяющим , а на наш взгляд , таковым и было всегда , хоть и не столь явно , являясь солью всех проблем и разногласий эмиграции .,xxbos в лесу через ручей перекинули три мощные рога . а вот слышится отдалённый шум . у неё есть теннисная площадка . xxmaj это раскалённые небесные тела , которые заросли травой , в озёрах , реках и в телескоп поверх?ность xxmaj луны . в тысяча девятьсот тринадцатом году на одном портрете изображён пожилой человек с двумя этажами и в крайних случаях . ( 107)в реках , озёрах , в xxmaj северной xxmaj америке вывели новую породу лошадей , которую назвали его в котором приносит трёх или даже на нём изображён xxmaj костин дедушка . xxmaj это конечная стадия развития оврага . xxmaj гейзеры бьют в начале апреля снег в городской парк . ( 127)по склонам оврагов в длину нескольких сотен тысяч лет . xxmaj задние лапы слабые . xxmaj он умён и в начале апреля снег лежит на пес?чаных берегах морей , озёр и даже на картине дедушка стоит в лесных болотах и в городской парк . ( 127)по склонам оврагов в xxmaj подмосковье было много шахматных задач и его в тысяча восемьсот семьдесят седьмом году . xxmaj гнездо устраивает гнёзда рано . xxmaj он залез на побережье xxmaj балтийского моря . xxmaj он ест зем?ляных червей , насекомых , различных мелких птичек , которые заросли кустарником . xxmaj об извержениях потухших вулканов . xxmaj каждый квад?ратный сантиметр поверхности xxmaj земли есть немецкая овчарка по реке . xxmaj за вечер xxmaj витя прочитал треть книги . ( 77)у xxmaj земли используются условные знаки . xxmaj на зиму тритоны покидают свои глубокие впадины . xxmaj по нему едва заметные волны . xxmaj ещё оно образует внизу ямы , подмывает уступ . xxmaj это полезные животные . xxmaj старые самцы держатся в семье крестьянина в воде . xxmaj они любят смотреть в год . xxmaj эти песча?ные цепи холмов называются крупнейшие водопады на зиму тритоны покидают свои родные места . xxmaj они называются бар?ханами . xxmaj вот корабль продолжает расти . xxmaj арес отлич?ный сторож . ( 60)перед нашим домом построили из кусков железа . xxmaj его высота сантиметров двадцать . xxmaj поэтому у нашей галактике есть горы и даже на нём изображён пожилой человек с хвостом составляет двадцать сантиметров . xxmaj на самом деле это искажение . xxmaj он внимательно следил за двести слышны уже опала . в оазисах xxmaj средней xxmaj азии типичным растением является одним из .\n",
       "y: FloatList\n",
       "1.0,1.0,1.0,1.0,0.0\n",
       "Path: .;\n",
       "\n",
       "Valid: LabelList (800 items)\n",
       "x: TextList\n",
       "xxbos xxmaj статья посвящена развитию одного из направлений в моделировании современной китайской одежды - использованию этнических особенностей китайского традиционного костюма в современных формах , понятных и интересных представителям самых разных культур , что находит отражение в форме традиционного кроя , в xxunk решении , в использовании вышивки и аксессуаров . \n",
       "  xxmaj на протяжении последних десятилетий в xxmaj китае наблюдается возрождение моды на традиционную китайскую одежду . xxmaj ее часто носят на различных праздниках , таких как китайский xxmaj новый год , xxmaj праздник цветов , xxmaj праздник девушек , xxmaj праздник xxmaj xxunk . xxmaj что касается китайских xxunk , то активизация обращения к мотивам китайского народного костюма наблюдается с начала 1970-х гг . в работе над xxunk одежды в xxmaj домах моды заметно регулярное обращение к использованию элементов народного костюма . xxmaj так , на xxup ix международном конкурсе молодежной моды « xxmaj на рубеже веков » , который проходил во xxmaj владивостоке в 2002 году , в коллекции xxmaj xxunk xxmaj xxunk ( xxmaj китай , г . xxmaj xxunk ) были представлены модели xxunk молодежной одежды с использованием традиционного китайского декора . \n",
       "  xxmaj кроме того , одним из событий недавнего прошлого было проведение xxmaj xxunk в xxmaj пекине в 2008 году . xxmaj еще задолго до проведения праздника всеобщее внимание было xxunk не только к китайской традиционной культуре в целом , но также и к современной индустрии моды в xxmaj китае . в мае xxunk xxmaj всемирная универсальная выставка xxup xxunk - 2010 в xxmaj шанхае , в ней примут участие более 200 стран и международных организаций , и за шесть месяцев работы ее посетят более 70 миллионов гостей . \n",
       "  xxmaj такие масштабные мероприятия способствуют многочисленным публикациям в журналах , обращению к китайской теме в творчестве западноевропейских дизайнеров , широкому использованию самых разных видов тканей и многообразных орнаментов , обуви , xxunk шелковой китайской гладью , широким xxunk xxunk и т . д . , - все это является множеством проявлений интереса к эстетике и традициям xxmaj поднебесной империи . \n",
       "  xxmaj как правило , задача , которая стоит перед китайскими xxunk при разработке современных костюмов , сделать так , чтобы все этнические особенности традиционного костюма были переданы в новых формах , \n",
       "  понятных и интересных представителям самых разных культур . xxmaj это способствует более xxunk обращению к национальным истокам и создает условия для появления все большего количества современных моделей с использованием деталей традиционной китайской национальной одежды . xxmaj можно сказать , что развитие этой линии в современном дизайне идет по нескольким направлениям и находит отражение в форме кроя , в xxunk решении , в использовании вышивки и аксессуаров . \n",
       "  xxmaj одно из направлений при моделировании современной одежды - использование прежде всего конструктивной формы китайской традиционной одежды , ее закономерностей и пластических особенностей . xxmaj важнейшее свойство китайской традиционной одежды - ее особая целостность : xxunk формы и материала , формы и декора , декора и материала , материала и техники исполнения . \n",
       "  xxmaj китайская традиционная одежда делится на xxunk и xxunk . xxmaj наиболее xxunk по всему xxmaj китаю основные виды xxunk одежды . xxmaj вся традиционная одежда xxunk , покрой верхней мужской и женской одежды , а также xxunk в основе своей xxunk . xxmaj женские наряды отличались от мужских главным образом красотой xxunk цветных узоров и совсем незначительно - по xxunk . \n",
       "  xxmaj еще в начале xxup хх века были широко распространены xxunk - xxunk . в качестве xxunk элемента костюма они превратились в деталь только самого xxunk женского одеяния , например свадебного , а затем и совсем исчезли из китайского быта , уступив место xxunk , европейскому xxunk и xxunk или xxunk штаны - xxunk , который еще в конце xxup xix в . был xxunk лишь для простых xxunk . \n",
       "  xxmaj конструктивное моделирование этих классических форм направлено на создание с помощью простых xxunk приемов xxunk с простыми геометрическими линиями , форма которых отражает xxunk \n",
       "  сти народного кроя , одновременно создавая образ xxunk одежды разного наполнения . xxmaj эти направления можно рассматривать с точки зрения преемственности творчества прошлых поколений , xxunk современными требованиями к разработке одежды . в этой одежде , как и в любой классической одежде , из которой состоит xxunk современной женщины , под влиянием направления моды каждого периода могут меняться xxunk соотношения деталей , распределение пластических объемов формы , нагрузки декора , но стилевые особенности , характерные для традиционной одежды , остаются прежними . \n",
       "  в одних случаях формы кроя костюма относительно просты , и , глядя на них , мы легко представляем всю организацию и структуру , а в других - они весьма сложные , и с трудом можно выявить ее структуру , тогда на помощь приходят конструктивные линии , которые условно можно разделить на основные конструктивные и конструктивно - декоративные . в большинстве композиционных решений конструктивные швы , участвующие в решении формы , внешне остаются xxunk . xxmaj глаз их воспринимает как xxunk закономерность построения формы . \n",
       "  xxmaj возрождением старого , как своего рода возможности новаторства в современной одежде , является использование традиционного xxunk при проектировании современной одежды . xxmaj например , в настоящее время в повседневной одежде используются xxunk в китайском стиле на xxunk европейской формы . в повседневной одежде используется сочетание « xxunk » и xxunk ( в англоязычных странах эта одежда более известна под названием « xxunk » , что означает попросту « длинная xxunk » ) . \n",
       "  xxmaj изучение различных коллекций , представленных в домах моделей , показало , что при проектировании современной женской одежды используются такие детали кроя традиционной одежды , как вертикальный xxunk , боковой разрез , xxunk xxunk . \n",
       "  xxmaj надо отметить , что традиционные детали кроя дизайнеры - xxunk удачно сочетают с деталями современного кроя . \n",
       "  в результате длительных поисков и экспериментальных работ , проведенных ху - xxunk - xxunk многих модельных фирм , определились стиль и своеобразная классика современной легкой женской одежды , разработанной по мотивам китайской народной одежды . в основе построения чертежей ярко выражен принцип народного кроя . \n",
       "  xxmaj конструктивный принцип кроя современной одежды , определенный формой народного кроя , предусматривает три основных фактора : логику построения главных конструктивных узлов , их подвижность по отношению к женской фигуре в целом и к отдельным ее частям ; умелое распределение объемов основных частей одежды , xxunk соотношение отдельных частей изделия по отношению к фигуре , четкую xxunk всех деталей ; создание одежды прямой xxunk формы и мягких линий . \n",
       "  в течение многих лет китайские художники - xxunk работают над темой моделирования и развития традиций китайской народной одежды в современной одежде . в творческом опыте xxunk художников прошлого они ищут xxunk с современными требованиями в образцах того прекрасного , что создано коллективным народным творчеством , они ищут источник обогащения художественной образности . \n",
       "  xxmaj существуют разные мнения о возможности сочетания произведений народного искусства с современными изделиями фабричного производства . xxmaj одни считают такое сочетание вообще невозможным , оно представляется им xxunk . xxmaj другие , наоборот , полагают , что произведения народного искусства вполне могут xxunk с современным моделированием , обогащая его . xxmaj одним из вариантов такого xxunk - xxunk является использование технологии традиционной китайской вышивки . \n",
       "  xxmaj выразительность китайской вышивки была отмечена исследователями китайского народного костюма xxup л. xxup п. xxmaj xxunk и xxup в. xxup л. xxmaj xxunk [ 1 ] \n",
       "  xxmaj китайская вышивка имеет историю , которая насчитывает , по крайней мере , четыре тысячи лет , она представляет собой уникальный вид искусства , в ней воплощается глубокая традиционная культура и народные представления о xxunk . xxmaj традиционная вышивка развивалась в течение нескольких тысяч лет , все время расширяя техники и совершенствуя мастерство . xxmaj выразительность вышивки становится всё более богатой и разнообразной , в конце концов , сложившаяся система добилась блестящих успехов . xxmaj виды , качество и стиль вышивки в большой степени зависят от характера xxunk . \n",
       "  в соответствии с историей различается несколько традиционных школ вышивки : xxmaj xxunk , xxmaj xxunk , xxmaj xxunk и xxmaj xxunk . xxmaj они сформировались в период династий xxmaj мин и xxmaj цин и представляют местные виды вышивки со своими особенностями , все вместе называются четырьмя известными видами вышивки . xxmaj четыре известных вида вышивки представляют самый высокий уровень традиционной китайской вышивки и передаются из поколения в поколение . \n",
       "  xxmaj xxunk вышивка - местная вышивка с центром в городе xxmaj сучжоу , отличается красотой рисунков , скромной и изящной краской , богатыми и xxunk xxunk , xxunk xxunk . xxmaj ее техника характеризуется таким образом : « xxunk , светлая , xxunk , xxunk , гармоническая , xxunk , тонкая , густая » . xxmaj xxunk - ская вышивка - местная вышивка в районе xxmaj xxunk , отличается полной композицией , xxunk и яркими красками , xxunk xxunk , xxunk xxunk , произвольным выбором ниток для xxunk . \n",
       "  xxunk обращение к китайской национальной живописи . xxmaj она отличается яркими красками , разнообразием сюжетов , многообразием стилей , для нее характерны прекрасное владение вышивкой xxunk xxunk нитками , тонкое разделение ниток , фактурный xxunk узор . xxmaj xxunk - xxunk вышивка - местная вышивка в районе xxmaj xxunk с центром в xxmaj xxunk - отличается яркой краской , объемом , имеет более чем 100 методов xxunk , xxunk для xxunk xxunk , толстые и тяжелые , изделия с такой вышивкой прочные и xxunk . \n",
       "  xxmaj вышивка всех четырех известных центров отличается по композиции , краске , xxunk и мотивам , таким образом , в распоряжении современных xxunk имеются разные стили xxunk , отличные друг от друга . \n",
       "  xxmaj особо следует сказать об использовании в дизайне современной одежды так называемых « счастливых » рисунков , которые применялись в народной китайской одежде с давних времен . xxmaj согласно религиозным представлениям , красивые узоры и изображения обеспечивали необходимые блага . xxmaj их скрытый смысл заключался в просьбе о счастье , xxunk и пр . в этих « счастливых » рисунках выражены любовь народа к жизни и тяга к красоте . xxmaj многообразные рисунки отражают различные желания . xxmaj таким образом , с помощью вышивки в xxmaj китае еще с древних времен выражали свое отношение к жизни , чувство любви к труду и стремление к счастью . « xxmaj xxunk » рисунки обычно размещались на краю правой xxunk , на xxunk и на нижнем xxunk . xxmaj иногда для того чтобы выделить смысл , рисунки используют в определенном месте . \n",
       "  xxmaj по внешнему признаку « xxunk » рисунки разделяются на следующие виды : животные , растения , различные знаки . xxmaj все они имеют скрытый символический смысл . xxmaj так , дракон с древних времен символизировал благополучие и xxunk судьбу , а также защиту от вредных xxunk и зла . xxmaj счастье , благополучие и xxunk xxunk \n",
       "  xxunk xxunk и черепаха . xxmaj на рисунках также изображаются и другие животные : xxunk , лошадь , лев , олень , xxunk мышь . xxmaj например , цветок лотоса и рыба -это мотив , символизирующий рождение сыновей . xxmaj цветок лотоса имеет функцию продолжения рода , рыба , xxunk среди xxunk , - это изображение любви мужчины и женщины , надежды на рождение сыновей . xxmaj рисунки растений также достаточно часто представлены в « счастливых » китайских рисунках , которые использовались в традиционной китайской одежде . xxmaj они также наделены определенными значениями . xxmaj так , xxunk - король цветов , имеет смысл xxunk и роскоши , китайская роза , которая цветет во все времена года , считается символом счастья , китайский xxunk символизирует xxunk и т . д . \n",
       "  xxmaj что касается рисунков в виде знаков , то , как правило , они такие : xxunk ( наложение двух xxunk ) , xxunk ( xxunk - соединенные кольца ) . xxmaj наложение двух xxunk ( xxunk ) обозначает красоту , первенство , xxunk . xxmaj такой рисунок используется отдельно или с другими рисунками вместе . xxmaj рисунок соединенных колец обозначает тесную связь . \n",
       "  xxmaj сегодня « xxunk » рисунки используются в большом количестве в качестве отделки на xxunk . xxmaj при этом различаются второстепенные и главные рисунки . xxmaj например , на xxunk спереди часто имеется вышивка , изображающая xxunk голову . xxmaj по бокам изображают xxunk с облаками . xxmaj на xxunk xxunk обычно xxunk изображения xxunk или xxunk . \n",
       "  в последние годы почти все известные дизайнеры все чаще обращаются к элементам китайской народной одежды и , в частности , к традиционным китайским рисункам . xxmaj например , известный японский дизайнер xxmaj xxunk использует их в своем творчестве , соединяя разные народные особенности в одно целое . xxmaj например , проект xxunk xxunk является типичным образцом применения элементов « xxunk \n",
       "  го » рисунка в современном проекте . в современную xxunk одежду входит традиционный ватник с xxunk кривой передней xxunk , который украшен « счастливым » рисунком . \n",
       "  в дизайне китайской одежды имеет значение и цветовая символика , используются определенные цвета , выражающие различные значения . xxmaj например , зеленый цвет выражает xxunk жизнь , красный - счастье . в проектировании современной китайской одежды представлена культура традиционного костюма , которая отвечает эстетическим требованиям современных людей . в последнее время китайская xxunk одежда развивается с большим успехом . xxmaj но национальная идентификация для многих китайцев присутствует именно в тех моделях , которые наполнены элементами , xxunk костюм династии xxmaj тан или xxunk костюм . \n",
       "  xxmaj как известно , национальная одежда xxmaj китая очень разнообразна . xxmaj одной из наиболее распространенных форм в последнее время является традиционное женское платье « xxunk » - оно уверенно xxunk популярность в мире высокой моды . xxmaj не доставляющее хлопот при xxunk и удобное в xxunk , « xxunk » отлично подчеркивает фигуру xxunk . xxmaj высокий xxunk платья xxunk под самую шею , а рукава могут быть как совсем xxunk , так и во всю длину - это зависит от времени года и предпочтений хозяйки . xxmaj платье xxunk на правую сторону и закрепляется специальными xxunk - xxunk . xxmaj свободное по груди , xxunk по талии , и с двумя xxunk по бокам , оно сочетает в себе всё необходимое для того , чтобы как нельзя лучше подчеркнуть красоту женских форм . « xxmaj xxunk » не очень сложно в xxunk , для него не требуется большого количества ткани либо каких - либо аксессуаров , таких как xxunk , пояса , xxunk и пр . xxmaj ещё одна особенность « xxunk » состоит в том , что , будучи xxunk из самых разных тканей , и с xxunk длиной , оно \n",
       "  может служить роль как повседневной и официальной одежды . « xxmaj xxunk » создаёт впечатление простоты , изящества и xxunk . \n",
       "  xxmaj другой известный вид китайской одежды для мужчин - так называемый « костюм xxmaj сунь xxmaj xxunk » . xxmaj это xxunk \" xxunk \" xxunk xxunk доктора xxmaj сунь xxmaj xxunk - сена ( более известного в xxmaj китае под именем xxmaj сунь xxmaj xxunk ) , которую он не только часто носил сам , но и настоятельно рекомендовал всем гражданам страны . xxmaj когда в 1911 году под предводительством xxmaj сунь xxmaj xxunk - сена xxunk было правление династии xxmaj цин и основана xxmaj китайская xxmaj республика , члены xxmaj национальной партии предложили поменять национальный костюм . в ходе обсуждений было отдано предпочтение повседневной одежде , широко xxunk в провинции xxmaj xxunk , с некоторыми xxunk . в итоге получился xxunk посередине на пять пуговиц xxunk с четырьмя xxunk xxunk и xxunk книзу xxunk . xxmaj он xxunk просто и в то же время официально . xxmaj xxunk совсем немного времени для того , чтобы этот стиль xxunk \n",
       "  xxunk по всей стране . xxmaj таким образом , в основе моделирования мужской и женской одежды сегодня часто просматриваются характерные детали « костюма xxmaj сунь xxmaj xxunk - на » и женского платья « xxunk » . \n",
       "  xxmaj национальные костюмы являются одним из основных этнокультурных источников для современных дизайнеров , богатство и разнообразие этнических xxunk форм , их глубинные связи с историей народа , мифологией и искусством обусловливают особый интерес xxunk и дают все новые варианты освоения национальной одежды . \n",
       "  xxmaj помимо сочетания традиционных деталей с деталями современного кроя , при xxunk одежды используется традиционная xxunk ткань , традиционные рисунки , вышивка и традиционное сочетание цветов и вариантов узоров . xxmaj можно считать , что применение этих элементов - самое xxunk свидетельство того , что благодаря их использованию те , кто приобретают и носят подобную одежду , самым непосредственным образом соприкасаются с богатейшим культурным наследием , которое воплощается в китайской традиционной одежде .,xxbos \n",
       "  xxmaj xxunk ( xxmaj xxunk xxmaj христиан , xxmaj xxunk xxmaj xxunk xxmaj xxunk ) - знаменитый xxunk поэт , родился 2 апреля 1805 г . в xxmaj xxunk , на острове xxmaj xxunk , где жил его отец , бедный xxunk . xxmaj по смерти отца , мать xxunk его , в 1819 г . , в xxmaj xxunk , где он некоторое время очень xxunk , но затем нашел себе покровителей в xxunk консерватории xxmaj xxunk , xxunk xxmaj xxunk , xxunk xxmaj xxunk и xxunk - xxunk xxmaj xxunk . xxmaj при их содействии он вступил в театральное училище , а впоследствии они же доставили ему средства к дальнейшему образованию . xxmaj во время пребывания своего в гимназии , в xxmaj xxunk и xxmaj xxunk , он обратил уже на себя внимание публики несколькими xxunk ; особенный успех имело \" xxmaj das xxunk xxmaj xxunk \" , так что его имя пользовалось уже значительной известностью в 1828 г . , при поступлении его в университет . xxmaj вслед за сим выступил с xxunk рассказом \" xxmaj xxunk vom xxmaj xxunk xxunk zur xxmaj xxunk von xxmaj xxunk \" ( 1829 ) ; с этих пор начинается его обильная поэтическая деятельность , xxunk в целом ряде произведений , написанных им частью на родине , частью во время его многочисленных путешествий . xxmaj стихотворения его , xxunk с 1830 г . неоднократно отдельными изданиями , отличаются большим чувством и богатой фантазией . к ним можно отнести также большой эпический цикл \" xxmaj xxunk xxunk xxmaj xxunk \" ( xxmaj xxunk , 1832 г . ) , драматическое стихотворение \" xxmaj xxunk and der xxmaj xxunk \" ( 1834 ) и эпическое стихотворение \" xxmaj xxunk \" ( 1848 ) . xxmaj из драматических его произведений заслуживают внимания : \" xxmaj der xxmaj xxunk \" ( 1840 ) , \" xxmaj der xxunk auf xxmaj xxunk \" и в особенности \" xxmaj die xxunk xxmaj xxunk \" , которое имело выдающийся успех и xxunk до сих нор на сцене . xxmaj опера xxmaj xxunk \" xxmaj xxunk xxmaj xxunk \" была поставлена впервые в xxmaj xxunk . xxmaj для xxunk xxmaj xxunk написаны им \" xxmaj die xxmaj xxunk xxunk xxmaj xxunk \" и \" xxmaj xxunk \" . xxmaj он написал также несколько пьес для театра xxmaj xxunk в xxmaj xxunk , из коих наиболее xxunk были комедии \" xxmaj ole xxmaj xxunk \" и \" xxmaj xxunk xxmaj xxunk \" , xxunk из сказок . xxmaj между его xxunk занимает выдающееся место \" xxmaj xxunk \" ( 1835 ) . в этом произведении , которое явилось плодом путешествия в xxmaj италию , изображены яркими красками , разнообразная жизнь народа и богатая природа этой страны . xxmaj за ним следовал роман \" xxup о. xxup т. \" ( 1836 ) , в котором изображена весьма удачно жизнь северных народов , затем \" xxmaj xxunk ein xxmaj xxunk \" ( 1837 ) ; многие индивидуальные черты и чисто национальный характер этого произведения свидетельствуют о том , что в основу его легла история собственной жизни автора . в \" xxmaj die xxunk xxmaj xxunk \" ( 1849 ) рисуется xxunk жизнь . xxmaj позднее других написан роман \" xxmaj xxunk xxunk xxunk xxunk \" ( 1857 ) . xxmaj высшее проявление творческой фантазии xxup а. представляют бесспорно сказки : в них ярче всего xxunk все особенности его поэтического дарования . xxmaj его богатой фантазии xxunk тут полный простор ; и свойственные ему xxunk , веселый xxunk и детская наивность xxunk в них ярче , нежели в других его поэтических произведениях . xxmaj первое собрание сказок , xxunk на многие иностранные языки , издано им в 1835 г . xxmaj они были xxunk xxmaj xxunk и впоследствии xxup л. xxmaj xxunk , xxmaj xxunk , xxmaj xxunk и др . xxmaj кроме собрания сказок , \" xxunk \" ( 21 изд . , xxmaj лейпц . , 1880 ) , им изданы также \" xxmaj xxunk xxmaj xxunk xxunk die xxmaj xxunk \" ( xxunk xxmaj xxunk , 17 изд . , xxmaj лейпц . , 1878 ) . xxmaj весьма сходны с xxunk его \" xxmaj xxunk \" , также xxunk xxmaj xxunk ( 1855 ) . xxmaj все они отличаются xxunk сюжета , обилием картин , xxunk xxunk и xxunk . xxmaj большой успех имели также его \" xxmaj xxunk xxunk xxmaj xxunk \" ( на немецком языке , 17 изд . , xxmaj лейпц . , 1879 ) . xxmaj частые путешествия по xxmaj европе , даже в xxmaj малую xxmaj азию и xxmaj африку имели благотворное влияние на его поэтическую деятельность . xxmaj впечатления , xxunk из этих путешествий , изложены им в : \" xxmaj xxunk xxmaj xxunk xxmaj xxunk \" ( 1842 ) , \" xxmaj xxunk \" ( 1831 ) , \" xxmaj in xxmaj xxunk \" ( xxunk xxmaj свою жизнь xxup а. описал сам сначала на немецком языке в \" xxmaj das xxmaj xxunk xxunk xxmaj xxunk \" ( 2 т . , xxmaj лейпц . , 1847 , xxunk по смерти его xxmaj xxunk xxmaj xxunk , 2 т . , xxmaj берл . , 1879 ) , и более xxunk на xxunk языке \" xxmaj mit xxmaj xxunk xxmaj xxunk \" ( 1855 ) . xxmaj весною 1861 г . он посетил четвертый раз xxmaj рим , а в 1862 г . главные города xxmaj испании , откуда предпринял поездку в xxmaj африку . xxmaj это путешествие описано им в сочинении : \" xxmaj in xxmaj xxunk \" ( 1863 ) . xxmaj по возвращении из xxmaj африки xxup а. более не xxunk из xxmaj xxunk , xxunk заболел в 1872 г . и умер 4 августа , 1875 г . \" xxmaj собрание сочинений xxmaj xxunk \" издано на xxunk языке в 23 томах ( xxmaj xxunk , 1853 - 62 ) , на немецком языке в 50 томах ( xxmaj лейпц . , 1847 - 72 и под заглавием \" xxmaj xxunk \" , xxmaj лейпц . , 1876 ) . xxmaj сказки xxup а. много раз переводились и издавались на русском языке . в 1880 г . издан xxunk . его \" xxmaj xxunk xxunk xxmaj xxunk \" .,xxbos xxmaj на место происшествия также судах xxup вмс xxup сша сделал на сайте московской полиции . ) , который был найден примерно в феврале 2008 года в причастности к нему люди знают , что в районе станции xxmaj михаил xxmaj зотов . 35-летний ранее на сайте телепрограммы \" xxmaj вести \" . xxmaj события , разворачивающиеся на сайте финансового обеспечения ( xxup пмто ) был найден примерно в ходе процесса оказывают пользователи , которые в доме в ходе расследования и другие мои коллеги \" , - не являются клетками раковой опухоли ( у которых присутствуют поцелуи и другие с начала года в понедельник , 18 октября . xxmaj пользователям соцсети показалось странным , что это может хотя официально в ходе расследования и xxmaj евросоюз счел недемократичными . xxmaj свой первый материал , вышедший 27 машин соответственно . xxmaj кроме того , как передает xxup bbc . xxmaj об этом в феврале текущего года немецкая железнодорожная госкомпания выделила все обстоятельства xxup чп расследует прибывшая в xxmaj россии в частности , могут привести к административной ответственности . xxmaj съемки картины стартуют 9 июня начала вооруженного конфликта на сайте www . xxmaj по словам собеседника агентства , xxmaj мигитдинов со счетом 6:4 , 6:1 обыграл француза xxmaj фабриса xxmaj санторо . в апреле на сайте полиции , интервью политика будет создан специальный аналитический отдел по всей стране , включая остров xxmaj шикотан сотрудники патрульно - постовой службы ( xxup фас ) xxmaj анатолий xxmaj голомолзин признал , что в ходе своего выхода оригинальной ленты . xxmaj напомним , что в xxup рф в том числе кандидатов для него \" шокирующим обстоятельством \" . xxmaj так , долгосрочные вложения в ночь на сайте телепрограммы \" xxmaj вести \" . xxmaj события , разворачивающиеся на сайте arxiv . \" состав эскадры достаточно внушителен - сказал глава xxup gm xxmaj рик xxmaj вагонер . \" еще до сих пор не только в качестве обвиняемого был лауреатом xxmaj государственной премии xxup рсфср имени xxmaj гав \" , вернулись из них ? резюмировал премьер . xxmaj нападавшие скрылись с начала года в ночь на сайте xxmaj следственного комитета xxmaj мосгордумы по всей xxmaj россии . xxmaj владимир xxmaj путин подписал президент xxmaj владимир xxmaj путин отменил запрет на сайте www . xxmaj по его словам , последнюю неделю в ходе расследования и не сообщалось . xxmaj статья 621 xxup гк предоставляет арендатору помещения преимущественное право на сайте xxmaj российской xxmaj федерации 1978 года в ходе расследования и патриотизма \" . \" наша задача ? московским \" xxmaj локомотивом \" . в начале этой ситуацией и не может быть не являются клетками раковой опухоли ( у которых нет - сказал министр . xxmaj американской версии обновленного поколения \" xxmaj северодвинск \" проекта спутникового интернета ? xxmaj эфир ? , который был взят под стражей . xxmaj сарапульский городской среды ? ) , планируется , в ходе избирательных кампаний стало известно , что в феврале 2011 года . xxmaj здесь задачи решены только на сайте arxiv . \" состав эскадры достаточно внушителен - отметил он . xxmaj крым вошел в ходе допросов сообщали заключенные . xxmaj за 2010 года . xxmaj траньков живет в ходе расследования и не только 40 процентов дороже , чем в ходе расследования дела стало обычным явлением , когда у него попасть , необходимо провести проверку подобных медицинских учреждений по всей xxmaj россии . xxmaj владимир xxmaj путин отменил запрет является далеко не .,xxbos xxmaj они похожи на нём изображён пожилой человек с белыми лепестками и в сотни километров в лесу через ручей перекинули три или на военную службу . xxmaj обычно её природы , хозяйства , истории , быта людей . xxmaj но тот посмотрел на нём можно различить хлопанье крыльев . xxmaj ведь весна пришла ! ( 57)наступило лето . к ним идёт более одного грамма . xxmaj но в длину нескольких десятков тысяч свечей . ( 67)олег отдыхает летом дети с папой и в xxmaj россию и на всех нападает . xxmaj увидели кольца xxmaj планеты xxmaj сатурн . xxmaj все они движутся со скоростью реактивных самолётов . xxmaj из - под земли на всех странах существуют специальные устройства для справок : решили , огород , редис , кабачки . xxmaj это xxmaj димин пра?дедушка . xxmaj для их стволов ещё некоторые . ( 68)вы почти наверняка видели большого мохнатого сенбернара . xxmaj изредка нападает выдра по берегам рек . у неё особый сладковатый запах . xxmaj здесь сражаются теннисисты . xxmaj но с мамой укрылись на нём пресная . xxmaj он образуется ещё белеют маленькие опавшие лепестки . xxmaj гром грохо?тал почти стоэтажный дом . ( 63)в холодных морях встречаются места , где есть брат xxmaj боря . ( 58)было погожее январское утро . xxmaj ядро состоит из самых лучших спектаклях . у неё есть много волков зани?мает большой охотничий район . xxmaj на поверхность выходит из архивных документов . ( 84)почти во сне ушами . xxmaj потом он выбирает так , чтобы поблизости обя?зательно был запущен четвёртого месяца началась сильная жара . xxmaj под действием ветра на нём можно увидеть в начале каждого месяца началась гроза . xxmaj основную пищу белок зависит от него мощное и массивная задняя часть . xxmaj так она может поместиться корабль . xxmaj гена и даже зимой . ( 67)в двадцатом веке поймали щуку весом больше метра . ( 156)в xxmaj подмосковье насчитывалось более одного до xxmaj индийского . xxmaj на островах и в сорок этажей ! xxmaj папа и увидели причудливые песчаные холмы . xxmaj лещ достигает в пресных водах . в лесу протекает широкий ручей . а вот и в жаркий день . xxmaj иногда большие небесные тела . xxmaj короткий бархатистый мех серого цвета . xxmaj дима попросил папу рассказать про этого строят хатки . xxmaj потом мальчик снова стать гроссмейстером . xxmaj их называют вершиной .,xxbos \n",
       "  xxmaj xxunk - так называется по терминологии , xxunk английским xxunk xxmaj xxunk в учение об xxunk ( в 1832 г . ) , одна из двух металлических пластинок или xxunk , по которым вступает или выходит из жидкости xxunk ток . xxmaj обе пластинки носят название xxunk . xxmaj та из них , по которой вступает положительный xxunk ток , называется xxunk ( положительным полюсом ) , другая , по которой ток опять выходит - xxunk ( отрицательным полюсом ) . xxmaj как в простой , так и в составной гальванической цепи ( в элементе , xxunk ) xxunk , xxunk от крайнего свободного цинка , представляет xxunk , xxunk же от другого крайнего полюса xxunk . элемента или батареи - xxunk .\n",
       "y: FloatList\n",
       "1.0,0.0,0.0,0.0,0.0\n",
       "Path: .;\n",
       "\n",
       "Test: None, model=SequentialRNN(\n",
       "  (0): MultiBatchEncoder(\n",
       "    (module): AWD_LSTM(\n",
       "      (encoder): Embedding(60000, 400, padding_idx=1)\n",
       "      (encoder_dp): EmbeddingDropout(\n",
       "        (emb): Embedding(60000, 400, padding_idx=1)\n",
       "      )\n",
       "      (rnns): ModuleList(\n",
       "        (0): WeightDropout(\n",
       "          (module): LSTM(400, 1150, batch_first=True)\n",
       "        )\n",
       "        (1): WeightDropout(\n",
       "          (module): LSTM(1150, 1150, batch_first=True)\n",
       "        )\n",
       "        (2): WeightDropout(\n",
       "          (module): LSTM(1150, 400, batch_first=True)\n",
       "        )\n",
       "      )\n",
       "      (input_dp): RNNDropout()\n",
       "      (hidden_dps): ModuleList(\n",
       "        (0): RNNDropout()\n",
       "        (1): RNNDropout()\n",
       "        (2): RNNDropout()\n",
       "      )\n",
       "    )\n",
       "  )\n",
       "  (1): PoolingLinearClassifier(\n",
       "    (layers): Sequential(\n",
       "      (0): BatchNorm1d(1200, eps=1e-05, momentum=0.1, affine=True, track_running_stats=True)\n",
       "      (1): Dropout(p=0.2, inplace=False)\n",
       "      (2): Linear(in_features=1200, out_features=50, bias=True)\n",
       "      (3): ReLU(inplace=True)\n",
       "      (4): BatchNorm1d(50, eps=1e-05, momentum=0.1, affine=True, track_running_stats=True)\n",
       "      (5): Dropout(p=0.1, inplace=False)\n",
       "      (6): Linear(in_features=50, out_features=1, bias=True)\n",
       "    )\n",
       "  )\n",
       "), opt_func=functools.partial(<class 'torch.optim.adam.Adam'>, betas=(0.9, 0.99)), loss_func=FlattenedLoss of MSELoss(), metrics=[], true_wd=True, bn_wd=True, wd=0.01, train_bn=True, path=PosixPath('.'), model_dir='models', callback_fns=[functools.partial(<class 'fastai.basic_train.Recorder'>, add_time=True, silent=False)], callbacks=[...], layer_groups=[Sequential(\n",
       "  (0): Embedding(60000, 400, padding_idx=1)\n",
       "  (1): EmbeddingDropout(\n",
       "    (emb): Embedding(60000, 400, padding_idx=1)\n",
       "  )\n",
       "), Sequential(\n",
       "  (0): WeightDropout(\n",
       "    (module): LSTM(400, 1150, batch_first=True)\n",
       "  )\n",
       "  (1): RNNDropout()\n",
       "), Sequential(\n",
       "  (0): WeightDropout(\n",
       "    (module): LSTM(1150, 1150, batch_first=True)\n",
       "  )\n",
       "  (1): RNNDropout()\n",
       "), Sequential(\n",
       "  (0): WeightDropout(\n",
       "    (module): LSTM(1150, 400, batch_first=True)\n",
       "  )\n",
       "  (1): RNNDropout()\n",
       "), Sequential(\n",
       "  (0): PoolingLinearClassifier(\n",
       "    (layers): Sequential(\n",
       "      (0): BatchNorm1d(1200, eps=1e-05, momentum=0.1, affine=True, track_running_stats=True)\n",
       "      (1): Dropout(p=0.2, inplace=False)\n",
       "      (2): Linear(in_features=1200, out_features=50, bias=True)\n",
       "      (3): ReLU(inplace=True)\n",
       "      (4): BatchNorm1d(50, eps=1e-05, momentum=0.1, affine=True, track_running_stats=True)\n",
       "      (5): Dropout(p=0.1, inplace=False)\n",
       "      (6): Linear(in_features=50, out_features=1, bias=True)\n",
       "    )\n",
       "  )\n",
       ")], add_time=True, silent=False)\n",
       "alpha: 2.0\n",
       "beta: 1.0], layer_groups=[Sequential(\n",
       "  (0): Embedding(60000, 400, padding_idx=1)\n",
       "  (1): EmbeddingDropout(\n",
       "    (emb): Embedding(60000, 400, padding_idx=1)\n",
       "  )\n",
       "), Sequential(\n",
       "  (0): WeightDropout(\n",
       "    (module): LSTM(400, 1150, batch_first=True)\n",
       "  )\n",
       "  (1): RNNDropout()\n",
       "), Sequential(\n",
       "  (0): WeightDropout(\n",
       "    (module): LSTM(1150, 1150, batch_first=True)\n",
       "  )\n",
       "  (1): RNNDropout()\n",
       "), Sequential(\n",
       "  (0): WeightDropout(\n",
       "    (module): LSTM(1150, 400, batch_first=True)\n",
       "  )\n",
       "  (1): RNNDropout()\n",
       "), Sequential(\n",
       "  (0): PoolingLinearClassifier(\n",
       "    (layers): Sequential(\n",
       "      (0): BatchNorm1d(1200, eps=1e-05, momentum=0.1, affine=True, track_running_stats=True)\n",
       "      (1): Dropout(p=0.2, inplace=False)\n",
       "      (2): Linear(in_features=1200, out_features=50, bias=True)\n",
       "      (3): ReLU(inplace=True)\n",
       "      (4): BatchNorm1d(50, eps=1e-05, momentum=0.1, affine=True, track_running_stats=True)\n",
       "      (5): Dropout(p=0.1, inplace=False)\n",
       "      (6): Linear(in_features=50, out_features=1, bias=True)\n",
       "    )\n",
       "  )\n",
       ")], add_time=True, silent=False)"
      ]
     },
     "execution_count": 77,
     "metadata": {
      "tags": []
     },
     "output_type": "execute_result"
    }
   ],
   "source": [
    "learn_test.load_encoder('ft_enc')\n",
    "learn_test.load('test-0801')"
   ]
  },
  {
   "cell_type": "code",
   "execution_count": null,
   "metadata": {
    "colab": {
     "base_uri": "https://localhost:8080/",
     "height": 35
    },
    "colab_type": "code",
    "id": "_p_LXkPwaqRV",
    "outputId": "83d1c457-b27e-4e2f-a754-3a38a8a63375"
   },
   "outputs": [
    {
     "data": {
      "text/html": [],
      "text/plain": [
       "<IPython.core.display.HTML object>"
      ]
     },
     "metadata": {
      "tags": []
     },
     "output_type": "display_data"
    },
    {
     "data": {
      "text/plain": [
       "[0.010036545]"
      ]
     },
     "execution_count": 78,
     "metadata": {
      "tags": []
     },
     "output_type": "execute_result"
    }
   ],
   "source": [
    "learn_test.validate()"
   ]
  },
  {
   "cell_type": "markdown",
   "metadata": {
    "colab_type": "text",
    "id": "3nt7tx2ma0bM"
   },
   "source": [
    "# Метрики"
   ]
  },
  {
   "cell_type": "code",
   "execution_count": null,
   "metadata": {
    "colab": {
     "base_uri": "https://localhost:8080/",
     "height": 240
    },
    "colab_type": "code",
    "id": "mwXSOse2azUq",
    "outputId": "d5dac8c9-a451-4c39-8804-f4ae8c678c19"
   },
   "outputs": [
    {
     "ename": "IndexError",
     "evalue": "ignored",
     "output_type": "error",
     "traceback": [
      "\u001b[0;31m---------------------------------------------------------------------------\u001b[0m",
      "\u001b[0;31mIndexError\u001b[0m                                Traceback (most recent call last)",
      "\u001b[0;32m<ipython-input-80-1b023522a887>\u001b[0m in \u001b[0;36m<module>\u001b[0;34m()\u001b[0m\n\u001b[0;32m----> 1\u001b[0;31m \u001b[0mneg_precision\u001b[0m \u001b[0;34m=\u001b[0m \u001b[0minterp\u001b[0m\u001b[0;34m.\u001b[0m\u001b[0mconfusion_matrix\u001b[0m\u001b[0;34m(\u001b[0m\u001b[0;34m)\u001b[0m\u001b[0;34m[\u001b[0m\u001b[0;36m0\u001b[0m\u001b[0;34m]\u001b[0m\u001b[0;34m[\u001b[0m\u001b[0;36m0\u001b[0m\u001b[0;34m]\u001b[0m \u001b[0;34m/\u001b[0m \u001b[0;34m(\u001b[0m\u001b[0minterp\u001b[0m\u001b[0;34m.\u001b[0m\u001b[0mconfusion_matrix\u001b[0m\u001b[0;34m(\u001b[0m\u001b[0;34m)\u001b[0m\u001b[0;34m[\u001b[0m\u001b[0;36m0\u001b[0m\u001b[0;34m]\u001b[0m\u001b[0;34m[\u001b[0m\u001b[0;36m0\u001b[0m\u001b[0;34m]\u001b[0m \u001b[0;34m+\u001b[0m \u001b[0minterp\u001b[0m\u001b[0;34m.\u001b[0m\u001b[0mconfusion_matrix\u001b[0m\u001b[0;34m(\u001b[0m\u001b[0;34m)\u001b[0m\u001b[0;34m[\u001b[0m\u001b[0;36m1\u001b[0m\u001b[0;34m]\u001b[0m\u001b[0;34m[\u001b[0m\u001b[0;36m0\u001b[0m\u001b[0;34m]\u001b[0m\u001b[0;34m)\u001b[0m\u001b[0;34m\u001b[0m\u001b[0;34m\u001b[0m\u001b[0m\n\u001b[0m\u001b[1;32m      2\u001b[0m \u001b[0mneg_recall\u001b[0m \u001b[0;34m=\u001b[0m \u001b[0minterp\u001b[0m\u001b[0;34m.\u001b[0m\u001b[0mconfusion_matrix\u001b[0m\u001b[0;34m(\u001b[0m\u001b[0;34m)\u001b[0m\u001b[0;34m[\u001b[0m\u001b[0;36m0\u001b[0m\u001b[0;34m]\u001b[0m\u001b[0;34m[\u001b[0m\u001b[0;36m0\u001b[0m\u001b[0;34m]\u001b[0m \u001b[0;34m/\u001b[0m \u001b[0;34m(\u001b[0m\u001b[0minterp\u001b[0m\u001b[0;34m.\u001b[0m\u001b[0mconfusion_matrix\u001b[0m\u001b[0;34m(\u001b[0m\u001b[0;34m)\u001b[0m\u001b[0;34m[\u001b[0m\u001b[0;36m0\u001b[0m\u001b[0;34m]\u001b[0m\u001b[0;34m[\u001b[0m\u001b[0;36m0\u001b[0m\u001b[0;34m]\u001b[0m \u001b[0;34m+\u001b[0m \u001b[0minterp\u001b[0m\u001b[0;34m.\u001b[0m\u001b[0mconfusion_matrix\u001b[0m\u001b[0;34m(\u001b[0m\u001b[0;34m)\u001b[0m\u001b[0;34m[\u001b[0m\u001b[0;36m0\u001b[0m\u001b[0;34m]\u001b[0m\u001b[0;34m[\u001b[0m\u001b[0;36m1\u001b[0m\u001b[0;34m]\u001b[0m\u001b[0;34m)\u001b[0m\u001b[0;34m\u001b[0m\u001b[0;34m\u001b[0m\u001b[0m\n\u001b[1;32m      3\u001b[0m \u001b[0mpos_precision\u001b[0m \u001b[0;34m=\u001b[0m \u001b[0minterp\u001b[0m\u001b[0;34m.\u001b[0m\u001b[0mconfusion_matrix\u001b[0m\u001b[0;34m(\u001b[0m\u001b[0;34m)\u001b[0m\u001b[0;34m[\u001b[0m\u001b[0;36m1\u001b[0m\u001b[0;34m]\u001b[0m\u001b[0;34m[\u001b[0m\u001b[0;36m1\u001b[0m\u001b[0;34m]\u001b[0m \u001b[0;34m/\u001b[0m \u001b[0;34m(\u001b[0m\u001b[0minterp\u001b[0m\u001b[0;34m.\u001b[0m\u001b[0mconfusion_matrix\u001b[0m\u001b[0;34m(\u001b[0m\u001b[0;34m)\u001b[0m\u001b[0;34m[\u001b[0m\u001b[0;36m1\u001b[0m\u001b[0;34m]\u001b[0m\u001b[0;34m[\u001b[0m\u001b[0;36m1\u001b[0m\u001b[0;34m]\u001b[0m \u001b[0;34m+\u001b[0m \u001b[0minterp\u001b[0m\u001b[0;34m.\u001b[0m\u001b[0mconfusion_matrix\u001b[0m\u001b[0;34m(\u001b[0m\u001b[0;34m)\u001b[0m\u001b[0;34m[\u001b[0m\u001b[0;36m0\u001b[0m\u001b[0;34m]\u001b[0m\u001b[0;34m[\u001b[0m\u001b[0;36m1\u001b[0m\u001b[0;34m]\u001b[0m\u001b[0;34m)\u001b[0m\u001b[0;34m\u001b[0m\u001b[0;34m\u001b[0m\u001b[0m\n\u001b[1;32m      4\u001b[0m \u001b[0mpos_recall\u001b[0m \u001b[0;34m=\u001b[0m \u001b[0minterp\u001b[0m\u001b[0;34m.\u001b[0m\u001b[0mconfusion_matrix\u001b[0m\u001b[0;34m(\u001b[0m\u001b[0;34m)\u001b[0m\u001b[0;34m[\u001b[0m\u001b[0;36m1\u001b[0m\u001b[0;34m]\u001b[0m\u001b[0;34m[\u001b[0m\u001b[0;36m1\u001b[0m\u001b[0;34m]\u001b[0m \u001b[0;34m/\u001b[0m \u001b[0;34m(\u001b[0m\u001b[0minterp\u001b[0m\u001b[0;34m.\u001b[0m\u001b[0mconfusion_matrix\u001b[0m\u001b[0;34m(\u001b[0m\u001b[0;34m)\u001b[0m\u001b[0;34m[\u001b[0m\u001b[0;36m1\u001b[0m\u001b[0;34m]\u001b[0m\u001b[0;34m[\u001b[0m\u001b[0;36m1\u001b[0m\u001b[0;34m]\u001b[0m \u001b[0;34m+\u001b[0m \u001b[0minterp\u001b[0m\u001b[0;34m.\u001b[0m\u001b[0mconfusion_matrix\u001b[0m\u001b[0;34m(\u001b[0m\u001b[0;34m)\u001b[0m\u001b[0;34m[\u001b[0m\u001b[0;36m1\u001b[0m\u001b[0;34m]\u001b[0m\u001b[0;34m[\u001b[0m\u001b[0;36m0\u001b[0m\u001b[0;34m]\u001b[0m\u001b[0;34m)\u001b[0m\u001b[0;34m\u001b[0m\u001b[0;34m\u001b[0m\u001b[0m\n\u001b[1;32m      5\u001b[0m \u001b[0mneg_f1score\u001b[0m \u001b[0;34m=\u001b[0m \u001b[0;36m2\u001b[0m \u001b[0;34m*\u001b[0m \u001b[0;34m(\u001b[0m\u001b[0mneg_precision\u001b[0m \u001b[0;34m*\u001b[0m \u001b[0mneg_recall\u001b[0m\u001b[0;34m)\u001b[0m \u001b[0;34m/\u001b[0m \u001b[0;34m(\u001b[0m\u001b[0mneg_precision\u001b[0m \u001b[0;34m+\u001b[0m \u001b[0mneg_recall\u001b[0m\u001b[0;34m)\u001b[0m\u001b[0;34m\u001b[0m\u001b[0;34m\u001b[0m\u001b[0m\n",
      "\u001b[0;31mIndexError\u001b[0m: index 1 is out of bounds for axis 0 with size 1"
     ]
    }
   ],
   "source": [
    "neg_precision = interp.confusion_matrix()[0][0] / (interp.confusion_matrix()[0][0] + interp.confusion_matrix()[1][0])\n",
    "neg_recall = interp.confusion_matrix()[0][0] / (interp.confusion_matrix()[0][0] + interp.confusion_matrix()[0][1])\n",
    "pos_precision = interp.confusion_matrix()[1][1] / (interp.confusion_matrix()[1][1] + interp.confusion_matrix()[0][1])\n",
    "pos_recall = interp.confusion_matrix()[1][1] / (interp.confusion_matrix()[1][1] + interp.confusion_matrix()[1][0])\n",
    "neg_f1score = 2 * (neg_precision * neg_recall) / (neg_precision + neg_recall)\n",
    "pos_f1score = 2 * (pos_precision * pos_recall) / (pos_precision + pos_recall)"
   ]
  },
  {
   "cell_type": "code",
   "execution_count": null,
   "metadata": {
    "colab": {
     "base_uri": "https://localhost:8080/",
     "height": 258
    },
    "colab_type": "code",
    "id": "gGYHfgQcaz16",
    "outputId": "ccc5dde1-86be-4d7d-9d31-6ac6fde6c5fd"
   },
   "outputs": [
    {
     "name": "stdout",
     "output_type": "stream",
     "text": [
      "Метка класса   Точность   Полнота   F1-score\n"
     ]
    },
    {
     "ename": "NameError",
     "evalue": "ignored",
     "output_type": "error",
     "traceback": [
      "\u001b[0;31m---------------------------------------------------------------------------\u001b[0m",
      "\u001b[0;31mNameError\u001b[0m                                 Traceback (most recent call last)",
      "\u001b[0;32m<ipython-input-81-903ec22ed2f3>\u001b[0m in \u001b[0;36m<module>\u001b[0;34m()\u001b[0m\n\u001b[1;32m      1\u001b[0m \u001b[0mprint\u001b[0m\u001b[0;34m(\u001b[0m\u001b[0;34m'Метка класса   Точность   Полнота   F1-score'\u001b[0m\u001b[0;34m)\u001b[0m\u001b[0;34m\u001b[0m\u001b[0;34m\u001b[0m\u001b[0m\n\u001b[0;32m----> 2\u001b[0;31m \u001b[0mprint\u001b[0m\u001b[0;34m(\u001b[0m\u001b[0;34m'    Negative   {0:1.5f}    {1:1.5f}   {2:1.5f}'\u001b[0m\u001b[0;34m.\u001b[0m\u001b[0mformat\u001b[0m\u001b[0;34m(\u001b[0m\u001b[0mneg_precision\u001b[0m\u001b[0;34m,\u001b[0m \u001b[0mneg_recall\u001b[0m\u001b[0;34m,\u001b[0m \u001b[0mneg_f1score\u001b[0m\u001b[0;34m)\u001b[0m\u001b[0;34m)\u001b[0m\u001b[0;34m\u001b[0m\u001b[0;34m\u001b[0m\u001b[0m\n\u001b[0m\u001b[1;32m      3\u001b[0m \u001b[0mprint\u001b[0m\u001b[0;34m(\u001b[0m\u001b[0;34m'    Positive   {0:1.5f}    {1:1.5f}   {2:1.5f}'\u001b[0m\u001b[0;34m.\u001b[0m\u001b[0mformat\u001b[0m\u001b[0;34m(\u001b[0m\u001b[0mpos_precision\u001b[0m\u001b[0;34m,\u001b[0m \u001b[0mpos_recall\u001b[0m\u001b[0;34m,\u001b[0m \u001b[0mpos_f1score\u001b[0m\u001b[0;34m)\u001b[0m\u001b[0;34m)\u001b[0m\u001b[0;34m\u001b[0m\u001b[0;34m\u001b[0m\u001b[0m\n\u001b[1;32m      4\u001b[0m print('    Average    {0:1.5f}    {1:1.5f}   {2:1.5f}'.format(statistics.mean([neg_precision, pos_precision]), \n\u001b[1;32m      5\u001b[0m                                                               \u001b[0mstatistics\u001b[0m\u001b[0;34m.\u001b[0m\u001b[0mmean\u001b[0m\u001b[0;34m(\u001b[0m\u001b[0;34m[\u001b[0m\u001b[0mneg_recall\u001b[0m\u001b[0;34m,\u001b[0m \u001b[0mpos_recall\u001b[0m\u001b[0;34m]\u001b[0m\u001b[0;34m)\u001b[0m\u001b[0;34m,\u001b[0m\u001b[0;34m\u001b[0m\u001b[0;34m\u001b[0m\u001b[0m\n",
      "\u001b[0;31mNameError\u001b[0m: name 'neg_precision' is not defined"
     ]
    }
   ],
   "source": [
    "print('Метка класса   Точность   Полнота   F1-score')\n",
    "print('    Negative   {0:1.5f}    {1:1.5f}   {2:1.5f}'.format(neg_precision, neg_recall, neg_f1score))\n",
    "print('    Positive   {0:1.5f}    {1:1.5f}   {2:1.5f}'.format(pos_precision, pos_recall, pos_f1score))\n",
    "print('    Average    {0:1.5f}    {1:1.5f}   {2:1.5f}'.format(statistics.mean([neg_precision, pos_precision]), \n",
    "                                                              statistics.mean([neg_recall, pos_recall]), \n",
    "                                                              statistics.mean([neg_f1score, pos_f1score])))"
   ]
  }
 ],
 "metadata": {
  "accelerator": "GPU",
  "colab": {
   "collapsed_sections": [],
   "name": "keras_text_classification_model.ipynb",
   "provenance": [],
   "toc_visible": true
  },
  "kernelspec": {
   "display_name": "Python 3",
   "language": "python",
   "name": "python3"
  },
  "language_info": {
   "codemirror_mode": {
    "name": "ipython",
    "version": 3
   },
   "file_extension": ".py",
   "mimetype": "text/x-python",
   "name": "python",
   "nbconvert_exporter": "python",
   "pygments_lexer": "ipython3",
   "version": "3.7.4"
  }
 },
 "nbformat": 4,
 "nbformat_minor": 4
}
